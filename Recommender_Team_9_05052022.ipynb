{
  "cells": [
    {
      "cell_type": "markdown",
      "metadata": {
        "id": "CXm4i_En2veC"
      },
      "source": [
        "\n",
        "\n",
        "# Unsupervised Learning Predict Student Solution\n",
        "\n",
        "© Explore Data Science Academy\n",
        "\n",
        "---\n",
        "### Honour Code\n",
        "\n",
        "We, **Team 9**, confirm - by submitting this document - that the solutions in this notebook are a result of my own work and that I abide by the [EDSA honour code](https://drive.google.com/file/d/1QDCjGZJ8-FmJE3bZdIQNwnJyQKPhHZBn/view?usp=sharing).\n",
        "\n",
        "Non-compliance with the honour code constitutes a material breach of contract.\n",
        "\n",
        "\n",
        "\n",
        "### Predict Overview: EDSA Movie Recommendation 2022\n",
        "\n",
        "The global movie industry is a multi-billion dollar industry. According to <a href=\"https://www.forbes.com/sites/bradadgate/2022/03/17/overview-of-the-entertainment-market-in-2021-coming-out-of-covid-19/?sh=2e3d5f94519c\">Forbes</a>, a total revenue of 36.8 billion USD was made in the US entertainment (home and mobile) market in 2021. This market consist of digital and physical (discs), as well as the theatrical market, and the revenue accounted for a year-over-year increase of 14%, a figure that surpassed the record 36.1 billion USD in 2019.\n",
        "\n",
        "When pay TV subscriptions were included the revenue for the entertainment market jumped to $133.5 billion, and this represents a slight drop-off from revenue in 2020 (133.7 billion USD). This is a clear indication that pay TV subscritions are the biggest revenue generating facet of the movie industry.\n",
        "\n",
        "Globally, in 2021, the home, mobile and theatrical market totaled $99.7 billion in revenue, while when pay TV subscription was included, the entertainment market reached 328.2 billion USD in revenue. According to the 2021 report by The Motion Picture Association in the US, there were 135 streaming video providers in the U.S. offering movies and television shows to viewers, with Netlix being a major player.\n",
        "\n",
        "Providers of streaming services heavily depend on movie recommendation algorithms. The Netflix Recommendation Engine is the most succesful of these algorithms. It’s so accurate that 80% of Netflix viewer activity is driven by personalised recommendations from the engine. It’s estimated that the Netflix recommendation Engine saves Netflix <a href=\"https://www.lighthouselabs.ca/en/blog/how-netflix-uses-data-to-optimize-their-product#:~:text=The%20Netflix%20Recommendation%20Engine&text=It's%20so%20accurate%20that%2080,is%20driven%20by%20personalised%20recommendations.\">over $1 billion per year</a>.\n",
        "\n",
        "Providers of streaming services are in a race to optimize the performance of their movie recommendation algorithm such the it performs as good or even better than the Netflix Recommendation Engine; therefore, develeping a good movie recommendation system come with enormous economic gains.  As a team, we intend to develope a recommendation algorithm based on content or collaborative filtering, that is capable of accurately predicting how a user will rate a movie they have not yet viewed, based on their historical preferences. The will enable our algorithm to recommend movies that users will most likly rate high and want to watch."
      ]
    },
    {
      "cell_type": "markdown",
      "source": [
        "##   Data Overview"
      ],
      "metadata": {
        "id": "m1kqtWsbrGwS"
      }
    },
    {
      "cell_type": "markdown",
      "source": [
        "This dataset consists of several million 5-star ratings obtained from users of the online MovieLens movie recommendation service. "
      ],
      "metadata": {
        "id": "ZK-YBjprrLiJ"
      }
    },
    {
      "cell_type": "markdown",
      "metadata": {
        "id": "6iteiKxF_2ln"
      },
      "source": [
        " <a id=\"one\"></a>\n",
        "# **1. Importing Packages**\n",
        "<a href=#cont>Back to Table of Contents</a>\n",
        "\n",
        "---\n",
        "    \n",
        "| ⚡ Description: Importing Packages ⚡ |\n",
        "| :--------------------------- |\n",
        "| In this section, we import and briefly discuss the libraries that will be used throughout your analysis and modelling. |\n",
        "\n",
        "---"
      ]
    },
    {
      "cell_type": "code",
      "execution_count": 3,
      "metadata": {
        "id": "0Fc3ykKY2VSg",
        "colab": {
          "base_uri": "https://localhost:8080/"
        },
        "outputId": "e99e2186-5226-496d-ba95-0ebc48dd1634"
      },
      "outputs": [
        {
          "output_type": "stream",
          "name": "stdout",
          "text": [
            "Collecting comet-ml\n",
            "  Downloading comet_ml-3.30.0-py2.py3-none-any.whl (347 kB)\n",
            "\u001b[?25l\r\u001b[K     |█                               | 10 kB 18.7 MB/s eta 0:00:01\r\u001b[K     |█▉                              | 20 kB 14.2 MB/s eta 0:00:01\r\u001b[K     |██▉                             | 30 kB 10.1 MB/s eta 0:00:01\r\u001b[K     |███▊                            | 40 kB 9.1 MB/s eta 0:00:01\r\u001b[K     |████▊                           | 51 kB 4.7 MB/s eta 0:00:01\r\u001b[K     |█████▋                          | 61 kB 5.5 MB/s eta 0:00:01\r\u001b[K     |██████▋                         | 71 kB 5.6 MB/s eta 0:00:01\r\u001b[K     |███████▌                        | 81 kB 4.3 MB/s eta 0:00:01\r\u001b[K     |████████▌                       | 92 kB 4.8 MB/s eta 0:00:01\r\u001b[K     |█████████▍                      | 102 kB 5.3 MB/s eta 0:00:01\r\u001b[K     |██████████▍                     | 112 kB 5.3 MB/s eta 0:00:01\r\u001b[K     |███████████▎                    | 122 kB 5.3 MB/s eta 0:00:01\r\u001b[K     |████████████▎                   | 133 kB 5.3 MB/s eta 0:00:01\r\u001b[K     |█████████████▏                  | 143 kB 5.3 MB/s eta 0:00:01\r\u001b[K     |██████████████▏                 | 153 kB 5.3 MB/s eta 0:00:01\r\u001b[K     |███████████████                 | 163 kB 5.3 MB/s eta 0:00:01\r\u001b[K     |████████████████                | 174 kB 5.3 MB/s eta 0:00:01\r\u001b[K     |█████████████████               | 184 kB 5.3 MB/s eta 0:00:01\r\u001b[K     |██████████████████              | 194 kB 5.3 MB/s eta 0:00:01\r\u001b[K     |██████████████████▉             | 204 kB 5.3 MB/s eta 0:00:01\r\u001b[K     |███████████████████▉            | 215 kB 5.3 MB/s eta 0:00:01\r\u001b[K     |████████████████████▊           | 225 kB 5.3 MB/s eta 0:00:01\r\u001b[K     |█████████████████████▊          | 235 kB 5.3 MB/s eta 0:00:01\r\u001b[K     |██████████████████████▋         | 245 kB 5.3 MB/s eta 0:00:01\r\u001b[K     |███████████████████████▋        | 256 kB 5.3 MB/s eta 0:00:01\r\u001b[K     |████████████████████████▌       | 266 kB 5.3 MB/s eta 0:00:01\r\u001b[K     |█████████████████████████▌      | 276 kB 5.3 MB/s eta 0:00:01\r\u001b[K     |██████████████████████████▍     | 286 kB 5.3 MB/s eta 0:00:01\r\u001b[K     |███████████████████████████▍    | 296 kB 5.3 MB/s eta 0:00:01\r\u001b[K     |████████████████████████████▎   | 307 kB 5.3 MB/s eta 0:00:01\r\u001b[K     |█████████████████████████████▎  | 317 kB 5.3 MB/s eta 0:00:01\r\u001b[K     |██████████████████████████████▏ | 327 kB 5.3 MB/s eta 0:00:01\r\u001b[K     |███████████████████████████████▏| 337 kB 5.3 MB/s eta 0:00:01\r\u001b[K     |████████████████████████████████| 347 kB 5.3 MB/s \n",
            "\u001b[?25hRequirement already satisfied: nvidia-ml-py3>=7.352.0 in /usr/local/lib/python3.7/dist-packages (from comet-ml) (7.352.0)\n",
            "Collecting websocket-client>=0.55.0\n",
            "  Downloading websocket_client-1.3.2-py3-none-any.whl (54 kB)\n",
            "\u001b[K     |████████████████████████████████| 54 kB 2.4 MB/s \n",
            "\u001b[?25hRequirement already satisfied: six in /usr/local/lib/python3.7/dist-packages (from comet-ml) (1.15.0)\n",
            "Requirement already satisfied: requests>=2.18.4 in /usr/local/lib/python3.7/dist-packages (from comet-ml) (2.23.0)\n",
            "Collecting dulwich!=0.20.33,>=0.20.6\n",
            "  Downloading dulwich-0.20.35-cp37-cp37m-manylinux_2_5_x86_64.manylinux1_x86_64.manylinux_2_12_x86_64.manylinux2010_x86_64.whl (551 kB)\n",
            "\u001b[K     |████████████████████████████████| 551 kB 2.9 MB/s \n",
            "\u001b[?25hCollecting requests-toolbelt>=0.8.0\n",
            "  Downloading requests_toolbelt-0.9.1-py2.py3-none-any.whl (54 kB)\n",
            "\u001b[K     |████████████████████████████████| 54 kB 2.7 MB/s \n",
            "\u001b[?25hCollecting everett[ini]>=1.0.1\n",
            "  Downloading everett-3.0.0-py2.py3-none-any.whl (35 kB)\n",
            "Collecting wurlitzer>=1.0.2\n",
            "  Downloading wurlitzer-3.0.2-py3-none-any.whl (7.3 kB)\n",
            "Collecting semantic-version>=2.8.0\n",
            "  Downloading semantic_version-2.9.0-py2.py3-none-any.whl (15 kB)\n",
            "Requirement already satisfied: jsonschema!=3.1.0,>=2.6.0 in /usr/local/lib/python3.7/dist-packages (from comet-ml) (4.3.3)\n",
            "Requirement already satisfied: wrapt>=1.11.2 in /usr/local/lib/python3.7/dist-packages (from comet-ml) (1.14.0)\n",
            "Requirement already satisfied: certifi in /usr/local/lib/python3.7/dist-packages (from dulwich!=0.20.33,>=0.20.6->comet-ml) (2021.10.8)\n",
            "Requirement already satisfied: urllib3>=1.24.1 in /usr/local/lib/python3.7/dist-packages (from dulwich!=0.20.33,>=0.20.6->comet-ml) (1.24.3)\n",
            "Collecting configobj\n",
            "  Downloading configobj-5.0.6.tar.gz (33 kB)\n",
            "Requirement already satisfied: typing-extensions in /usr/local/lib/python3.7/dist-packages (from jsonschema!=3.1.0,>=2.6.0->comet-ml) (4.2.0)\n",
            "Requirement already satisfied: pyrsistent!=0.17.0,!=0.17.1,!=0.17.2,>=0.14.0 in /usr/local/lib/python3.7/dist-packages (from jsonschema!=3.1.0,>=2.6.0->comet-ml) (0.18.1)\n",
            "Requirement already satisfied: importlib-metadata in /usr/local/lib/python3.7/dist-packages (from jsonschema!=3.1.0,>=2.6.0->comet-ml) (4.11.3)\n",
            "Requirement already satisfied: importlib-resources>=1.4.0 in /usr/local/lib/python3.7/dist-packages (from jsonschema!=3.1.0,>=2.6.0->comet-ml) (5.7.1)\n",
            "Requirement already satisfied: attrs>=17.4.0 in /usr/local/lib/python3.7/dist-packages (from jsonschema!=3.1.0,>=2.6.0->comet-ml) (21.4.0)\n",
            "Requirement already satisfied: zipp>=3.1.0 in /usr/local/lib/python3.7/dist-packages (from importlib-resources>=1.4.0->jsonschema!=3.1.0,>=2.6.0->comet-ml) (3.8.0)\n",
            "Requirement already satisfied: idna<3,>=2.5 in /usr/local/lib/python3.7/dist-packages (from requests>=2.18.4->comet-ml) (2.10)\n",
            "Requirement already satisfied: chardet<4,>=3.0.2 in /usr/local/lib/python3.7/dist-packages (from requests>=2.18.4->comet-ml) (3.0.4)\n",
            "Building wheels for collected packages: configobj\n",
            "  Building wheel for configobj (setup.py) ... \u001b[?25l\u001b[?25hdone\n",
            "  Created wheel for configobj: filename=configobj-5.0.6-py3-none-any.whl size=34547 sha256=ec9829a96cfd6d72f2837460ac71fc13307a878938869181080cf1cfd341626f\n",
            "  Stored in directory: /root/.cache/pip/wheels/0d/c4/19/13d74440f2a571841db6b6e0a273694327498884dafb9cf978\n",
            "Successfully built configobj\n",
            "Installing collected packages: everett, configobj, wurlitzer, websocket-client, semantic-version, requests-toolbelt, dulwich, comet-ml\n",
            "Successfully installed comet-ml-3.30.0 configobj-5.0.6 dulwich-0.20.35 everett-3.0.0 requests-toolbelt-0.9.1 semantic-version-2.9.0 websocket-client-1.3.2 wurlitzer-3.0.2\n",
            "Requirement already satisfied: gdown in /usr/local/lib/python3.7/dist-packages (4.4.0)\n",
            "Requirement already satisfied: beautifulsoup4 in /usr/local/lib/python3.7/dist-packages (from gdown) (4.6.3)\n",
            "Requirement already satisfied: requests[socks] in /usr/local/lib/python3.7/dist-packages (from gdown) (2.23.0)\n",
            "Requirement already satisfied: six in /usr/local/lib/python3.7/dist-packages (from gdown) (1.15.0)\n",
            "Requirement already satisfied: filelock in /usr/local/lib/python3.7/dist-packages (from gdown) (3.6.0)\n",
            "Requirement already satisfied: tqdm in /usr/local/lib/python3.7/dist-packages (from gdown) (4.64.0)\n",
            "Requirement already satisfied: chardet<4,>=3.0.2 in /usr/local/lib/python3.7/dist-packages (from requests[socks]->gdown) (3.0.4)\n",
            "Requirement already satisfied: urllib3!=1.25.0,!=1.25.1,<1.26,>=1.21.1 in /usr/local/lib/python3.7/dist-packages (from requests[socks]->gdown) (1.24.3)\n",
            "Requirement already satisfied: certifi>=2017.4.17 in /usr/local/lib/python3.7/dist-packages (from requests[socks]->gdown) (2021.10.8)\n",
            "Requirement already satisfied: idna<3,>=2.5 in /usr/local/lib/python3.7/dist-packages (from requests[socks]->gdown) (2.10)\n",
            "Requirement already satisfied: PySocks!=1.5.7,>=1.5.6 in /usr/local/lib/python3.7/dist-packages (from requests[socks]->gdown) (1.7.1)\n"
          ]
        }
      ],
      "source": [
        "# machine learning - experiment tracking\n",
        "!pip install comet-ml\n",
        "from comet_ml import Experiment\n",
        "\n",
        "# imports and dataframes and collections\n",
        "import numpy as np\n",
        "import pandas as pd\n",
        "from numpy import percentile\n",
        "from itertools import product\n",
        "from collections import defaultdict, Counter\n",
        "from scipy import sparse\n",
        "from tqdm import tqdm\n",
        "\n",
        "!pip install --upgrade --no-cache-dir gdown\n",
        "import gdown\n",
        "from collections import Counter\n",
        "\n",
        "# text manipulation\n",
        "import string\n",
        "import re\n",
        "import copy\n",
        "from ast import literal_eval\n",
        "\n",
        "# modelling\n",
        "from scipy.stats import pearsonr\n",
        "from sklearn.pipeline import make_pipeline\n",
        "from sklearn.feature_extraction.text import TfidfVectorizer\n",
        "from sklearn.model_selection import cross_val_score, train_test_split\n",
        "from sklearn.model_selection import GridSearchCV\n",
        "from sklearn.model_selection import RepeatedStratifiedKFold\n",
        "from sklearn.pipeline import Pipeline\n",
        "from sklearn.decomposition import TruncatedSVD\n",
        "from sklearn.ensemble import RandomForestRegressor\n",
        "from sklearn.feature_selection import VarianceThreshold\n",
        "from sklearn.preprocessing import StandardScaler\n",
        "from sklearn import preprocessing\n",
        "from sklearn.decomposition import PCA\n",
        "import pickle\n",
        "\n",
        "# performance metrics\n",
        "from sklearn.metrics import accuracy_score, roc_auc_score\n",
        "from sklearn.metrics import mean_squared_error, mean_squared_log_error, mean_absolute_error\n",
        "from sklearn.metrics.pairwise import linear_kernel, cosine_similarity\n",
        "\n",
        "# visualisations\n",
        "import matplotlib.pyplot as plt\n",
        "import seaborn as sns\n",
        "%matplotlib inline\n",
        "sns.set()\n",
        "\n",
        "# clear warnings\n",
        "import warnings\n",
        "warnings.filterwarnings('ignore')"
      ]
    },
    {
      "cell_type": "code",
      "execution_count": 4,
      "metadata": {
        "colab": {
          "base_uri": "https://localhost:8080/"
        },
        "id": "ZLJ7bXhP6ezR",
        "outputId": "4152cd10-9705-4bbf-a539-249dd75a5f90"
      },
      "outputs": [
        {
          "output_type": "stream",
          "name": "stdout",
          "text": [
            "Drive already mounted at /content/drive; to attempt to forcibly remount, call drive.mount(\"/content/drive\", force_remount=True).\n"
          ]
        }
      ],
      "source": [
        "import io\n",
        "from google.colab import files, drive\n",
        "\n",
        "drive.mount('/content/drive')\n"
      ]
    },
    {
      "cell_type": "markdown",
      "metadata": {
        "id": "K50t1Fkq4CnQ"
      },
      "source": [
        "# **2. Loading the Data**\n",
        "<a href=#cont>Back to Table of Contents</a>\n",
        "\n",
        "---\n",
        "    \n",
        "| ⚡ Description: Loading the data ⚡ |\n",
        "| :--------------------------- |\n",
        "| In this section, we load the data from the `CSV files` file into a DataFrame. |\n",
        "\n",
        "---"
      ]
    },
    {
      "cell_type": "code",
      "source": [
        "# Upload train.csv\n",
        "train_df = pd.read_csv('/content/drive/My Drive/Recommender/train.csv')"
      ],
      "metadata": {
        "id": "MtHzP0LEwlXE"
      },
      "execution_count": 5,
      "outputs": []
    },
    {
      "cell_type": "code",
      "execution_count": 6,
      "metadata": {
        "id": "0WCZV3gjy23v",
        "colab": {
          "base_uri": "https://localhost:8080/"
        },
        "outputId": "2474c512-cdf8-45e0-d8be-75736b303bcf"
      },
      "outputs": [
        {
          "output_type": "stream",
          "name": "stdout",
          "text": [
            "/usr/local/lib/python3.7/dist-packages/gdown/cli.py:131: FutureWarning: Option `--id` was deprecated in version 4.3.1 and will be removed in 5.0. You don't need to pass it anymore to use a file ID.\n",
            "  category=FutureWarning,\n",
            "Downloading...\n",
            "From: https://drive.google.com/uc?id=1eCZYlL2_x6wgNHiHDBc28T-d9zdv3bOD\n",
            "To: /content/movies.csv\n",
            "100% 3.04M/3.04M [00:00<00:00, 71.8MB/s]\n"
          ]
        }
      ],
      "source": [
        "# Upload movies.csv\n",
        "!gdown --id 1eCZYlL2_x6wgNHiHDBc28T-d9zdv3bOD \n",
        "\n",
        "# create the dataframe\n",
        "movies_df = pd.read_csv('/content/movies.csv')"
      ]
    },
    {
      "cell_type": "code",
      "execution_count": 7,
      "metadata": {
        "id": "MqFYkgR01hst"
      },
      "outputs": [],
      "source": [
        "# Upload test.csv\n",
        "test_df = pd.read_csv('/content/drive/My Drive/Recommender/test.csv')"
      ]
    },
    {
      "cell_type": "code",
      "execution_count": 8,
      "metadata": {
        "id": "Ma7gWGy01rZk"
      },
      "outputs": [],
      "source": [
        "# Upload imdb_data.csv\n",
        "imdb_df = pd.read_csv('/content/drive/My Drive/Recommender/imdb_data.csv')"
      ]
    },
    {
      "cell_type": "markdown",
      "metadata": {
        "id": "7wGb2k6YZuZ8"
      },
      "source": [
        "#### Data Description\n",
        "* movies.csv - Movie title and genre data.\n",
        "* imdb_data.csv - Additional movie metadata scraped from IMDB \n",
        "* test.csv - The test split of the dataset. Contains user and movie IDs with no rating data.\n",
        "* train.csv - The training split of the dataset. Contains user and movie IDs with associated rating data."
      ]
    },
    {
      "cell_type": "markdown",
      "source": [
        "#### Deep copies\n",
        "Next we will create deep copies of each dataframe in order to retain the original data in the case of an accidental change being made."
      ],
      "metadata": {
        "id": "zAOS3taiQDfP"
      }
    },
    {
      "cell_type": "code",
      "execution_count": 9,
      "metadata": {
        "id": "38d95382"
      },
      "outputs": [],
      "source": [
        "# create deep copy of the imdb dataframe\n",
        "imdb_dfC = pd.DataFrame(columns = imdb_df.columns, data = copy.deepcopy(imdb_df.values))"
      ]
    },
    {
      "cell_type": "code",
      "execution_count": 158,
      "metadata": {
        "id": "cf9ec82a"
      },
      "outputs": [],
      "source": [
        "# create deep copy of the movies dataframe\n",
        "movies_dfC = pd.DataFrame(columns = movies_df.columns, data = copy.deepcopy(movies_df.values))"
      ]
    },
    {
      "cell_type": "code",
      "execution_count": 11,
      "metadata": {
        "id": "0c4443a7"
      },
      "outputs": [],
      "source": [
        "# create deep copy of the test dataframe\n",
        "test_dfC = pd.DataFrame(columns = test_df.columns, data = copy.deepcopy(test_df.values))"
      ]
    },
    {
      "cell_type": "code",
      "execution_count": 12,
      "metadata": {
        "id": "4a4f6313"
      },
      "outputs": [],
      "source": [
        "# create deep copy of the train dataframe\n",
        "train_dfC = pd.DataFrame(columns = train_df.columns, data = copy.deepcopy(train_df.values))"
      ]
    },
    {
      "cell_type": "markdown",
      "metadata": {
        "id": "dVMYAAqM-J2L"
      },
      "source": [
        "# **3. Exploratory Data Analysis (EDA)**\n",
        "<a href=#cont>Back to Table of Contents</a>\n",
        "\n",
        "---\n",
        "    \n",
        "| ⚡ Description: Exploratory data analysis ⚡ |\n",
        "| :--------------------------- |\n",
        "| In this section, we perform an in-depth analysis of all the variables in the DataFrame. |"
      ]
    },
    {
      "cell_type": "markdown",
      "metadata": {
        "id": "40x65Vqy-Qcy"
      },
      "source": [
        "### Helper functions\n",
        "Next we'll create a helper function that will help us extract meaningful information from the datasets."
      ]
    },
    {
      "cell_type": "code",
      "execution_count": 13,
      "metadata": {
        "id": "xUW-I3vN-M1J"
      },
      "outputs": [],
      "source": [
        "# function to get the null values\n",
        "def get_info(df):\n",
        "    \"\"\"This function returns the shape, column names, \n",
        "    data tpes and null value count for a dataframe\"\"\"\n",
        "    # extract the df name\n",
        "    name = [x for x in globals() if globals()[x] is df][0]\n",
        "    \n",
        "    # print the shape (rows and columns) of the dataset\n",
        "    print(name,'has',df.shape[0], \n",
        "          'rows and', df.shape[1], 'columns, namely:\\n', \n",
        "          list(df.columns), end='\\n\\n')\n",
        "\n",
        "    # print the data types of each row\n",
        "    print('The following table represents the column data types in',name, end=':\\n\\n')\n",
        "    print(df.info(), end='\\n\\n')\n",
        "    \n",
        "    # get the total number of null values per column\n",
        "    missing = pd.DataFrame(df.isnull().sum(), columns=['null_values'])\n",
        "\n",
        "    # calculate the percentage of missing values\n",
        "    missing['null_values_%'] = round((df.isnull().sum() / len(df)) * 100)\n",
        "    print('The following table represents the missing values and the corresponding % in',\n",
        "          name, end=':\\n\\n')\n",
        "    print(missing, end='\\n\\n')\n",
        "    \n",
        "    # print the first 5 rows of the table\n",
        "    print('The following is a printout of the first 5 rows in',\n",
        "          name, end=':\\n\\n')\n",
        "    print(df.head())"
      ]
    },
    {
      "cell_type": "markdown",
      "metadata": {
        "id": "6PkE8ivK-ve6"
      },
      "source": [
        "### Exploring the imdb dataset"
      ]
    },
    {
      "cell_type": "code",
      "execution_count": 10,
      "metadata": {
        "colab": {
          "base_uri": "https://localhost:8080/"
        },
        "id": "2R5IPJsY-w7y",
        "outputId": "7a6c9bd0-e29c-4976-dd2f-0ed717b68f5e"
      },
      "outputs": [
        {
          "output_type": "stream",
          "name": "stdout",
          "text": [
            "imdb_dfC has 27278 rows and 6 columns, namely:\n",
            " ['movieId', 'title_cast', 'director', 'runtime', 'budget', 'plot_keywords']\n",
            "\n",
            "The following table represents the column data types in imdb_dfC:\n",
            "\n",
            "<class 'pandas.core.frame.DataFrame'>\n",
            "RangeIndex: 27278 entries, 0 to 27277\n",
            "Data columns (total 6 columns):\n",
            " #   Column         Non-Null Count  Dtype \n",
            "---  ------         --------------  ----- \n",
            " 0   movieId        27278 non-null  object\n",
            " 1   title_cast     17210 non-null  object\n",
            " 2   director       17404 non-null  object\n",
            " 3   runtime        15189 non-null  object\n",
            " 4   budget         7906 non-null   object\n",
            " 5   plot_keywords  16200 non-null  object\n",
            "dtypes: object(6)\n",
            "memory usage: 1.2+ MB\n",
            "None\n",
            "\n",
            "The following table represents the missing values and the corresponding % in imdb_dfC:\n",
            "\n",
            "               null_values  null_values_%\n",
            "movieId                  0            0.0\n",
            "title_cast           10068           37.0\n",
            "director              9874           36.0\n",
            "runtime              12089           44.0\n",
            "budget               19372           71.0\n",
            "plot_keywords        11078           41.0\n",
            "\n",
            "The following is a printout of the first 5 rows in imdb_dfC:\n",
            "\n",
            "  movieId                                         title_cast  \\\n",
            "0       1  Tom Hanks|Tim Allen|Don Rickles|Jim Varney|Wal...   \n",
            "1       2  Robin Williams|Jonathan Hyde|Kirsten Dunst|Bra...   \n",
            "2       3  Walter Matthau|Jack Lemmon|Sophia Loren|Ann-Ma...   \n",
            "3       4  Whitney Houston|Angela Bassett|Loretta Devine|...   \n",
            "4       5  Steve Martin|Diane Keaton|Martin Short|Kimberl...   \n",
            "\n",
            "              director runtime       budget  \\\n",
            "0        John Lasseter    81.0  $30,000,000   \n",
            "1   Jonathan Hensleigh   104.0  $65,000,000   \n",
            "2  Mark Steven Johnson   101.0  $25,000,000   \n",
            "3       Terry McMillan   124.0  $16,000,000   \n",
            "4       Albert Hackett   106.0  $30,000,000   \n",
            "\n",
            "                                       plot_keywords  \n",
            "0                   toy|rivalry|cowboy|cgi animation  \n",
            "1                   board game|adventurer|fight|game  \n",
            "2                         boat|lake|neighbor|rivalry  \n",
            "3  black american|husband wife relationship|betra...  \n",
            "4                    fatherhood|doberman|dog|mansion  \n"
          ]
        }
      ],
      "source": [
        "get_info(imdb_dfC)"
      ]
    },
    {
      "cell_type": "code",
      "execution_count": null,
      "metadata": {
        "colab": {
          "base_uri": "https://localhost:8080/"
        },
        "id": "pxseJjntw-wR",
        "outputId": "f046355e-b06d-419a-831d-7826aee3a0a0"
      },
      "outputs": [
        {
          "name": "stdout",
          "output_type": "stream",
          "text": [
            "There are 11786 different directors\n"
          ]
        }
      ],
      "source": [
        "print('There are',imdb_dfC['director'].nunique(),'different directors')"
      ]
    },
    {
      "cell_type": "markdown",
      "metadata": {
        "id": "YrcNm5q5-77Q"
      },
      "source": [
        "#### **Comments**\n",
        "\n",
        "* The budget feature is of type object, however 71% of the budget column values are null. We will convert every number field in budget to a float, but it it fails, it will be converted to NaN. We will also verify whether this column as well as the runtime column contributes meaningfully to the algorithm given the high number of null values. If so, the null values will be filled.\n",
        "* There are 10,068 records without cast members. We will have to deal with these"
      ]
    },
    {
      "cell_type": "markdown",
      "metadata": {
        "id": "IAnNwKiG_NdS"
      },
      "source": [
        "### Exploring the movies dataset"
      ]
    },
    {
      "cell_type": "code",
      "execution_count": 14,
      "metadata": {
        "colab": {
          "base_uri": "https://localhost:8080/"
        },
        "id": "M4Z_dpsy-1to",
        "outputId": "7ff4b36f-9298-4b0d-ba13-ce1c9f9b3ffa"
      },
      "outputs": [
        {
          "output_type": "stream",
          "name": "stdout",
          "text": [
            "movies_dfC has 62423 rows and 3 columns, namely:\n",
            " ['movieId', 'title', 'genres']\n",
            "\n",
            "The following table represents the column data types in movies_dfC:\n",
            "\n",
            "<class 'pandas.core.frame.DataFrame'>\n",
            "RangeIndex: 62423 entries, 0 to 62422\n",
            "Data columns (total 3 columns):\n",
            " #   Column   Non-Null Count  Dtype \n",
            "---  ------   --------------  ----- \n",
            " 0   movieId  62423 non-null  object\n",
            " 1   title    62423 non-null  object\n",
            " 2   genres   62423 non-null  object\n",
            "dtypes: object(3)\n",
            "memory usage: 1.4+ MB\n",
            "None\n",
            "\n",
            "The following table represents the missing values and the corresponding % in movies_dfC:\n",
            "\n",
            "         null_values  null_values_%\n",
            "movieId            0            0.0\n",
            "title              0            0.0\n",
            "genres             0            0.0\n",
            "\n",
            "The following is a printout of the first 5 rows in movies_dfC:\n",
            "\n",
            "  movieId                               title  \\\n",
            "0       1                    Toy Story (1995)   \n",
            "1       2                      Jumanji (1995)   \n",
            "2       3             Grumpier Old Men (1995)   \n",
            "3       4            Waiting to Exhale (1995)   \n",
            "4       5  Father of the Bride Part II (1995)   \n",
            "\n",
            "                                        genres  \n",
            "0  Adventure|Animation|Children|Comedy|Fantasy  \n",
            "1                   Adventure|Children|Fantasy  \n",
            "2                               Comedy|Romance  \n",
            "3                         Comedy|Drama|Romance  \n",
            "4                                       Comedy  \n"
          ]
        }
      ],
      "source": [
        "get_info(movies_dfC)"
      ]
    },
    {
      "cell_type": "markdown",
      "metadata": {
        "id": "2dRJzLPu_RNf"
      },
      "source": [
        "#### Comment\n",
        "* The movies dataset contains 62,423 rows and 3 columns. There are no null values. \n",
        "* The `movieId`, `title` and `genres` columns are of type object\n",
        "* The `title` feature has the title of the move as well as the year of production. We will separate the year into its own column.\n",
        "\n",
        "Next we will graphically depict the use of genres within the movies dataset."
      ]
    },
    {
      "cell_type": "code",
      "source": [
        "# create a list of all genre elements\n",
        "all_genres_elements = movies_dfC.genres.to_list()"
      ],
      "metadata": {
        "id": "Ja-9JQ15S2bF"
      },
      "execution_count": 160,
      "outputs": []
    },
    {
      "cell_type": "code",
      "source": [
        "# fill a list off each individual genre element\n",
        "single_genre = []\n",
        "for e in all_genres_elements:\n",
        "  e = e.split('|')\n",
        "  for i in e:\n",
        "    single_genre.append(i)\n",
        "\n",
        "# use the list to get a count of the use of the different genre items\n",
        "genre_counts_dict = dict()\n",
        "for i in single_genre:\n",
        "  genre_counts_dict[i] = genre_counts_dict.get(i, 0) + 1\n",
        "genre_counts_dict\n",
        "\n",
        "# turn genre counts dictionary into a dataframe\n",
        "genre_counts_df = pd.DataFrame(\n",
        "    {'genre': genre_counts_dict.keys(), \"count\": genre_counts_dict.values()}\n",
        ")\n",
        "\n",
        "# display the dataframe\n",
        "genre_counts_df.sort_values('count', ascending=False).head()"
      ],
      "metadata": {
        "colab": {
          "base_uri": "https://localhost:8080/",
          "height": 206
        },
        "id": "j1mkuyqeUumy",
        "outputId": "945c7bc8-17a3-4c91-e414-cd4c9f63ee71"
      },
      "execution_count": 161,
      "outputs": [
        {
          "output_type": "execute_result",
          "data": {
            "text/plain": [
              "      genre  count\n",
              "6     Drama  25606\n",
              "3    Comedy  16870\n",
              "9  Thriller   8654\n",
              "5   Romance   7719\n",
              "7    Action   7348"
            ],
            "text/html": [
              "\n",
              "  <div id=\"df-a8d4b17c-acd2-45d3-bd3c-1bee02c64173\">\n",
              "    <div class=\"colab-df-container\">\n",
              "      <div>\n",
              "<style scoped>\n",
              "    .dataframe tbody tr th:only-of-type {\n",
              "        vertical-align: middle;\n",
              "    }\n",
              "\n",
              "    .dataframe tbody tr th {\n",
              "        vertical-align: top;\n",
              "    }\n",
              "\n",
              "    .dataframe thead th {\n",
              "        text-align: right;\n",
              "    }\n",
              "</style>\n",
              "<table border=\"1\" class=\"dataframe\">\n",
              "  <thead>\n",
              "    <tr style=\"text-align: right;\">\n",
              "      <th></th>\n",
              "      <th>genre</th>\n",
              "      <th>count</th>\n",
              "    </tr>\n",
              "  </thead>\n",
              "  <tbody>\n",
              "    <tr>\n",
              "      <th>6</th>\n",
              "      <td>Drama</td>\n",
              "      <td>25606</td>\n",
              "    </tr>\n",
              "    <tr>\n",
              "      <th>3</th>\n",
              "      <td>Comedy</td>\n",
              "      <td>16870</td>\n",
              "    </tr>\n",
              "    <tr>\n",
              "      <th>9</th>\n",
              "      <td>Thriller</td>\n",
              "      <td>8654</td>\n",
              "    </tr>\n",
              "    <tr>\n",
              "      <th>5</th>\n",
              "      <td>Romance</td>\n",
              "      <td>7719</td>\n",
              "    </tr>\n",
              "    <tr>\n",
              "      <th>7</th>\n",
              "      <td>Action</td>\n",
              "      <td>7348</td>\n",
              "    </tr>\n",
              "  </tbody>\n",
              "</table>\n",
              "</div>\n",
              "      <button class=\"colab-df-convert\" onclick=\"convertToInteractive('df-a8d4b17c-acd2-45d3-bd3c-1bee02c64173')\"\n",
              "              title=\"Convert this dataframe to an interactive table.\"\n",
              "              style=\"display:none;\">\n",
              "        \n",
              "  <svg xmlns=\"http://www.w3.org/2000/svg\" height=\"24px\"viewBox=\"0 0 24 24\"\n",
              "       width=\"24px\">\n",
              "    <path d=\"M0 0h24v24H0V0z\" fill=\"none\"/>\n",
              "    <path d=\"M18.56 5.44l.94 2.06.94-2.06 2.06-.94-2.06-.94-.94-2.06-.94 2.06-2.06.94zm-11 1L8.5 8.5l.94-2.06 2.06-.94-2.06-.94L8.5 2.5l-.94 2.06-2.06.94zm10 10l.94 2.06.94-2.06 2.06-.94-2.06-.94-.94-2.06-.94 2.06-2.06.94z\"/><path d=\"M17.41 7.96l-1.37-1.37c-.4-.4-.92-.59-1.43-.59-.52 0-1.04.2-1.43.59L10.3 9.45l-7.72 7.72c-.78.78-.78 2.05 0 2.83L4 21.41c.39.39.9.59 1.41.59.51 0 1.02-.2 1.41-.59l7.78-7.78 2.81-2.81c.8-.78.8-2.07 0-2.86zM5.41 20L4 18.59l7.72-7.72 1.47 1.35L5.41 20z\"/>\n",
              "  </svg>\n",
              "      </button>\n",
              "      \n",
              "  <style>\n",
              "    .colab-df-container {\n",
              "      display:flex;\n",
              "      flex-wrap:wrap;\n",
              "      gap: 12px;\n",
              "    }\n",
              "\n",
              "    .colab-df-convert {\n",
              "      background-color: #E8F0FE;\n",
              "      border: none;\n",
              "      border-radius: 50%;\n",
              "      cursor: pointer;\n",
              "      display: none;\n",
              "      fill: #1967D2;\n",
              "      height: 32px;\n",
              "      padding: 0 0 0 0;\n",
              "      width: 32px;\n",
              "    }\n",
              "\n",
              "    .colab-df-convert:hover {\n",
              "      background-color: #E2EBFA;\n",
              "      box-shadow: 0px 1px 2px rgba(60, 64, 67, 0.3), 0px 1px 3px 1px rgba(60, 64, 67, 0.15);\n",
              "      fill: #174EA6;\n",
              "    }\n",
              "\n",
              "    [theme=dark] .colab-df-convert {\n",
              "      background-color: #3B4455;\n",
              "      fill: #D2E3FC;\n",
              "    }\n",
              "\n",
              "    [theme=dark] .colab-df-convert:hover {\n",
              "      background-color: #434B5C;\n",
              "      box-shadow: 0px 1px 3px 1px rgba(0, 0, 0, 0.15);\n",
              "      filter: drop-shadow(0px 1px 2px rgba(0, 0, 0, 0.3));\n",
              "      fill: #FFFFFF;\n",
              "    }\n",
              "  </style>\n",
              "\n",
              "      <script>\n",
              "        const buttonEl =\n",
              "          document.querySelector('#df-a8d4b17c-acd2-45d3-bd3c-1bee02c64173 button.colab-df-convert');\n",
              "        buttonEl.style.display =\n",
              "          google.colab.kernel.accessAllowed ? 'block' : 'none';\n",
              "\n",
              "        async function convertToInteractive(key) {\n",
              "          const element = document.querySelector('#df-a8d4b17c-acd2-45d3-bd3c-1bee02c64173');\n",
              "          const dataTable =\n",
              "            await google.colab.kernel.invokeFunction('convertToInteractive',\n",
              "                                                     [key], {});\n",
              "          if (!dataTable) return;\n",
              "\n",
              "          const docLinkHtml = 'Like what you see? Visit the ' +\n",
              "            '<a target=\"_blank\" href=https://colab.research.google.com/notebooks/data_table.ipynb>data table notebook</a>'\n",
              "            + ' to learn more about interactive tables.';\n",
              "          element.innerHTML = '';\n",
              "          dataTable['output_type'] = 'display_data';\n",
              "          await google.colab.output.renderOutput(dataTable, element);\n",
              "          const docLink = document.createElement('div');\n",
              "          docLink.innerHTML = docLinkHtml;\n",
              "          element.appendChild(docLink);\n",
              "        }\n",
              "      </script>\n",
              "    </div>\n",
              "  </div>\n",
              "  "
            ]
          },
          "metadata": {},
          "execution_count": 161
        }
      ]
    },
    {
      "cell_type": "code",
      "source": [
        "# Plot the the genre usage on a histogram plot\n",
        "genre_counts_df.plot(x ='genre', y='count', kind = 'bar')"
      ],
      "metadata": {
        "colab": {
          "base_uri": "https://localhost:8080/",
          "height": 389
        },
        "id": "iICRlGnqWtH8",
        "outputId": "f401c291-286d-4da9-9721-6e7343ef1d31"
      },
      "execution_count": 38,
      "outputs": [
        {
          "output_type": "execute_result",
          "data": {
            "text/plain": [
              "<matplotlib.axes._subplots.AxesSubplot at 0x7f4218c89910>"
            ]
          },
          "metadata": {},
          "execution_count": 38
        },
        {
          "output_type": "display_data",
          "data": {
            "text/plain": [
              "<Figure size 432x288 with 1 Axes>"
            ],
            "image/png": "[encoded data removed]"
          },
          "metadata": {}
        }
      ]
    },
    {
      "cell_type": "code",
      "source": [
        "# get the (no genres listed) count\n",
        "genre_counts_df[genre_counts_df['genre'] == '(no genres listed)']"
      ],
      "metadata": {
        "colab": {
          "base_uri": "https://localhost:8080/",
          "height": 81
        },
        "id": "Q1mNqmrEe63x",
        "outputId": "35f7ed87-72c0-4a27-c40a-d8c4394d649a"
      },
      "execution_count": 41,
      "outputs": [
        {
          "output_type": "execute_result",
          "data": {
            "text/plain": [
              "                 genre  count\n",
              "19  (no genres listed)   5062"
            ],
            "text/html": [
              "\n",
              "  <div id=\"df-93394142-793f-41b3-bbd9-df45f6e9e069\">\n",
              "    <div class=\"colab-df-container\">\n",
              "      <div>\n",
              "<style scoped>\n",
              "    .dataframe tbody tr th:only-of-type {\n",
              "        vertical-align: middle;\n",
              "    }\n",
              "\n",
              "    .dataframe tbody tr th {\n",
              "        vertical-align: top;\n",
              "    }\n",
              "\n",
              "    .dataframe thead th {\n",
              "        text-align: right;\n",
              "    }\n",
              "</style>\n",
              "<table border=\"1\" class=\"dataframe\">\n",
              "  <thead>\n",
              "    <tr style=\"text-align: right;\">\n",
              "      <th></th>\n",
              "      <th>genre</th>\n",
              "      <th>count</th>\n",
              "    </tr>\n",
              "  </thead>\n",
              "  <tbody>\n",
              "    <tr>\n",
              "      <th>19</th>\n",
              "      <td>(no genres listed)</td>\n",
              "      <td>5062</td>\n",
              "    </tr>\n",
              "  </tbody>\n",
              "</table>\n",
              "</div>\n",
              "      <button class=\"colab-df-convert\" onclick=\"convertToInteractive('df-93394142-793f-41b3-bbd9-df45f6e9e069')\"\n",
              "              title=\"Convert this dataframe to an interactive table.\"\n",
              "              style=\"display:none;\">\n",
              "        \n",
              "  <svg xmlns=\"http://www.w3.org/2000/svg\" height=\"24px\"viewBox=\"0 0 24 24\"\n",
              "       width=\"24px\">\n",
              "    <path d=\"M0 0h24v24H0V0z\" fill=\"none\"/>\n",
              "    <path d=\"M18.56 5.44l.94 2.06.94-2.06 2.06-.94-2.06-.94-.94-2.06-.94 2.06-2.06.94zm-11 1L8.5 8.5l.94-2.06 2.06-.94-2.06-.94L8.5 2.5l-.94 2.06-2.06.94zm10 10l.94 2.06.94-2.06 2.06-.94-2.06-.94-.94-2.06-.94 2.06-2.06.94z\"/><path d=\"M17.41 7.96l-1.37-1.37c-.4-.4-.92-.59-1.43-.59-.52 0-1.04.2-1.43.59L10.3 9.45l-7.72 7.72c-.78.78-.78 2.05 0 2.83L4 21.41c.39.39.9.59 1.41.59.51 0 1.02-.2 1.41-.59l7.78-7.78 2.81-2.81c.8-.78.8-2.07 0-2.86zM5.41 20L4 18.59l7.72-7.72 1.47 1.35L5.41 20z\"/>\n",
              "  </svg>\n",
              "      </button>\n",
              "      \n",
              "  <style>\n",
              "    .colab-df-container {\n",
              "      display:flex;\n",
              "      flex-wrap:wrap;\n",
              "      gap: 12px;\n",
              "    }\n",
              "\n",
              "    .colab-df-convert {\n",
              "      background-color: #E8F0FE;\n",
              "      border: none;\n",
              "      border-radius: 50%;\n",
              "      cursor: pointer;\n",
              "      display: none;\n",
              "      fill: #1967D2;\n",
              "      height: 32px;\n",
              "      padding: 0 0 0 0;\n",
              "      width: 32px;\n",
              "    }\n",
              "\n",
              "    .colab-df-convert:hover {\n",
              "      background-color: #E2EBFA;\n",
              "      box-shadow: 0px 1px 2px rgba(60, 64, 67, 0.3), 0px 1px 3px 1px rgba(60, 64, 67, 0.15);\n",
              "      fill: #174EA6;\n",
              "    }\n",
              "\n",
              "    [theme=dark] .colab-df-convert {\n",
              "      background-color: #3B4455;\n",
              "      fill: #D2E3FC;\n",
              "    }\n",
              "\n",
              "    [theme=dark] .colab-df-convert:hover {\n",
              "      background-color: #434B5C;\n",
              "      box-shadow: 0px 1px 3px 1px rgba(0, 0, 0, 0.15);\n",
              "      filter: drop-shadow(0px 1px 2px rgba(0, 0, 0, 0.3));\n",
              "      fill: #FFFFFF;\n",
              "    }\n",
              "  </style>\n",
              "\n",
              "      <script>\n",
              "        const buttonEl =\n",
              "          document.querySelector('#df-93394142-793f-41b3-bbd9-df45f6e9e069 button.colab-df-convert');\n",
              "        buttonEl.style.display =\n",
              "          google.colab.kernel.accessAllowed ? 'block' : 'none';\n",
              "\n",
              "        async function convertToInteractive(key) {\n",
              "          const element = document.querySelector('#df-93394142-793f-41b3-bbd9-df45f6e9e069');\n",
              "          const dataTable =\n",
              "            await google.colab.kernel.invokeFunction('convertToInteractive',\n",
              "                                                     [key], {});\n",
              "          if (!dataTable) return;\n",
              "\n",
              "          const docLinkHtml = 'Like what you see? Visit the ' +\n",
              "            '<a target=\"_blank\" href=https://colab.research.google.com/notebooks/data_table.ipynb>data table notebook</a>'\n",
              "            + ' to learn more about interactive tables.';\n",
              "          element.innerHTML = '';\n",
              "          dataTable['output_type'] = 'display_data';\n",
              "          await google.colab.output.renderOutput(dataTable, element);\n",
              "          const docLink = document.createElement('div');\n",
              "          docLink.innerHTML = docLinkHtml;\n",
              "          element.appendChild(docLink);\n",
              "        }\n",
              "      </script>\n",
              "    </div>\n",
              "  </div>\n",
              "  "
            ]
          },
          "metadata": {},
          "execution_count": 41
        }
      ]
    },
    {
      "cell_type": "markdown",
      "source": [
        "#### Comment\n",
        "From the data and graph above we note that the top 5 genres are: \n",
        "1. Drama (used in 25,606 movies)\n",
        "2. Comedy (used in 16870 movies)\n",
        "3. Thriller (used in 8654 movies)\n",
        "4. Romance (used in 7719 movies) \n",
        "5. Action (used in 7348 movies)\n",
        "\n",
        "Furthermore there are 5062 movies with no genres listed. This identifier must be removed to avoid it being used as feature during modelling. \n",
        "\n",
        "Next we will explore the year of production by extracting it from the movie title."
      ],
      "metadata": {
        "id": "qsYR4igHd6yM"
      }
    },
    {
      "cell_type": "code",
      "source": [
        "# function to extract year from title\n",
        "def extract_year(col):\n",
        "    \"\"\"This function extracts the year from the title column\"\"\"\n",
        "    # finds all the paranthesis with four digits in them\n",
        "    nums = re.findall(r\"\\(\\d{4}\\)\", col)\n",
        "    if len(nums) == 0:\n",
        "        return np.nan\n",
        "    elif len(nums) == 1:\n",
        "        return nums[0]\n",
        "    else:\n",
        "        return nums[-1]\n",
        "\n",
        "# extract the year from the title and remove the parentheses\n",
        "movies_dfC['year'] = movies_dfC['title'].apply(extract_year).replace(r\"[()]\", '', regex=True)\n",
        "\n",
        "# print the first five rows\n",
        "movies_dfC"
      ],
      "metadata": {
        "colab": {
          "base_uri": "https://localhost:8080/",
          "height": 424
        },
        "id": "c6QHaCNhhVZq",
        "outputId": "e1fdfc81-1957-4497-c1e4-2bae89882265"
      },
      "execution_count": 159,
      "outputs": [
        {
          "output_type": "execute_result",
          "data": {
            "text/plain": [
              "      movieId                               title  \\\n",
              "0           1                    Toy Story (1995)   \n",
              "1           2                      Jumanji (1995)   \n",
              "2           3             Grumpier Old Men (1995)   \n",
              "3           4            Waiting to Exhale (1995)   \n",
              "4           5  Father of the Bride Part II (1995)   \n",
              "...       ...                                 ...   \n",
              "62418  209157                           We (2018)   \n",
              "62419  209159           Window of the Soul (2001)   \n",
              "62420  209163                    Bad Poems (2018)   \n",
              "62421  209169                 A Girl Thing (2001)   \n",
              "62422  209171      Women of Devil's Island (1962)   \n",
              "\n",
              "                                            genres  year  \n",
              "0      Adventure|Animation|Children|Comedy|Fantasy  1995  \n",
              "1                       Adventure|Children|Fantasy  1995  \n",
              "2                                   Comedy|Romance  1995  \n",
              "3                             Comedy|Drama|Romance  1995  \n",
              "4                                           Comedy  1995  \n",
              "...                                            ...   ...  \n",
              "62418                                        Drama  2018  \n",
              "62419                                  Documentary  2001  \n",
              "62420                                 Comedy|Drama  2018  \n",
              "62421                           (no genres listed)  2001  \n",
              "62422                       Action|Adventure|Drama  1962  \n",
              "\n",
              "[62423 rows x 4 columns]"
            ],
            "text/html": [
              "\n",
              "  <div id=\"df-9ffaf491-1fd7-4a91-9b56-f1a60d1ad6f9\">\n",
              "    <div class=\"colab-df-container\">\n",
              "      <div>\n",
              "<style scoped>\n",
              "    .dataframe tbody tr th:only-of-type {\n",
              "        vertical-align: middle;\n",
              "    }\n",
              "\n",
              "    .dataframe tbody tr th {\n",
              "        vertical-align: top;\n",
              "    }\n",
              "\n",
              "    .dataframe thead th {\n",
              "        text-align: right;\n",
              "    }\n",
              "</style>\n",
              "<table border=\"1\" class=\"dataframe\">\n",
              "  <thead>\n",
              "    <tr style=\"text-align: right;\">\n",
              "      <th></th>\n",
              "      <th>movieId</th>\n",
              "      <th>title</th>\n",
              "      <th>genres</th>\n",
              "      <th>year</th>\n",
              "    </tr>\n",
              "  </thead>\n",
              "  <tbody>\n",
              "    <tr>\n",
              "      <th>0</th>\n",
              "      <td>1</td>\n",
              "      <td>Toy Story (1995)</td>\n",
              "      <td>Adventure|Animation|Children|Comedy|Fantasy</td>\n",
              "      <td>1995</td>\n",
              "    </tr>\n",
              "    <tr>\n",
              "      <th>1</th>\n",
              "      <td>2</td>\n",
              "      <td>Jumanji (1995)</td>\n",
              "      <td>Adventure|Children|Fantasy</td>\n",
              "      <td>1995</td>\n",
              "    </tr>\n",
              "    <tr>\n",
              "      <th>2</th>\n",
              "      <td>3</td>\n",
              "      <td>Grumpier Old Men (1995)</td>\n",
              "      <td>Comedy|Romance</td>\n",
              "      <td>1995</td>\n",
              "    </tr>\n",
              "    <tr>\n",
              "      <th>3</th>\n",
              "      <td>4</td>\n",
              "      <td>Waiting to Exhale (1995)</td>\n",
              "      <td>Comedy|Drama|Romance</td>\n",
              "      <td>1995</td>\n",
              "    </tr>\n",
              "    <tr>\n",
              "      <th>4</th>\n",
              "      <td>5</td>\n",
              "      <td>Father of the Bride Part II (1995)</td>\n",
              "      <td>Comedy</td>\n",
              "      <td>1995</td>\n",
              "    </tr>\n",
              "    <tr>\n",
              "      <th>...</th>\n",
              "      <td>...</td>\n",
              "      <td>...</td>\n",
              "      <td>...</td>\n",
              "      <td>...</td>\n",
              "    </tr>\n",
              "    <tr>\n",
              "      <th>62418</th>\n",
              "      <td>209157</td>\n",
              "      <td>We (2018)</td>\n",
              "      <td>Drama</td>\n",
              "      <td>2018</td>\n",
              "    </tr>\n",
              "    <tr>\n",
              "      <th>62419</th>\n",
              "      <td>209159</td>\n",
              "      <td>Window of the Soul (2001)</td>\n",
              "      <td>Documentary</td>\n",
              "      <td>2001</td>\n",
              "    </tr>\n",
              "    <tr>\n",
              "      <th>62420</th>\n",
              "      <td>209163</td>\n",
              "      <td>Bad Poems (2018)</td>\n",
              "      <td>Comedy|Drama</td>\n",
              "      <td>2018</td>\n",
              "    </tr>\n",
              "    <tr>\n",
              "      <th>62421</th>\n",
              "      <td>209169</td>\n",
              "      <td>A Girl Thing (2001)</td>\n",
              "      <td>(no genres listed)</td>\n",
              "      <td>2001</td>\n",
              "    </tr>\n",
              "    <tr>\n",
              "      <th>62422</th>\n",
              "      <td>209171</td>\n",
              "      <td>Women of Devil's Island (1962)</td>\n",
              "      <td>Action|Adventure|Drama</td>\n",
              "      <td>1962</td>\n",
              "    </tr>\n",
              "  </tbody>\n",
              "</table>\n",
              "<p>62423 rows × 4 columns</p>\n",
              "</div>\n",
              "      <button class=\"colab-df-convert\" onclick=\"convertToInteractive('df-9ffaf491-1fd7-4a91-9b56-f1a60d1ad6f9')\"\n",
              "              title=\"Convert this dataframe to an interactive table.\"\n",
              "              style=\"display:none;\">\n",
              "        \n",
              "  <svg xmlns=\"http://www.w3.org/2000/svg\" height=\"24px\"viewBox=\"0 0 24 24\"\n",
              "       width=\"24px\">\n",
              "    <path d=\"M0 0h24v24H0V0z\" fill=\"none\"/>\n",
              "    <path d=\"M18.56 5.44l.94 2.06.94-2.06 2.06-.94-2.06-.94-.94-2.06-.94 2.06-2.06.94zm-11 1L8.5 8.5l.94-2.06 2.06-.94-2.06-.94L8.5 2.5l-.94 2.06-2.06.94zm10 10l.94 2.06.94-2.06 2.06-.94-2.06-.94-.94-2.06-.94 2.06-2.06.94z\"/><path d=\"M17.41 7.96l-1.37-1.37c-.4-.4-.92-.59-1.43-.59-.52 0-1.04.2-1.43.59L10.3 9.45l-7.72 7.72c-.78.78-.78 2.05 0 2.83L4 21.41c.39.39.9.59 1.41.59.51 0 1.02-.2 1.41-.59l7.78-7.78 2.81-2.81c.8-.78.8-2.07 0-2.86zM5.41 20L4 18.59l7.72-7.72 1.47 1.35L5.41 20z\"/>\n",
              "  </svg>\n",
              "      </button>\n",
              "      \n",
              "  <style>\n",
              "    .colab-df-container {\n",
              "      display:flex;\n",
              "      flex-wrap:wrap;\n",
              "      gap: 12px;\n",
              "    }\n",
              "\n",
              "    .colab-df-convert {\n",
              "      background-color: #E8F0FE;\n",
              "      border: none;\n",
              "      border-radius: 50%;\n",
              "      cursor: pointer;\n",
              "      display: none;\n",
              "      fill: #1967D2;\n",
              "      height: 32px;\n",
              "      padding: 0 0 0 0;\n",
              "      width: 32px;\n",
              "    }\n",
              "\n",
              "    .colab-df-convert:hover {\n",
              "      background-color: #E2EBFA;\n",
              "      box-shadow: 0px 1px 2px rgba(60, 64, 67, 0.3), 0px 1px 3px 1px rgba(60, 64, 67, 0.15);\n",
              "      fill: #174EA6;\n",
              "    }\n",
              "\n",
              "    [theme=dark] .colab-df-convert {\n",
              "      background-color: #3B4455;\n",
              "      fill: #D2E3FC;\n",
              "    }\n",
              "\n",
              "    [theme=dark] .colab-df-convert:hover {\n",
              "      background-color: #434B5C;\n",
              "      box-shadow: 0px 1px 3px 1px rgba(0, 0, 0, 0.15);\n",
              "      filter: drop-shadow(0px 1px 2px rgba(0, 0, 0, 0.3));\n",
              "      fill: #FFFFFF;\n",
              "    }\n",
              "  </style>\n",
              "\n",
              "      <script>\n",
              "        const buttonEl =\n",
              "          document.querySelector('#df-9ffaf491-1fd7-4a91-9b56-f1a60d1ad6f9 button.colab-df-convert');\n",
              "        buttonEl.style.display =\n",
              "          google.colab.kernel.accessAllowed ? 'block' : 'none';\n",
              "\n",
              "        async function convertToInteractive(key) {\n",
              "          const element = document.querySelector('#df-9ffaf491-1fd7-4a91-9b56-f1a60d1ad6f9');\n",
              "          const dataTable =\n",
              "            await google.colab.kernel.invokeFunction('convertToInteractive',\n",
              "                                                     [key], {});\n",
              "          if (!dataTable) return;\n",
              "\n",
              "          const docLinkHtml = 'Like what you see? Visit the ' +\n",
              "            '<a target=\"_blank\" href=https://colab.research.google.com/notebooks/data_table.ipynb>data table notebook</a>'\n",
              "            + ' to learn more about interactive tables.';\n",
              "          element.innerHTML = '';\n",
              "          dataTable['output_type'] = 'display_data';\n",
              "          await google.colab.output.renderOutput(dataTable, element);\n",
              "          const docLink = document.createElement('div');\n",
              "          docLink.innerHTML = docLinkHtml;\n",
              "          element.appendChild(docLink);\n",
              "        }\n",
              "      </script>\n",
              "    </div>\n",
              "  </div>\n",
              "  "
            ]
          },
          "metadata": {},
          "execution_count": 159
        }
      ]
    },
    {
      "cell_type": "code",
      "source": [
        "# count the unique years\n",
        "print(movies_dfC.year.nunique(), end='\\n\\n')\n",
        "print(movies_dfC['year'].value_counts().head(3))"
      ],
      "metadata": {
        "colab": {
          "base_uri": "https://localhost:8080/"
        },
        "id": "RBOhtY0PhxNY",
        "outputId": "10906b25-1ced-45d0-ad22-241fb7014efc"
      },
      "execution_count": 169,
      "outputs": [
        {
          "output_type": "stream",
          "name": "stdout",
          "text": [
            "135\n",
            "\n",
            "2015    2513\n",
            "2016    2488\n",
            "2014    2406\n",
            "Name: year, dtype: int64\n"
          ]
        }
      ]
    },
    {
      "cell_type": "code",
      "source": [
        "# Plot movies per year released\n",
        "plt.figure(figsize=(15,10))\n",
        "sns.set(style=\"whitegrid\")\n",
        "order = movies_dfC['year'].value_counts().index[0:30]\n",
        "\n",
        "ax = sns.countplot(y=movies_dfC['year'], data=movies_dfC, order=order)\n",
        "ax.set_title('Total movies released per year', fontsize= 20)"
      ],
      "metadata": {
        "colab": {
          "base_uri": "https://localhost:8080/",
          "height": 649
        },
        "id": "nxW7ZG8GZf-W",
        "outputId": "1c3e97b1-5970-472e-a7d4-63e3145e15f3"
      },
      "execution_count": 166,
      "outputs": [
        {
          "output_type": "execute_result",
          "data": {
            "text/plain": [
              "Text(0.5, 1.0, 'Total movies released per year')"
            ]
          },
          "metadata": {},
          "execution_count": 166
        },
        {
          "output_type": "display_data",
          "data": {
            "text/plain": [
              "<Figure size 1080x720 with 1 Axes>"
            ],
            "image/png": "[encoded data removed]"
          },
          "metadata": {}
        }
      ]
    },
    {
      "cell_type": "markdown",
      "source": [
        "There are 135 years of production. The most releases happened in:\n",
        "* 2015 (2513 releases) \n",
        "* 2016 (2488 releases)\n",
        "* 2014 (2406 releases) "
      ],
      "metadata": {
        "id": "gOldYi3IZX9p"
      }
    },
    {
      "cell_type": "markdown",
      "metadata": {
        "id": "WHFm96hk_fc9"
      },
      "source": [
        "### Exploring the train dataset"
      ]
    },
    {
      "cell_type": "code",
      "execution_count": null,
      "metadata": {
        "colab": {
          "base_uri": "https://localhost:8080/"
        },
        "id": "7Ehn5cW_-2Py",
        "outputId": "e560e646-e3d7-43ae-ce70-97941aad7832"
      },
      "outputs": [
        {
          "output_type": "stream",
          "name": "stdout",
          "text": [
            "train_dfC has 10000038 rows and 4 columns, namely:\n",
            " ['userId', 'movieId', 'rating', 'timestamp']\n",
            "\n",
            "The following table represents the column data types in train_dfC:\n",
            "\n",
            "<class 'pandas.core.frame.DataFrame'>\n",
            "RangeIndex: 10000038 entries, 0 to 10000037\n",
            "Data columns (total 4 columns):\n",
            " #   Column     Dtype         \n",
            "---  ------     -----         \n",
            " 0   userId     float64       \n",
            " 1   movieId    float64       \n",
            " 2   rating     float64       \n",
            " 3   timestamp  datetime64[ns]\n",
            "dtypes: datetime64[ns](1), float64(3)\n",
            "memory usage: 305.2 MB\n",
            "None\n",
            "\n",
            "The following table represents the missing values and the corresponding % in train_dfC:\n",
            "\n",
            "           null_values  null_values_%\n",
            "userId               0            0.0\n",
            "movieId              0            0.0\n",
            "rating               0            0.0\n",
            "timestamp            0            0.0\n",
            "\n",
            "The following is a printout of the first 5 rows in train_dfC:\n",
            "\n",
            "     userId  movieId  rating           timestamp\n",
            "0    5163.0  57669.0     4.0 2018-02-11 11:53:12\n",
            "1  106343.0      5.0     4.5 2008-03-23 02:18:59\n",
            "2  146790.0   5459.0     5.0 2004-02-08 04:45:39\n",
            "3  106362.0  32296.0     2.0 2015-02-04 09:36:05\n",
            "4    9041.0    366.0     3.0 1996-05-29 13:17:17\n"
          ]
        }
      ],
      "source": [
        "get_info(train_dfC)"
      ]
    },
    {
      "cell_type": "markdown",
      "metadata": {
        "id": "DtuuM5hz_gLi"
      },
      "source": [
        "#### Comment\n",
        "* There are no null values in the train dataset\n",
        "* `userID` and `movieId` are of type float. It makes more sense for it to be type object as it's an identifier not a number. This will be converted.\n",
        "* `timestamp` is of type float. This will be converted to type datetime\n",
        "\n",
        "Next we will get more information on the ratings given."
      ]
    },
    {
      "cell_type": "code",
      "execution_count": null,
      "metadata": {
        "colab": {
          "base_uri": "https://localhost:8080/"
        },
        "id": "tEVVcDiuAS41",
        "outputId": "7261cb45-e619-4661-8cee-61c3f5446b7b"
      },
      "outputs": [
        {
          "output_type": "execute_result",
          "data": {
            "text/plain": [
              "count    10000038.00\n",
              "mean            3.53\n",
              "std             1.06\n",
              "min             0.50\n",
              "25%             3.00\n",
              "50%             3.50\n",
              "75%             4.00\n",
              "max             5.00\n",
              "Name: rating, dtype: object"
            ]
          },
          "metadata": {},
          "execution_count": 68
        }
      ],
      "source": [
        "# describe the rating column in a readable format\n",
        "train_df['rating'].describe().apply(\"{0:.2f}\".format)\n"
      ]
    },
    {
      "cell_type": "markdown",
      "metadata": {
        "id": "5EEEyaFQ_gSf"
      },
      "source": [
        "#### Comment\n",
        "* There are 10,000,038 ratings \n",
        "* The lowest and highest ratings are 0.5 and 5 while the average rating is 3.5.\n",
        "* 50% of the movies were rated 3.5 or below\n",
        "* 25% of the movies were rated 4 or above\n",
        "\n",
        "Next we will explore the popularity of movies and investigate the ratings provided."
      ]
    },
    {
      "cell_type": "code",
      "execution_count": 11,
      "metadata": {
        "colab": {
          "base_uri": "https://localhost:8080/"
        },
        "id": "sq3OTurK34wa",
        "outputId": "d8717790-0623-4ad8-b287-111ce17558e7"
      },
      "outputs": [
        {
          "output_type": "stream",
          "name": "stdout",
          "text": [
            "There are 10 ratings: [4.  4.5 5.  2.  3.  1.  3.5 2.5 0.5 1.5]\n"
          ]
        }
      ],
      "source": [
        "# Calculate the number of unique ratings\n",
        "print('There are', train_dfC['rating'].nunique(),\n",
        "      'ratings:', train_dfC['rating'].unique())"
      ]
    },
    {
      "cell_type": "code",
      "execution_count": 12,
      "metadata": {
        "colab": {
          "base_uri": "https://localhost:8080/",
          "height": 301
        },
        "id": "CLwf9UdWyQKE",
        "outputId": "65a1dbf5-b7ed-415d-f2a0-39cceabc1c96"
      },
      "outputs": [
        {
          "output_type": "display_data",
          "data": {
            "text/plain": [
              "<Figure size 432x288 with 1 Axes>"
            ],
            "image/png": "[encoded data removed]"
          },
          "metadata": {
            "needs_background": "light"
          }
        }
      ],
      "source": [
        "# Plot the the ratings on a histogram plot\n",
        "train_df['rating'].hist()\n",
        "plt.title('Rating Histogram')\n",
        "plt.xlabel('Ratings')\n",
        "plt.show()"
      ]
    },
    {
      "cell_type": "markdown",
      "metadata": {
        "id": "06MIYTb_6FjK"
      },
      "source": [
        "From the histogram above, we see that the 4, followd by 3 and 5 are the three most frequently provided ratings. Let's get a sense of the distribution of votes (as in count of votes) for movies."
      ]
    },
    {
      "cell_type": "code",
      "source": [
        "# create a dictionary with movieIds and the count of votes\n",
        "movie_to_votes_counter = Counter(train_dfC['movieId'].to_list())"
      ],
      "metadata": {
        "id": "dBablhX3Vibk"
      },
      "execution_count": 175,
      "outputs": []
    },
    {
      "cell_type": "code",
      "source": [
        "# create a dataframe of the movie_to_votes_dict\n",
        "movie_to_votes_df = pd.DataFrame.from_dict(movie_to_votes_counter, orient='index').reset_index()\n",
        "movie_to_votes_df = movie_to_votes_df.rename(columns={'index':'movieId', 0:'count'})\n",
        "movie_to_votes_df.head()"
      ],
      "metadata": {
        "colab": {
          "base_uri": "https://localhost:8080/",
          "height": 206
        },
        "id": "4AipgtHtVziU",
        "outputId": "9d5b609c-2abf-4c2f-8f96-0aeaaa226bed"
      },
      "execution_count": 176,
      "outputs": [
        {
          "output_type": "execute_result",
          "data": {
            "text/plain": [
              "   movieId  count\n",
              "0  57669.0   4253\n",
              "1      5.0   4648\n",
              "2   5459.0   5730\n",
              "3  32296.0    658\n",
              "4    366.0   1077"
            ],
            "text/html": [
              "\n",
              "  <div id=\"df-593b29bc-6e42-48c3-a807-b2542be04546\">\n",
              "    <div class=\"colab-df-container\">\n",
              "      <div>\n",
              "<style scoped>\n",
              "    .dataframe tbody tr th:only-of-type {\n",
              "        vertical-align: middle;\n",
              "    }\n",
              "\n",
              "    .dataframe tbody tr th {\n",
              "        vertical-align: top;\n",
              "    }\n",
              "\n",
              "    .dataframe thead th {\n",
              "        text-align: right;\n",
              "    }\n",
              "</style>\n",
              "<table border=\"1\" class=\"dataframe\">\n",
              "  <thead>\n",
              "    <tr style=\"text-align: right;\">\n",
              "      <th></th>\n",
              "      <th>movieId</th>\n",
              "      <th>count</th>\n",
              "    </tr>\n",
              "  </thead>\n",
              "  <tbody>\n",
              "    <tr>\n",
              "      <th>0</th>\n",
              "      <td>57669.0</td>\n",
              "      <td>4253</td>\n",
              "    </tr>\n",
              "    <tr>\n",
              "      <th>1</th>\n",
              "      <td>5.0</td>\n",
              "      <td>4648</td>\n",
              "    </tr>\n",
              "    <tr>\n",
              "      <th>2</th>\n",
              "      <td>5459.0</td>\n",
              "      <td>5730</td>\n",
              "    </tr>\n",
              "    <tr>\n",
              "      <th>3</th>\n",
              "      <td>32296.0</td>\n",
              "      <td>658</td>\n",
              "    </tr>\n",
              "    <tr>\n",
              "      <th>4</th>\n",
              "      <td>366.0</td>\n",
              "      <td>1077</td>\n",
              "    </tr>\n",
              "  </tbody>\n",
              "</table>\n",
              "</div>\n",
              "      <button class=\"colab-df-convert\" onclick=\"convertToInteractive('df-593b29bc-6e42-48c3-a807-b2542be04546')\"\n",
              "              title=\"Convert this dataframe to an interactive table.\"\n",
              "              style=\"display:none;\">\n",
              "        \n",
              "  <svg xmlns=\"http://www.w3.org/2000/svg\" height=\"24px\"viewBox=\"0 0 24 24\"\n",
              "       width=\"24px\">\n",
              "    <path d=\"M0 0h24v24H0V0z\" fill=\"none\"/>\n",
              "    <path d=\"M18.56 5.44l.94 2.06.94-2.06 2.06-.94-2.06-.94-.94-2.06-.94 2.06-2.06.94zm-11 1L8.5 8.5l.94-2.06 2.06-.94-2.06-.94L8.5 2.5l-.94 2.06-2.06.94zm10 10l.94 2.06.94-2.06 2.06-.94-2.06-.94-.94-2.06-.94 2.06-2.06.94z\"/><path d=\"M17.41 7.96l-1.37-1.37c-.4-.4-.92-.59-1.43-.59-.52 0-1.04.2-1.43.59L10.3 9.45l-7.72 7.72c-.78.78-.78 2.05 0 2.83L4 21.41c.39.39.9.59 1.41.59.51 0 1.02-.2 1.41-.59l7.78-7.78 2.81-2.81c.8-.78.8-2.07 0-2.86zM5.41 20L4 18.59l7.72-7.72 1.47 1.35L5.41 20z\"/>\n",
              "  </svg>\n",
              "      </button>\n",
              "      \n",
              "  <style>\n",
              "    .colab-df-container {\n",
              "      display:flex;\n",
              "      flex-wrap:wrap;\n",
              "      gap: 12px;\n",
              "    }\n",
              "\n",
              "    .colab-df-convert {\n",
              "      background-color: #E8F0FE;\n",
              "      border: none;\n",
              "      border-radius: 50%;\n",
              "      cursor: pointer;\n",
              "      display: none;\n",
              "      fill: #1967D2;\n",
              "      height: 32px;\n",
              "      padding: 0 0 0 0;\n",
              "      width: 32px;\n",
              "    }\n",
              "\n",
              "    .colab-df-convert:hover {\n",
              "      background-color: #E2EBFA;\n",
              "      box-shadow: 0px 1px 2px rgba(60, 64, 67, 0.3), 0px 1px 3px 1px rgba(60, 64, 67, 0.15);\n",
              "      fill: #174EA6;\n",
              "    }\n",
              "\n",
              "    [theme=dark] .colab-df-convert {\n",
              "      background-color: #3B4455;\n",
              "      fill: #D2E3FC;\n",
              "    }\n",
              "\n",
              "    [theme=dark] .colab-df-convert:hover {\n",
              "      background-color: #434B5C;\n",
              "      box-shadow: 0px 1px 3px 1px rgba(0, 0, 0, 0.15);\n",
              "      filter: drop-shadow(0px 1px 2px rgba(0, 0, 0, 0.3));\n",
              "      fill: #FFFFFF;\n",
              "    }\n",
              "  </style>\n",
              "\n",
              "      <script>\n",
              "        const buttonEl =\n",
              "          document.querySelector('#df-593b29bc-6e42-48c3-a807-b2542be04546 button.colab-df-convert');\n",
              "        buttonEl.style.display =\n",
              "          google.colab.kernel.accessAllowed ? 'block' : 'none';\n",
              "\n",
              "        async function convertToInteractive(key) {\n",
              "          const element = document.querySelector('#df-593b29bc-6e42-48c3-a807-b2542be04546');\n",
              "          const dataTable =\n",
              "            await google.colab.kernel.invokeFunction('convertToInteractive',\n",
              "                                                     [key], {});\n",
              "          if (!dataTable) return;\n",
              "\n",
              "          const docLinkHtml = 'Like what you see? Visit the ' +\n",
              "            '<a target=\"_blank\" href=https://colab.research.google.com/notebooks/data_table.ipynb>data table notebook</a>'\n",
              "            + ' to learn more about interactive tables.';\n",
              "          element.innerHTML = '';\n",
              "          dataTable['output_type'] = 'display_data';\n",
              "          await google.colab.output.renderOutput(dataTable, element);\n",
              "          const docLink = document.createElement('div');\n",
              "          docLink.innerHTML = docLinkHtml;\n",
              "          element.appendChild(docLink);\n",
              "        }\n",
              "      </script>\n",
              "    </div>\n",
              "  </div>\n",
              "  "
            ]
          },
          "metadata": {},
          "execution_count": 176
        }
      ]
    },
    {
      "cell_type": "code",
      "source": [
        "movie_to_votes_df['count'].describe().T"
      ],
      "metadata": {
        "colab": {
          "base_uri": "https://localhost:8080/"
        },
        "id": "ovnV2WyudlBB",
        "outputId": "f8f7f4a9-1af6-499d-d662-e9dc8963a86f"
      },
      "execution_count": 15,
      "outputs": [
        {
          "output_type": "execute_result",
          "data": {
            "text/plain": [
              "count    48213.000000\n",
              "mean       207.413727\n",
              "std       1092.768777\n",
              "min          1.000000\n",
              "25%          1.000000\n",
              "50%          4.000000\n",
              "75%         26.000000\n",
              "max      32831.000000\n",
              "Name: count, dtype: float64"
            ]
          },
          "metadata": {},
          "execution_count": 15
        }
      ]
    },
    {
      "cell_type": "markdown",
      "source": [
        "Based on prior tests, we found that the system is able to handle pivoting data to approximately 800k records. Therefor we will create upper and lower limits (based on votes) for the data to get to these records."
      ],
      "metadata": {
        "id": "ilP3mRbM8zGI"
      }
    },
    {
      "cell_type": "code",
      "source": [
        "record_table = []\n",
        "def record_split(movie_to_votes_df, lower, upper):\n",
        "  \"\"\"This function counts and prints the number of records that account \n",
        "  for movies within the upper and lower limits\"\"\"\n",
        "  q = (movie_to_votes_df['count'] >= lower) & (movie_to_votes_df['count'] <= upper)\n",
        "  r = (movie_to_votes_df[q]['count'].sum())\n",
        "  print('Movies between', lower, 'and', upper,':',r,'records',end='\\n\\n')\n",
        "  record_table.append((lower, upper, r))\n",
        "  return record_table"
      ],
      "metadata": {
        "id": "XUeo0_EbaEut"
      },
      "execution_count": 182,
      "outputs": []
    },
    {
      "cell_type": "markdown",
      "source": [
        "In order to provide more accurate predictions, taking into consideration the system limitations, the dataset will be split into 13 pivot tables."
      ],
      "metadata": {
        "id": "Ds3GJ1O7_YYl"
      }
    },
    {
      "cell_type": "code",
      "source": [
        "print('1: ',end='')\n",
        "record_split(movie_to_votes_df, 0, 250)\n",
        "print('2: ',end='')\n",
        "record_split(movie_to_votes_df, 251, 600)\n",
        "print('3: ',end='')\n",
        "record_split(movie_to_votes_df, 601, 1100)\n",
        "print('4: ',end='')\n",
        "record_split(movie_to_votes_df, 1101, 1800)\n",
        "print('5: ',end='')\n",
        "record_split(movie_to_votes_df, 1801, 2600)\n",
        "print('6: ',end='')\n",
        "record_split(movie_to_votes_df, 2601, 3500)\n",
        "print('7: ',end='')\n",
        "record_split(movie_to_votes_df, 3501, 4500)\n",
        "print('8: ',end='')\n",
        "record_split(movie_to_votes_df, 4501, 5900)\n",
        "print('9: ',end='')\n",
        "record_split(movie_to_votes_df, 5901, 8000)\n",
        "print('10: ',end='')\n",
        "record_split(movie_to_votes_df, 8001, 11000)\n",
        "print('11: ',end='')\n",
        "record_split(movie_to_votes_df, 11001, 15000)\n",
        "print('12: ',end='')\n",
        "record_split(movie_to_votes_df, 15001, 27000)\n",
        "print('13: ',end='')\n",
        "record_split(movie_to_votes_df, 27001, 2000000)\n"
      ],
      "metadata": {
        "colab": {
          "base_uri": "https://localhost:8080/"
        },
        "id": "_iwahM_-6Nw9",
        "outputId": "6387b0b8-436f-4dda-8fd4-161d709639df"
      },
      "execution_count": 183,
      "outputs": [
        {
          "output_type": "stream",
          "name": "stdout",
          "text": [
            "1: Movies between 0 and 250 : 815433 records\n",
            "\n",
            "2: Movies between 251 and 600 : 738449 records\n",
            "\n",
            "3: Movies between 601 and 1100 : 809884 records\n",
            "\n",
            "4: Movies between 1101 and 1800 : 869182 records\n",
            "\n",
            "5: Movies between 1801 and 2600 : 812564 records\n",
            "\n",
            "6: Movies between 2601 and 3500 : 799543 records\n",
            "\n",
            "7: Movies between 3501 and 4500 : 797895 records\n",
            "\n",
            "8: Movies between 4501 and 5900 : 869486 records\n",
            "\n",
            "9: Movies between 5901 and 8000 : 861683 records\n",
            "\n",
            "10: Movies between 8001 and 11000 : 835353 records\n",
            "\n",
            "11: Movies between 11001 and 15000 : 817665 records\n",
            "\n",
            "12: Movies between 15001 and 27000 : 789972 records\n",
            "\n",
            "13: Movies between 27001 and 2000000 : 182929 records\n",
            "\n"
          ]
        },
        {
          "output_type": "execute_result",
          "data": {
            "text/plain": [
              "[(0, 250, 815433),\n",
              " (251, 600, 738449),\n",
              " (601, 1100, 809884),\n",
              " (1101, 1800, 869182),\n",
              " (1801, 2600, 812564),\n",
              " (2601, 3500, 799543),\n",
              " (3501, 4500, 797895),\n",
              " (4501, 5900, 869486),\n",
              " (5901, 8000, 861683),\n",
              " (8001, 11000, 835353),\n",
              " (11001, 15000, 817665),\n",
              " (15001, 27000, 789972),\n",
              " (27001, 2000000, 182929)]"
            ]
          },
          "metadata": {},
          "execution_count": 183
        }
      ]
    },
    {
      "cell_type": "markdown",
      "source": [
        "Next we will create a dataframe from the record table for easier referencing."
      ],
      "metadata": {
        "id": "9jbKmBPCAjsT"
      }
    },
    {
      "cell_type": "code",
      "source": [
        "record_df = pd.DataFrame(record_table, columns =['lower', 'upper', 'record_count'])"
      ],
      "metadata": {
        "id": "oOTENB_5AQLr"
      },
      "execution_count": 18,
      "outputs": []
    },
    {
      "cell_type": "markdown",
      "metadata": {
        "id": "ncQT9BysAdi7"
      },
      "source": [
        "### Exploring the test dataset"
      ]
    },
    {
      "cell_type": "code",
      "execution_count": null,
      "metadata": {
        "colab": {
          "base_uri": "https://localhost:8080/"
        },
        "id": "MiS-40kWAgxB",
        "outputId": "5e65169f-5136-4cea-9323-67f3c326b086"
      },
      "outputs": [
        {
          "name": "stdout",
          "output_type": "stream",
          "text": [
            "test_dfC has 5000019 rows and 2 columns, namely:\n",
            " ['userId', 'movieId']\n",
            "\n",
            "The following table represents the column data types in test_dfC:\n",
            "\n",
            "<class 'pandas.core.frame.DataFrame'>\n",
            "RangeIndex: 5000019 entries, 0 to 5000018\n",
            "Data columns (total 2 columns):\n",
            " #   Column   Dtype\n",
            "---  ------   -----\n",
            " 0   userId   int64\n",
            " 1   movieId  int64\n",
            "dtypes: int64(2)\n",
            "memory usage: 76.3 MB\n",
            "None\n",
            "\n",
            "The following table represents the missing values and the corresponding % in test_dfC:\n",
            "\n",
            "         null_values  null_values_%\n",
            "userId             0            0.0\n",
            "movieId            0            0.0\n",
            "\n",
            "The following is a printout of the first 5 rows in test_dfC:\n",
            "\n",
            "   userId  movieId\n",
            "0       1     2011\n",
            "1       1     4144\n",
            "2       1     5767\n",
            "3       1     6711\n",
            "4       1     7318\n"
          ]
        }
      ],
      "source": [
        "get_info(test_dfC)"
      ]
    },
    {
      "cell_type": "code",
      "execution_count": null,
      "metadata": {
        "colab": {
          "base_uri": "https://localhost:8080/"
        },
        "id": "d376zgipTQWG",
        "outputId": "107cb767-7777-40ff-9946-5fc1b441e36a"
      },
      "outputs": [
        {
          "name": "stdout",
          "output_type": "stream",
          "text": [
            "There are 39643 movies being rated by 162350 uers.\n"
          ]
        }
      ],
      "source": [
        "# print number of movies being rated\n",
        "print('There are',test_dfC.movieId.nunique(),'movies being rated by', test_dfC.userId.nunique(), 'uers.')"
      ]
    },
    {
      "cell_type": "markdown",
      "metadata": {
        "id": "G5DQjJS8AjfT"
      },
      "source": [
        "#### Comment\n",
        "* There are no null values in the test dataset\n",
        "* `userID` and `movieId` are of type int. It makes more sense for it to be type object as it's an identifier not a number. This will be converted.\n",
        "* `timestamp` is of type float. This will be converted to type datetime"
      ]
    },
    {
      "cell_type": "markdown",
      "metadata": {
        "id": "aPs7dpohFMRC"
      },
      "source": [
        "#**4. Data Engineering**\n",
        "    \n",
        "| ⚡ Description: Data engineering ⚡ |\n",
        "| :--------------------------- |\n",
        "| In this section, we clean the dataset and possibly create new features - as identified in the EDA phase. |\n",
        "\n",
        "---"
      ]
    },
    {
      "cell_type": "markdown",
      "metadata": {
        "id": "f_H5ONWRFrgK"
      },
      "source": [
        "Next we'll create a helper functions that will help us perform feature engineering on the datasets.\n",
        "### Helper functions"
      ]
    },
    {
      "cell_type": "code",
      "execution_count": 20,
      "metadata": {
        "id": "xT4LpiT1Hc3L"
      },
      "outputs": [],
      "source": [
        "# Function to convert a feature to a float\n",
        "def to_float(col):\n",
        "    \"\"\"This function converts features to type float\"\"\"\n",
        "    try:\n",
        "      col = float(col)\n",
        "    except:\n",
        "      col = np.nan\n",
        "    return col\n",
        "\n",
        "# Function to convert a feature to a int\n",
        "def to_int(col):\n",
        "    \"\"\"This function converts features to type float\"\"\"\n",
        "    try:\n",
        "      col = int(col)\n",
        "    except:\n",
        "      col = np.nan\n",
        "    return col\n",
        "\n",
        "# Function convert null to empties and replaces pipes\n",
        "def separate_pipes(df, col):\n",
        "    \"\"\" This function converts all null into empty strings\n",
        "    and replaces pipes with commas\"\"\"\n",
        "    # convert all nulls into empty lists\n",
        "    df[col] = df[col].fillna('')\n",
        "    # replace pipes with commas and convert to list of strings\n",
        "    df[col] = df[col].replace(r\"\\|\", ', ', regex=True)\n",
        "    return df\n",
        "\n",
        "# Function converts cells to list\n",
        "def create_lists(df, col):\n",
        "    \"\"\" This function converts all null into empty lists\n",
        "    and replaces pipes with commas\"\"\"\n",
        "    # convert all nulls into empty lists\n",
        "    df[col] = df[col].fillna('[]')\n",
        "    # replace pipes with commas and convert to list of strings\n",
        "    df[col] = df[col].apply(lambda x: list(x.split(\",\")))\n",
        "    return df"
      ]
    },
    {
      "cell_type": "markdown",
      "metadata": {
        "id": "jmn3oF-QJR70"
      },
      "source": [
        "### Engineering movies dataset"
      ]
    },
    {
      "cell_type": "markdown",
      "metadata": {
        "id": "-0WZUpIWqPku"
      },
      "source": [
        "#### Cleaning the data\n",
        "Next we will clean the movies dataset by:\n",
        "* removing the pipes\n",
        "* removing (no genres listed)"
      ]
    },
    {
      "cell_type": "code",
      "execution_count": 21,
      "metadata": {
        "id": "NmVxElyUJYBx"
      },
      "outputs": [],
      "source": [
        "# replace the pipes in the `genres` feature of movies\n",
        "movies_dfC = separate_pipes(movies_dfC, 'genres')\n"
      ]
    },
    {
      "cell_type": "code",
      "execution_count": 22,
      "metadata": {
        "colab": {
          "base_uri": "https://localhost:8080/"
        },
        "id": "lbP8vcKk-Q-e",
        "outputId": "9c6ef1cb-3ed9-4df8-cb8c-506fcb2eb1de"
      },
      "outputs": [
        {
          "output_type": "stream",
          "name": "stdout",
          "text": [
            "These are 20 elements listed in the genres feature:\n",
            "\n"
          ]
        },
        {
          "output_type": "execute_result",
          "data": {
            "text/plain": [
              "{'(no genres listed)',\n",
              " 'Action',\n",
              " 'Adventure',\n",
              " 'Animation',\n",
              " 'Children',\n",
              " 'Comedy',\n",
              " 'Crime',\n",
              " 'Documentary',\n",
              " 'Drama',\n",
              " 'Fantasy',\n",
              " 'Film-Noir',\n",
              " 'Horror',\n",
              " 'IMAX',\n",
              " 'Musical',\n",
              " 'Mystery',\n",
              " 'Romance',\n",
              " 'Sci-Fi',\n",
              " 'Thriller',\n",
              " 'War',\n",
              " 'Western'}"
            ]
          },
          "metadata": {},
          "execution_count": 22
        }
      ],
      "source": [
        "# extract the different genres used\n",
        "genre_set = set()\n",
        "for i in list(movies_dfC['genres'].unique()):\n",
        "  for j in i.split(','):\n",
        "    genre_set.add(j.strip())\n",
        "\n",
        "print('These are', len(genre_set),'elements listed in the genres feature:', end='\\n\\n')\n",
        "genre_set"
      ]
    },
    {
      "cell_type": "code",
      "source": [
        "# replace '(no genres listed)' with ''\n",
        "movies_dfC['genres'] = movies_dfC['genres'].replace(r'\\b(no genres listed)\\b','', regex=True)\n",
        "movies_dfC['genres'] = movies_dfC['genres'].replace('[()]','', regex=True)"
      ],
      "metadata": {
        "id": "lpk1QxJKLM-g"
      },
      "execution_count": 23,
      "outputs": []
    },
    {
      "cell_type": "code",
      "execution_count": 24,
      "metadata": {
        "colab": {
          "base_uri": "https://localhost:8080/",
          "height": 206
        },
        "id": "uj59pxiSp_er",
        "outputId": "4ffec742-e6a1-4304-bf40-29082e1dd936"
      },
      "outputs": [
        {
          "output_type": "execute_result",
          "data": {
            "text/plain": [
              "      movieId                           title                    genres  \\\n",
              "62418  209157                       We (2018)                     Drama   \n",
              "62419  209159       Window of the Soul (2001)               Documentary   \n",
              "62420  209163                Bad Poems (2018)             Comedy, Drama   \n",
              "62421  209169             A Girl Thing (2001)                             \n",
              "62422  209171  Women of Devil's Island (1962)  Action, Adventure, Drama   \n",
              "\n",
              "         year  \n",
              "62418  2018.0  \n",
              "62419  2001.0  \n",
              "62420  2018.0  \n",
              "62421  2001.0  \n",
              "62422  1962.0  "
            ],
            "text/html": [
              "\n",
              "  <div id=\"df-f031e197-9065-47e4-a17f-fb6b338d455b\">\n",
              "    <div class=\"colab-df-container\">\n",
              "      <div>\n",
              "<style scoped>\n",
              "    .dataframe tbody tr th:only-of-type {\n",
              "        vertical-align: middle;\n",
              "    }\n",
              "\n",
              "    .dataframe tbody tr th {\n",
              "        vertical-align: top;\n",
              "    }\n",
              "\n",
              "    .dataframe thead th {\n",
              "        text-align: right;\n",
              "    }\n",
              "</style>\n",
              "<table border=\"1\" class=\"dataframe\">\n",
              "  <thead>\n",
              "    <tr style=\"text-align: right;\">\n",
              "      <th></th>\n",
              "      <th>movieId</th>\n",
              "      <th>title</th>\n",
              "      <th>genres</th>\n",
              "      <th>year</th>\n",
              "    </tr>\n",
              "  </thead>\n",
              "  <tbody>\n",
              "    <tr>\n",
              "      <th>62418</th>\n",
              "      <td>209157</td>\n",
              "      <td>We (2018)</td>\n",
              "      <td>Drama</td>\n",
              "      <td>2018.0</td>\n",
              "    </tr>\n",
              "    <tr>\n",
              "      <th>62419</th>\n",
              "      <td>209159</td>\n",
              "      <td>Window of the Soul (2001)</td>\n",
              "      <td>Documentary</td>\n",
              "      <td>2001.0</td>\n",
              "    </tr>\n",
              "    <tr>\n",
              "      <th>62420</th>\n",
              "      <td>209163</td>\n",
              "      <td>Bad Poems (2018)</td>\n",
              "      <td>Comedy, Drama</td>\n",
              "      <td>2018.0</td>\n",
              "    </tr>\n",
              "    <tr>\n",
              "      <th>62421</th>\n",
              "      <td>209169</td>\n",
              "      <td>A Girl Thing (2001)</td>\n",
              "      <td></td>\n",
              "      <td>2001.0</td>\n",
              "    </tr>\n",
              "    <tr>\n",
              "      <th>62422</th>\n",
              "      <td>209171</td>\n",
              "      <td>Women of Devil's Island (1962)</td>\n",
              "      <td>Action, Adventure, Drama</td>\n",
              "      <td>1962.0</td>\n",
              "    </tr>\n",
              "  </tbody>\n",
              "</table>\n",
              "</div>\n",
              "      <button class=\"colab-df-convert\" onclick=\"convertToInteractive('df-f031e197-9065-47e4-a17f-fb6b338d455b')\"\n",
              "              title=\"Convert this dataframe to an interactive table.\"\n",
              "              style=\"display:none;\">\n",
              "        \n",
              "  <svg xmlns=\"http://www.w3.org/2000/svg\" height=\"24px\"viewBox=\"0 0 24 24\"\n",
              "       width=\"24px\">\n",
              "    <path d=\"M0 0h24v24H0V0z\" fill=\"none\"/>\n",
              "    <path d=\"M18.56 5.44l.94 2.06.94-2.06 2.06-.94-2.06-.94-.94-2.06-.94 2.06-2.06.94zm-11 1L8.5 8.5l.94-2.06 2.06-.94-2.06-.94L8.5 2.5l-.94 2.06-2.06.94zm10 10l.94 2.06.94-2.06 2.06-.94-2.06-.94-.94-2.06-.94 2.06-2.06.94z\"/><path d=\"M17.41 7.96l-1.37-1.37c-.4-.4-.92-.59-1.43-.59-.52 0-1.04.2-1.43.59L10.3 9.45l-7.72 7.72c-.78.78-.78 2.05 0 2.83L4 21.41c.39.39.9.59 1.41.59.51 0 1.02-.2 1.41-.59l7.78-7.78 2.81-2.81c.8-.78.8-2.07 0-2.86zM5.41 20L4 18.59l7.72-7.72 1.47 1.35L5.41 20z\"/>\n",
              "  </svg>\n",
              "      </button>\n",
              "      \n",
              "  <style>\n",
              "    .colab-df-container {\n",
              "      display:flex;\n",
              "      flex-wrap:wrap;\n",
              "      gap: 12px;\n",
              "    }\n",
              "\n",
              "    .colab-df-convert {\n",
              "      background-color: #E8F0FE;\n",
              "      border: none;\n",
              "      border-radius: 50%;\n",
              "      cursor: pointer;\n",
              "      display: none;\n",
              "      fill: #1967D2;\n",
              "      height: 32px;\n",
              "      padding: 0 0 0 0;\n",
              "      width: 32px;\n",
              "    }\n",
              "\n",
              "    .colab-df-convert:hover {\n",
              "      background-color: #E2EBFA;\n",
              "      box-shadow: 0px 1px 2px rgba(60, 64, 67, 0.3), 0px 1px 3px 1px rgba(60, 64, 67, 0.15);\n",
              "      fill: #174EA6;\n",
              "    }\n",
              "\n",
              "    [theme=dark] .colab-df-convert {\n",
              "      background-color: #3B4455;\n",
              "      fill: #D2E3FC;\n",
              "    }\n",
              "\n",
              "    [theme=dark] .colab-df-convert:hover {\n",
              "      background-color: #434B5C;\n",
              "      box-shadow: 0px 1px 3px 1px rgba(0, 0, 0, 0.15);\n",
              "      filter: drop-shadow(0px 1px 2px rgba(0, 0, 0, 0.3));\n",
              "      fill: #FFFFFF;\n",
              "    }\n",
              "  </style>\n",
              "\n",
              "      <script>\n",
              "        const buttonEl =\n",
              "          document.querySelector('#df-f031e197-9065-47e4-a17f-fb6b338d455b button.colab-df-convert');\n",
              "        buttonEl.style.display =\n",
              "          google.colab.kernel.accessAllowed ? 'block' : 'none';\n",
              "\n",
              "        async function convertToInteractive(key) {\n",
              "          const element = document.querySelector('#df-f031e197-9065-47e4-a17f-fb6b338d455b');\n",
              "          const dataTable =\n",
              "            await google.colab.kernel.invokeFunction('convertToInteractive',\n",
              "                                                     [key], {});\n",
              "          if (!dataTable) return;\n",
              "\n",
              "          const docLinkHtml = 'Like what you see? Visit the ' +\n",
              "            '<a target=\"_blank\" href=https://colab.research.google.com/notebooks/data_table.ipynb>data table notebook</a>'\n",
              "            + ' to learn more about interactive tables.';\n",
              "          element.innerHTML = '';\n",
              "          dataTable['output_type'] = 'display_data';\n",
              "          await google.colab.output.renderOutput(dataTable, element);\n",
              "          const docLink = document.createElement('div');\n",
              "          docLink.innerHTML = docLinkHtml;\n",
              "          element.appendChild(docLink);\n",
              "        }\n",
              "      </script>\n",
              "    </div>\n",
              "  </div>\n",
              "  "
            ]
          },
          "metadata": {},
          "execution_count": 24
        }
      ],
      "source": [
        "# print the first 5 rows of the dataset\n",
        "movies_dfC.tail()"
      ]
    },
    {
      "cell_type": "markdown",
      "metadata": {
        "id": "jHrHYdqacF_I"
      },
      "source": [
        "### Engineering the imdb dataset"
      ]
    },
    {
      "cell_type": "markdown",
      "metadata": {
        "id": "Lc1b_miGoVQU"
      },
      "source": [
        "#### Cleaning the data\n",
        "Next we will clean the imdb dataset by:\n",
        "* removing the pipes\n",
        "* removing '$' from the budget and converting it to a float\n",
        "* converting runtime to a float"
      ]
    },
    {
      "cell_type": "code",
      "execution_count": 25,
      "metadata": {
        "colab": {
          "base_uri": "https://localhost:8080/",
          "height": 206
        },
        "id": "v1p6HCH6cEpx",
        "outputId": "8acf9338-7db3-40f9-a4d9-d356ce0c876c"
      },
      "outputs": [
        {
          "output_type": "execute_result",
          "data": {
            "text/plain": [
              "  movieId                                         title_cast  \\\n",
              "0       1  Tom Hanks, Tim Allen, Don Rickles, Jim Varney,...   \n",
              "1       2  Robin Williams, Jonathan Hyde, Kirsten Dunst, ...   \n",
              "2       3  Walter Matthau, Jack Lemmon, Sophia Loren, Ann...   \n",
              "3       4  Whitney Houston, Angela Bassett, Loretta Devin...   \n",
              "4       5  Steve Martin, Diane Keaton, Martin Short, Kimb...   \n",
              "\n",
              "              director  runtime      budget  \\\n",
              "0        John Lasseter     81.0  30000000.0   \n",
              "1   Jonathan Hensleigh    104.0  65000000.0   \n",
              "2  Mark Steven Johnson    101.0  25000000.0   \n",
              "3       Terry McMillan    124.0  16000000.0   \n",
              "4       Albert Hackett    106.0  30000000.0   \n",
              "\n",
              "                                       plot_keywords  \n",
              "0                toy, rivalry, cowboy, cgi animation  \n",
              "1                board game, adventurer, fight, game  \n",
              "2                      boat, lake, neighbor, rivalry  \n",
              "3  black american, husband wife relationship, bet...  \n",
              "4                 fatherhood, doberman, dog, mansion  "
            ],
            "text/html": [
              "\n",
              "  <div id=\"df-94b4b232-ff42-4b38-ae41-ca92ba379560\">\n",
              "    <div class=\"colab-df-container\">\n",
              "      <div>\n",
              "<style scoped>\n",
              "    .dataframe tbody tr th:only-of-type {\n",
              "        vertical-align: middle;\n",
              "    }\n",
              "\n",
              "    .dataframe tbody tr th {\n",
              "        vertical-align: top;\n",
              "    }\n",
              "\n",
              "    .dataframe thead th {\n",
              "        text-align: right;\n",
              "    }\n",
              "</style>\n",
              "<table border=\"1\" class=\"dataframe\">\n",
              "  <thead>\n",
              "    <tr style=\"text-align: right;\">\n",
              "      <th></th>\n",
              "      <th>movieId</th>\n",
              "      <th>title_cast</th>\n",
              "      <th>director</th>\n",
              "      <th>runtime</th>\n",
              "      <th>budget</th>\n",
              "      <th>plot_keywords</th>\n",
              "    </tr>\n",
              "  </thead>\n",
              "  <tbody>\n",
              "    <tr>\n",
              "      <th>0</th>\n",
              "      <td>1</td>\n",
              "      <td>Tom Hanks, Tim Allen, Don Rickles, Jim Varney,...</td>\n",
              "      <td>John Lasseter</td>\n",
              "      <td>81.0</td>\n",
              "      <td>30000000.0</td>\n",
              "      <td>toy, rivalry, cowboy, cgi animation</td>\n",
              "    </tr>\n",
              "    <tr>\n",
              "      <th>1</th>\n",
              "      <td>2</td>\n",
              "      <td>Robin Williams, Jonathan Hyde, Kirsten Dunst, ...</td>\n",
              "      <td>Jonathan Hensleigh</td>\n",
              "      <td>104.0</td>\n",
              "      <td>65000000.0</td>\n",
              "      <td>board game, adventurer, fight, game</td>\n",
              "    </tr>\n",
              "    <tr>\n",
              "      <th>2</th>\n",
              "      <td>3</td>\n",
              "      <td>Walter Matthau, Jack Lemmon, Sophia Loren, Ann...</td>\n",
              "      <td>Mark Steven Johnson</td>\n",
              "      <td>101.0</td>\n",
              "      <td>25000000.0</td>\n",
              "      <td>boat, lake, neighbor, rivalry</td>\n",
              "    </tr>\n",
              "    <tr>\n",
              "      <th>3</th>\n",
              "      <td>4</td>\n",
              "      <td>Whitney Houston, Angela Bassett, Loretta Devin...</td>\n",
              "      <td>Terry McMillan</td>\n",
              "      <td>124.0</td>\n",
              "      <td>16000000.0</td>\n",
              "      <td>black american, husband wife relationship, bet...</td>\n",
              "    </tr>\n",
              "    <tr>\n",
              "      <th>4</th>\n",
              "      <td>5</td>\n",
              "      <td>Steve Martin, Diane Keaton, Martin Short, Kimb...</td>\n",
              "      <td>Albert Hackett</td>\n",
              "      <td>106.0</td>\n",
              "      <td>30000000.0</td>\n",
              "      <td>fatherhood, doberman, dog, mansion</td>\n",
              "    </tr>\n",
              "  </tbody>\n",
              "</table>\n",
              "</div>\n",
              "      <button class=\"colab-df-convert\" onclick=\"convertToInteractive('df-94b4b232-ff42-4b38-ae41-ca92ba379560')\"\n",
              "              title=\"Convert this dataframe to an interactive table.\"\n",
              "              style=\"display:none;\">\n",
              "        \n",
              "  <svg xmlns=\"http://www.w3.org/2000/svg\" height=\"24px\"viewBox=\"0 0 24 24\"\n",
              "       width=\"24px\">\n",
              "    <path d=\"M0 0h24v24H0V0z\" fill=\"none\"/>\n",
              "    <path d=\"M18.56 5.44l.94 2.06.94-2.06 2.06-.94-2.06-.94-.94-2.06-.94 2.06-2.06.94zm-11 1L8.5 8.5l.94-2.06 2.06-.94-2.06-.94L8.5 2.5l-.94 2.06-2.06.94zm10 10l.94 2.06.94-2.06 2.06-.94-2.06-.94-.94-2.06-.94 2.06-2.06.94z\"/><path d=\"M17.41 7.96l-1.37-1.37c-.4-.4-.92-.59-1.43-.59-.52 0-1.04.2-1.43.59L10.3 9.45l-7.72 7.72c-.78.78-.78 2.05 0 2.83L4 21.41c.39.39.9.59 1.41.59.51 0 1.02-.2 1.41-.59l7.78-7.78 2.81-2.81c.8-.78.8-2.07 0-2.86zM5.41 20L4 18.59l7.72-7.72 1.47 1.35L5.41 20z\"/>\n",
              "  </svg>\n",
              "      </button>\n",
              "      \n",
              "  <style>\n",
              "    .colab-df-container {\n",
              "      display:flex;\n",
              "      flex-wrap:wrap;\n",
              "      gap: 12px;\n",
              "    }\n",
              "\n",
              "    .colab-df-convert {\n",
              "      background-color: #E8F0FE;\n",
              "      border: none;\n",
              "      border-radius: 50%;\n",
              "      cursor: pointer;\n",
              "      display: none;\n",
              "      fill: #1967D2;\n",
              "      height: 32px;\n",
              "      padding: 0 0 0 0;\n",
              "      width: 32px;\n",
              "    }\n",
              "\n",
              "    .colab-df-convert:hover {\n",
              "      background-color: #E2EBFA;\n",
              "      box-shadow: 0px 1px 2px rgba(60, 64, 67, 0.3), 0px 1px 3px 1px rgba(60, 64, 67, 0.15);\n",
              "      fill: #174EA6;\n",
              "    }\n",
              "\n",
              "    [theme=dark] .colab-df-convert {\n",
              "      background-color: #3B4455;\n",
              "      fill: #D2E3FC;\n",
              "    }\n",
              "\n",
              "    [theme=dark] .colab-df-convert:hover {\n",
              "      background-color: #434B5C;\n",
              "      box-shadow: 0px 1px 3px 1px rgba(0, 0, 0, 0.15);\n",
              "      filter: drop-shadow(0px 1px 2px rgba(0, 0, 0, 0.3));\n",
              "      fill: #FFFFFF;\n",
              "    }\n",
              "  </style>\n",
              "\n",
              "      <script>\n",
              "        const buttonEl =\n",
              "          document.querySelector('#df-94b4b232-ff42-4b38-ae41-ca92ba379560 button.colab-df-convert');\n",
              "        buttonEl.style.display =\n",
              "          google.colab.kernel.accessAllowed ? 'block' : 'none';\n",
              "\n",
              "        async function convertToInteractive(key) {\n",
              "          const element = document.querySelector('#df-94b4b232-ff42-4b38-ae41-ca92ba379560');\n",
              "          const dataTable =\n",
              "            await google.colab.kernel.invokeFunction('convertToInteractive',\n",
              "                                                     [key], {});\n",
              "          if (!dataTable) return;\n",
              "\n",
              "          const docLinkHtml = 'Like what you see? Visit the ' +\n",
              "            '<a target=\"_blank\" href=https://colab.research.google.com/notebooks/data_table.ipynb>data table notebook</a>'\n",
              "            + ' to learn more about interactive tables.';\n",
              "          element.innerHTML = '';\n",
              "          dataTable['output_type'] = 'display_data';\n",
              "          await google.colab.output.renderOutput(dataTable, element);\n",
              "          const docLink = document.createElement('div');\n",
              "          docLink.innerHTML = docLinkHtml;\n",
              "          element.appendChild(docLink);\n",
              "        }\n",
              "      </script>\n",
              "    </div>\n",
              "  </div>\n",
              "  "
            ]
          },
          "metadata": {},
          "execution_count": 25
        }
      ],
      "source": [
        "# replace the pipes in the title_cast,plot_keywords features of train_movies_imdb_combined\n",
        "f_list = ['title_cast','plot_keywords']\n",
        "for f in f_list:\n",
        "  imdb_dfC = separate_pipes(imdb_dfC, f)\n",
        "\n",
        "# convert the `budget` type from object to float\n",
        "imdb_dfC['budget'] = imdb_dfC['budget'].replace('[\\$,]','', regex=True).apply(to_float)\n",
        "\n",
        "# convert the `runtime` type from object to float\n",
        "imdb_dfC['runtime'] = imdb_dfC['runtime'].apply(to_float)\n",
        "\n",
        "# print the first row of the dataset\n",
        "imdb_dfC.head()"
      ]
    },
    {
      "cell_type": "markdown",
      "metadata": {
        "id": "_jhpZVKtobyT"
      },
      "source": [
        "#### Filling missing values\n",
        "Earlier at the EDA stage, we discovered that the columns, `runtime` and `budget` are missing some of their values. This will adversly affect the algorithm as no model can be trained on blank data points. We will therefore, later either delete (should the number of observations be minimal) or fill in our missing values, being numerical, with the median value. This will be ideal because the Median, as a measure of central tendency, is robust to outliers. These will be dealt with once the tables are merged to avoid duplication of filling."
      ]
    },
    {
      "cell_type": "markdown",
      "metadata": {
        "id": "hAHqcZ4o2PFW"
      },
      "source": [
        "### Engineering the train dataset"
      ]
    },
    {
      "cell_type": "markdown",
      "metadata": {
        "id": "I-7U4woq2QE_"
      },
      "source": [
        "#### Cleaning the data\n",
        "Next we will convert the `timestamp` feature from a Unix based timecode to an appropriate datetime format readable to humans."
      ]
    },
    {
      "cell_type": "code",
      "execution_count": 26,
      "metadata": {
        "id": "yJ1aiwiy2W8M"
      },
      "outputs": [],
      "source": [
        "# extract the UNIX based timestamp from the timestamp feature\n",
        "train_dfC['timestamp'] = pd.to_datetime(train_dfC['timestamp'], unit='s')"
      ]
    },
    {
      "cell_type": "markdown",
      "metadata": {
        "id": "YilZqjdh_cmq"
      },
      "source": [
        "### Combining dataframes\n",
        "Next we will combine imdb_dfC, movies_dfC and train_dfC dataframes: \n",
        "* user ratings are provided in the `train` dataset while movie data, such as the `title` is in the `movies` dataset and `runtime` in the `imdb` dataset. The runtime will be useful in creating a top performing movie list."
      ]
    },
    {
      "cell_type": "code",
      "execution_count": 27,
      "metadata": {
        "id": "wWSD3CgoNXLs"
      },
      "outputs": [],
      "source": [
        "# combine train_df and movies_df\n",
        "train_movies_combined_df = pd.merge(left=train_dfC, right=movies_dfC, \n",
        "                                    how='left', on='movieId')\n"
      ]
    },
    {
      "cell_type": "code",
      "execution_count": 28,
      "metadata": {
        "id": "P9yzy9LeOi55"
      },
      "outputs": [],
      "source": [
        "# combine train_movies_combined_df and imdb_dfC\n",
        "train_movies_imdb_combined_df = pd.merge(left=train_movies_combined_df,\n",
        "                                         right=imdb_dfC, how='left', on='movieId')"
      ]
    },
    {
      "cell_type": "code",
      "execution_count": 29,
      "metadata": {
        "colab": {
          "base_uri": "https://localhost:8080/",
          "height": 142
        },
        "id": "TmkQ-6MgO8r6",
        "outputId": "ccb7d0f6-3947-4dfa-c4ca-1c2e89cdb86b"
      },
      "outputs": [
        {
          "output_type": "execute_result",
          "data": {
            "text/plain": [
              "   userId  movieId  rating           timestamp             title  \\\n",
              "0  5163.0  57669.0     4.0 2018-02-11 11:53:12  In Bruges (2008)   \n",
              "\n",
              "                           genres    year  \\\n",
              "0  Comedy, Crime, Drama, Thriller  2008.0   \n",
              "\n",
              "                                          title_cast         director  \\\n",
              "0  Elizabeth Berrington, Rudy Blomme, Olivier Bon...  Martin McDonagh   \n",
              "\n",
              "   runtime      budget                 plot_keywords  \n",
              "0    107.0  15000000.0  dwarf, bruges, irish, hitman  "
            ],
            "text/html": [
              "\n",
              "  <div id=\"df-fefa2645-c384-44af-86f0-de5c37545eb6\">\n",
              "    <div class=\"colab-df-container\">\n",
              "      <div>\n",
              "<style scoped>\n",
              "    .dataframe tbody tr th:only-of-type {\n",
              "        vertical-align: middle;\n",
              "    }\n",
              "\n",
              "    .dataframe tbody tr th {\n",
              "        vertical-align: top;\n",
              "    }\n",
              "\n",
              "    .dataframe thead th {\n",
              "        text-align: right;\n",
              "    }\n",
              "</style>\n",
              "<table border=\"1\" class=\"dataframe\">\n",
              "  <thead>\n",
              "    <tr style=\"text-align: right;\">\n",
              "      <th></th>\n",
              "      <th>userId</th>\n",
              "      <th>movieId</th>\n",
              "      <th>rating</th>\n",
              "      <th>timestamp</th>\n",
              "      <th>title</th>\n",
              "      <th>genres</th>\n",
              "      <th>year</th>\n",
              "      <th>title_cast</th>\n",
              "      <th>director</th>\n",
              "      <th>runtime</th>\n",
              "      <th>budget</th>\n",
              "      <th>plot_keywords</th>\n",
              "    </tr>\n",
              "  </thead>\n",
              "  <tbody>\n",
              "    <tr>\n",
              "      <th>0</th>\n",
              "      <td>5163.0</td>\n",
              "      <td>57669.0</td>\n",
              "      <td>4.0</td>\n",
              "      <td>2018-02-11 11:53:12</td>\n",
              "      <td>In Bruges (2008)</td>\n",
              "      <td>Comedy, Crime, Drama, Thriller</td>\n",
              "      <td>2008.0</td>\n",
              "      <td>Elizabeth Berrington, Rudy Blomme, Olivier Bon...</td>\n",
              "      <td>Martin McDonagh</td>\n",
              "      <td>107.0</td>\n",
              "      <td>15000000.0</td>\n",
              "      <td>dwarf, bruges, irish, hitman</td>\n",
              "    </tr>\n",
              "  </tbody>\n",
              "</table>\n",
              "</div>\n",
              "      <button class=\"colab-df-convert\" onclick=\"convertToInteractive('df-fefa2645-c384-44af-86f0-de5c37545eb6')\"\n",
              "              title=\"Convert this dataframe to an interactive table.\"\n",
              "              style=\"display:none;\">\n",
              "        \n",
              "  <svg xmlns=\"http://www.w3.org/2000/svg\" height=\"24px\"viewBox=\"0 0 24 24\"\n",
              "       width=\"24px\">\n",
              "    <path d=\"M0 0h24v24H0V0z\" fill=\"none\"/>\n",
              "    <path d=\"M18.56 5.44l.94 2.06.94-2.06 2.06-.94-2.06-.94-.94-2.06-.94 2.06-2.06.94zm-11 1L8.5 8.5l.94-2.06 2.06-.94-2.06-.94L8.5 2.5l-.94 2.06-2.06.94zm10 10l.94 2.06.94-2.06 2.06-.94-2.06-.94-.94-2.06-.94 2.06-2.06.94z\"/><path d=\"M17.41 7.96l-1.37-1.37c-.4-.4-.92-.59-1.43-.59-.52 0-1.04.2-1.43.59L10.3 9.45l-7.72 7.72c-.78.78-.78 2.05 0 2.83L4 21.41c.39.39.9.59 1.41.59.51 0 1.02-.2 1.41-.59l7.78-7.78 2.81-2.81c.8-.78.8-2.07 0-2.86zM5.41 20L4 18.59l7.72-7.72 1.47 1.35L5.41 20z\"/>\n",
              "  </svg>\n",
              "      </button>\n",
              "      \n",
              "  <style>\n",
              "    .colab-df-container {\n",
              "      display:flex;\n",
              "      flex-wrap:wrap;\n",
              "      gap: 12px;\n",
              "    }\n",
              "\n",
              "    .colab-df-convert {\n",
              "      background-color: #E8F0FE;\n",
              "      border: none;\n",
              "      border-radius: 50%;\n",
              "      cursor: pointer;\n",
              "      display: none;\n",
              "      fill: #1967D2;\n",
              "      height: 32px;\n",
              "      padding: 0 0 0 0;\n",
              "      width: 32px;\n",
              "    }\n",
              "\n",
              "    .colab-df-convert:hover {\n",
              "      background-color: #E2EBFA;\n",
              "      box-shadow: 0px 1px 2px rgba(60, 64, 67, 0.3), 0px 1px 3px 1px rgba(60, 64, 67, 0.15);\n",
              "      fill: #174EA6;\n",
              "    }\n",
              "\n",
              "    [theme=dark] .colab-df-convert {\n",
              "      background-color: #3B4455;\n",
              "      fill: #D2E3FC;\n",
              "    }\n",
              "\n",
              "    [theme=dark] .colab-df-convert:hover {\n",
              "      background-color: #434B5C;\n",
              "      box-shadow: 0px 1px 3px 1px rgba(0, 0, 0, 0.15);\n",
              "      filter: drop-shadow(0px 1px 2px rgba(0, 0, 0, 0.3));\n",
              "      fill: #FFFFFF;\n",
              "    }\n",
              "  </style>\n",
              "\n",
              "      <script>\n",
              "        const buttonEl =\n",
              "          document.querySelector('#df-fefa2645-c384-44af-86f0-de5c37545eb6 button.colab-df-convert');\n",
              "        buttonEl.style.display =\n",
              "          google.colab.kernel.accessAllowed ? 'block' : 'none';\n",
              "\n",
              "        async function convertToInteractive(key) {\n",
              "          const element = document.querySelector('#df-fefa2645-c384-44af-86f0-de5c37545eb6');\n",
              "          const dataTable =\n",
              "            await google.colab.kernel.invokeFunction('convertToInteractive',\n",
              "                                                     [key], {});\n",
              "          if (!dataTable) return;\n",
              "\n",
              "          const docLinkHtml = 'Like what you see? Visit the ' +\n",
              "            '<a target=\"_blank\" href=https://colab.research.google.com/notebooks/data_table.ipynb>data table notebook</a>'\n",
              "            + ' to learn more about interactive tables.';\n",
              "          element.innerHTML = '';\n",
              "          dataTable['output_type'] = 'display_data';\n",
              "          await google.colab.output.renderOutput(dataTable, element);\n",
              "          const docLink = document.createElement('div');\n",
              "          docLink.innerHTML = docLinkHtml;\n",
              "          element.appendChild(docLink);\n",
              "        }\n",
              "      </script>\n",
              "    </div>\n",
              "  </div>\n",
              "  "
            ]
          },
          "metadata": {},
          "execution_count": 29
        }
      ],
      "source": [
        "train_movies_imdb_combined_df.head(1)"
      ]
    },
    {
      "cell_type": "code",
      "execution_count": null,
      "metadata": {
        "colab": {
          "base_uri": "https://localhost:8080/"
        },
        "id": "ZEq3WND2PfyZ",
        "outputId": "e0ba692f-bfa7-4028-9ab7-6805325c4607"
      },
      "outputs": [
        {
          "output_type": "stream",
          "name": "stdout",
          "text": [
            "train_movies_imdb_combined_df has 10000038 rows and 12 columns, namely:\n",
            " ['userId', 'movieId', 'rating', 'timestamp', 'title', 'genres', 'year', 'title_cast', 'director', 'runtime', 'budget', 'plot_keywords']\n",
            "\n",
            "The following table represents the column data types in train_movies_imdb_combined_df:\n",
            "\n",
            "<class 'pandas.core.frame.DataFrame'>\n",
            "Int64Index: 10000038 entries, 0 to 10000037\n",
            "Data columns (total 12 columns):\n",
            " #   Column         Dtype         \n",
            "---  ------         -----         \n",
            " 0   userId         float64       \n",
            " 1   movieId        object        \n",
            " 2   rating         float64       \n",
            " 3   timestamp      datetime64[ns]\n",
            " 4   title          object        \n",
            " 5   genres         object        \n",
            " 6   year           float64       \n",
            " 7   title_cast     object        \n",
            " 8   director       object        \n",
            " 9   runtime        float64       \n",
            " 10  budget         float64       \n",
            " 11  plot_keywords  object        \n",
            "dtypes: datetime64[ns](1), float64(5), object(6)\n",
            "memory usage: 991.8+ MB\n",
            "None\n",
            "\n",
            "The following table represents the missing values and the corresponding % in train_movies_imdb_combined_df:\n",
            "\n",
            "               null_values  null_values_%\n",
            "userId                   0            0.0\n",
            "movieId                  0            0.0\n",
            "rating                   0            0.0\n",
            "timestamp                0            0.0\n",
            "title                    0            0.0\n",
            "genres                   0            0.0\n",
            "year                  4752            0.0\n",
            "title_cast          367007            4.0\n",
            "director           2969695           30.0\n",
            "runtime            3020065           30.0\n",
            "budget             3701409           37.0\n",
            "plot_keywords       367007            4.0\n",
            "\n",
            "The following is a printout of the first 5 rows in train_movies_imdb_combined_df:\n",
            "\n",
            "     userId  movieId  rating           timestamp  \\\n",
            "0    5163.0  57669.0     4.0 2018-02-11 11:53:12   \n",
            "1  106343.0      5.0     4.5 2008-03-23 02:18:59   \n",
            "2  146790.0   5459.0     5.0 2004-02-08 04:45:39   \n",
            "3  106362.0  32296.0     2.0 2015-02-04 09:36:05   \n",
            "4    9041.0    366.0     3.0 1996-05-29 13:17:17   \n",
            "\n",
            "                                               title  \\\n",
            "0                                   In Bruges (2008)   \n",
            "1                 Father of the Bride Part II (1995)   \n",
            "2  Men in Black II (a.k.a. MIIB) (a.k.a. MIB 2) (...   \n",
            "3     Miss Congeniality 2: Armed and Fabulous (2005)   \n",
            "4  Wes Craven's New Nightmare (Nightmare on Elm S...   \n",
            "\n",
            "                             genres    year  \\\n",
            "0    Comedy, Crime, Drama, Thriller  2008.0   \n",
            "1                            Comedy  1995.0   \n",
            "2            Action, Comedy, Sci-Fi  2002.0   \n",
            "3          Adventure, Comedy, Crime  2005.0   \n",
            "4  Drama, Horror, Mystery, Thriller  1994.0   \n",
            "\n",
            "                                          title_cast           director  \\\n",
            "0  Elizabeth Berrington, Rudy Blomme, Olivier Bon...    Martin McDonagh   \n",
            "1  Steve Martin, Diane Keaton, Martin Short, Kimb...     Albert Hackett   \n",
            "2  Tommy Lee Jones, Will Smith, Rip Torn, Lara Fl...  Lowell Cunningham   \n",
            "3  Sandra Bullock, Regina King, Enrique Murciano,...      Marc Lawrence   \n",
            "4  Jeff Davis, Heather Langenkamp, Miko Hughes, M...         Wes Craven   \n",
            "\n",
            "   runtime       budget                                      plot_keywords  \n",
            "0    107.0   15000000.0                       dwarf, bruges, irish, hitman  \n",
            "1    106.0   30000000.0                 fatherhood, doberman, dog, mansion  \n",
            "2     88.0  140000000.0  lingerie, michael jackson character, shorthair...  \n",
            "3    115.0   45000000.0    female protagonist, cleave gag, good woman, fbi  \n",
            "4    112.0    8000000.0  freddy krueger, elm street, famous director as...  \n"
          ]
        }
      ],
      "source": [
        "get_info(train_movies_imdb_combined_df)"
      ]
    },
    {
      "cell_type": "code",
      "execution_count": null,
      "metadata": {
        "id": "BpondKSv-l2a"
      },
      "outputs": [],
      "source": [
        "# export train_movies_imdb_combined_df for later use\n",
        "train_movies_imdb_combined_df.to_csv('train_movies_imdb_combined_df.csv', index=False, encoding='utf-8-sig')\n",
        "!cp train_movies_imdb_combined_df.csv \"drive/My Drive/Colab Notebooks/Movie Recommender\""
      ]
    },
    {
      "cell_type": "markdown",
      "metadata": {
        "id": "qCoTaXmp8UmR"
      },
      "source": [
        "#**5. Model Building**"
      ]
    },
    {
      "cell_type": "markdown",
      "metadata": {
        "id": "m-o7VjS78gS6"
      },
      "source": [
        "### Popularity and reviews recommender\n",
        "Next we will find the most frequently watched movies and combine it with the movie's average reviews. This will account for popularity and personal preferences. "
      ]
    },
    {
      "cell_type": "markdown",
      "metadata": {
        "id": "DA0nacbsdzX7"
      },
      "source": [
        "## knowledge based recommender function "
      ]
    },
    {
      "cell_type": "code",
      "execution_count": 30,
      "metadata": {
        "id": "KhZ6TvkMenwD"
      },
      "outputs": [],
      "source": [
        "# knowledge based recommender function \n",
        "def pop_reviews_recommender(grouped_multiple_movie_popularity):\n",
        "    \"\"\"This function takes use input to filter the gen_df dataframe, \n",
        "    calculations and provide the list of recommendations\"\"\"\n",
        "    # ask for preferred genres\n",
        "    genre = input('Input preferred genre: ')\n",
        "    genre = genre.capitalize()\n",
        "    \n",
        "    # ask for lower limit of duration\n",
        "    low_time = int(input(\"Input shortest duration: \")) \n",
        "    \n",
        "    # ask for upper limit of duration\n",
        "    high_time = int(input(\"Input longest duration: \")) \n",
        "    \n",
        "    # ask for lower limit of timeline\n",
        "    low_year = int(input(\"Input earliest year: \"))\n",
        "    \n",
        "    # ask for upper limit of timeline\n",
        "    high_year = int(input(\"Input latest year: \"))\n",
        "    \n",
        "    # define a new movies variable to store the preferred movies\n",
        "    pop_review_df = grouped_multiple_movie_popularity.copy()\n",
        "\n",
        "    # only use the dataframe with applicable genre\n",
        "    pop_review_df = pop_review_df[pop_review_df['genres'].map(\n",
        "        lambda x: genre in x)]\n",
        "\n",
        "    # filter based on the condition\n",
        "    pop_review_df = pop_review_df[\n",
        "                                  (pop_review_df['runtime'] >= low_time) &\n",
        "                                  (pop_review_df['runtime'] <= high_time) &\n",
        "                                  (pop_review_df['year'] >= low_year) &\n",
        "                                  (pop_review_df['year'] <= high_year)\n",
        "                                  ]\n",
        "\n",
        "    # sort movies in score descending\n",
        "    pop_review_df = pop_review_df.sort_values('avg_rating', ascending=False)\n",
        "    \n",
        "    return pop_review_df"
      ]
    },
    {
      "cell_type": "code",
      "execution_count": 31,
      "metadata": {
        "id": "q5qMlq079PJR"
      },
      "outputs": [],
      "source": [
        "# Create a list of frequently watched movies\n",
        "movie_popularity = train_movies_imdb_combined_df['movieId'].value_counts().rename_axis(\n",
        "    'movieId').reset_index(name='counts')\n",
        "\n",
        "# Extract only movies rated over 100, 500 and 1000 times\n",
        "popular_movies_100 = movie_popularity[movie_popularity['counts'] > 100].index.tolist()\n",
        "popular_movies_500 = movie_popularity[movie_popularity['counts'] > 500].index.tolist()\n",
        "popular_movies_1000 = movie_popularity[movie_popularity['counts'] > 1000].index.tolist()\n"
      ]
    },
    {
      "cell_type": "markdown",
      "source": [
        "Next we will use the movie_to_votes_dict created during the EDA to establish the data ranges in terms of votes casted per movie."
      ],
      "metadata": {
        "id": "BB07LkphVP69"
      }
    },
    {
      "cell_type": "code",
      "source": [
        "# count the number of movies\n",
        "movies_count = len(movie_to_votes_counter.keys())"
      ],
      "metadata": {
        "id": "3pt5P0bDEeDJ"
      },
      "execution_count": 32,
      "outputs": []
    },
    {
      "cell_type": "code",
      "source": [
        "# info regarding the popular_movies_100\n",
        "print('There are',len(popular_movies_100), 'movies with 100 or more votes')\n",
        "print(' - This is about', \n",
        "      round((len(popular_movies_100)/movies_count)*100),\n",
        "    'percent of the movies in the dataset', end='\\n\\n')\n",
        "\n",
        "# info regarding the popular_movies_500\n",
        "print('There are',len(popular_movies_500),'movies with 500 or more votes')\n",
        "print(' - This is about', \n",
        "      round((len(popular_movies_500)/movies_count)*100),\n",
        "    'percent of the movies in the dataset', end='\\n\\n')\n",
        "\n",
        "# info regarding the popular_movies_1000\n",
        "print('There are',len(popular_movies_1000), 'movies with 1000 or more votes')\n",
        "print(' - This is about', \n",
        "      round((len(popular_movies_1000)/movies_count)*100),\n",
        "    'percent of the movies in the dataset', end='\\n\\n')\n"
      ],
      "metadata": {
        "colab": {
          "base_uri": "https://localhost:8080/"
        },
        "id": "RYD9wARql908",
        "outputId": "9d86c4c0-1f78-4550-cecb-f4933bf65fd5"
      },
      "execution_count": 33,
      "outputs": [
        {
          "output_type": "stream",
          "name": "stdout",
          "text": [
            "There are 7288 movies with 100 or more votes\n",
            " - This is about 15 percent of the movies in the dataset\n",
            "\n",
            "There are 3296 movies with 500 or more votes\n",
            " - This is about 7 percent of the movies in the dataset\n",
            "\n",
            "There are 2117 movies with 1000 or more votes\n",
            " - This is about 4 percent of the movies in the dataset\n",
            "\n"
          ]
        }
      ]
    },
    {
      "cell_type": "markdown",
      "source": [
        "Next we will filter the full dataset to only use movies that recieved 100 or more votes."
      ],
      "metadata": {
        "id": "k2SDQa8CHIpl"
      }
    },
    {
      "cell_type": "code",
      "source": [
        "# Filter the combined train, movies and imdb dataframe with the popular movies\n",
        "popular_movies_rankings = train_movies_imdb_combined_df[train_movies_imdb_combined_df['movieId'].\n",
        "                                                        isin(popular_movies_100)]"
      ],
      "metadata": {
        "id": "koK0El79Gbop"
      },
      "execution_count": 34,
      "outputs": []
    },
    {
      "cell_type": "markdown",
      "source": [
        "Next we drop the `userId` column since it is of no use for the knowledge based recommender."
      ],
      "metadata": {
        "id": "h8InnhW6HTTU"
      }
    },
    {
      "cell_type": "code",
      "execution_count": 35,
      "metadata": {
        "id": "dNFl7EZWX7G1"
      },
      "outputs": [],
      "source": [
        "# Drop the irrelevant columns\n",
        "popular_movies_rankings.drop(columns=['userId'], inplace=True)"
      ]
    },
    {
      "cell_type": "code",
      "execution_count": 36,
      "metadata": {
        "colab": {
          "base_uri": "https://localhost:8080/"
        },
        "id": "ZQ8GwBavVa7q",
        "outputId": "1e79da7a-abb9-409b-8028-849799d6e6e5"
      },
      "outputs": [
        {
          "output_type": "stream",
          "name": "stdout",
          "text": [
            "popular_movies_rankings has 7300974 rows and 11 columns, namely:\n",
            " ['movieId', 'rating', 'timestamp', 'title', 'genres', 'year', 'title_cast', 'director', 'runtime', 'budget', 'plot_keywords']\n",
            "\n",
            "The following table represents the column data types in popular_movies_rankings:\n",
            "\n",
            "<class 'pandas.core.frame.DataFrame'>\n",
            "Int64Index: 7300974 entries, 1 to 10000037\n",
            "Data columns (total 11 columns):\n",
            " #   Column         Dtype         \n",
            "---  ------         -----         \n",
            " 0   movieId        object        \n",
            " 1   rating         float64       \n",
            " 2   timestamp      datetime64[ns]\n",
            " 3   title          object        \n",
            " 4   genres         object        \n",
            " 5   year           float64       \n",
            " 6   title_cast     object        \n",
            " 7   director       object        \n",
            " 8   runtime        float64       \n",
            " 9   budget         float64       \n",
            " 10  plot_keywords  object        \n",
            "dtypes: datetime64[ns](1), float64(4), object(6)\n",
            "memory usage: 668.4+ MB\n",
            "None\n",
            "\n",
            "The following table represents the missing values and the corresponding % in popular_movies_rankings:\n",
            "\n",
            "               null_values  null_values_%\n",
            "movieId                  0            0.0\n",
            "rating                   0            0.0\n",
            "timestamp                0            0.0\n",
            "title                    0            0.0\n",
            "genres                   0            0.0\n",
            "year                     0            0.0\n",
            "title_cast               0            0.0\n",
            "director           2469107           34.0\n",
            "runtime            2486083           34.0\n",
            "budget             2925648           40.0\n",
            "plot_keywords            0            0.0\n",
            "\n",
            "The following is a printout of the first 5 rows in popular_movies_rankings:\n",
            "\n",
            "  movieId  rating           timestamp  \\\n",
            "1     5.0     4.5 2008-03-23 02:18:59   \n",
            "2  5459.0     5.0 2004-02-08 04:45:39   \n",
            "4   366.0     3.0 1996-05-29 13:17:17   \n",
            "7  2282.0     1.0 1999-12-21 14:18:27   \n",
            "9  1997.0     5.0 2005-03-04 20:20:47   \n",
            "\n",
            "                                               title  \\\n",
            "1                 Father of the Bride Part II (1995)   \n",
            "2  Men in Black II (a.k.a. MIIB) (a.k.a. MIB 2) (...   \n",
            "4  Wes Craven's New Nightmare (Nightmare on Elm S...   \n",
            "7                                      Pecker (1998)   \n",
            "9                               Exorcist, The (1973)   \n",
            "\n",
            "                             genres    year  \\\n",
            "1                            Comedy  1995.0   \n",
            "2            Action, Comedy, Sci-Fi  2002.0   \n",
            "4  Drama, Horror, Mystery, Thriller  1994.0   \n",
            "7                     Comedy, Drama  1998.0   \n",
            "9                   Horror, Mystery  1973.0   \n",
            "\n",
            "                                          title_cast           director  \\\n",
            "1  Steve Martin, Diane Keaton, Martin Short, Kimb...     Albert Hackett   \n",
            "2  Tommy Lee Jones, Will Smith, Rip Torn, Lara Fl...  Lowell Cunningham   \n",
            "4  Jeff Davis, Heather Langenkamp, Miko Hughes, M...         Wes Craven   \n",
            "7  Edward Furlong, Christina Ricci, Bess Armstron...        John Waters   \n",
            "9                                                                   NaN   \n",
            "\n",
            "   runtime       budget                                      plot_keywords  \n",
            "1    106.0   30000000.0                 fatherhood, doberman, dog, mansion  \n",
            "2     88.0  140000000.0  lingerie, michael jackson character, shorthair...  \n",
            "4    112.0    8000000.0  freddy krueger, elm street, famous director as...  \n",
            "7     87.0    6000000.0              sex, teenage girl, art, new york city  \n",
            "9      NaN          NaN                                                     \n"
          ]
        }
      ],
      "source": [
        "# get information on the movies that made the cut for the popular movies rankings\n",
        "get_info(popular_movies_rankings)"
      ]
    },
    {
      "cell_type": "markdown",
      "source": [
        "Next we will find the average rating of the movies."
      ],
      "metadata": {
        "id": "wLOorOSDOer0"
      }
    },
    {
      "cell_type": "code",
      "execution_count": 37,
      "metadata": {
        "id": "p5ttYOI_VDfL"
      },
      "outputs": [],
      "source": [
        "# find the average rating of frequently watched movies\n",
        "grouped_multiple_movie_popularity = (popular_movies_rankings.groupby(['title', 'genres','runtime','year',\n",
        "                                                                     'title_cast'])['rating'].agg([('avg_rating','mean')])\n",
        "                                                                     .reset_index())\n"
      ]
    },
    {
      "cell_type": "code",
      "execution_count": 38,
      "metadata": {
        "id": "v9ztIZ8IpoHJ"
      },
      "outputs": [],
      "source": [
        "# apply the create_lists function to convert the genres and title_cast features into lists for accessibility\n",
        "grouped_multiple_movie_popularity = create_lists(grouped_multiple_movie_popularity, 'genres')\n",
        "grouped_multiple_movie_popularity = create_lists(grouped_multiple_movie_popularity, 'title_cast')"
      ]
    },
    {
      "cell_type": "code",
      "execution_count": 39,
      "metadata": {
        "colab": {
          "base_uri": "https://localhost:8080/",
          "height": 81
        },
        "id": "S72W_mSxqXAk",
        "outputId": "28bdbffa-4dd5-4503-a4ce-261de6046cbf"
      },
      "outputs": [
        {
          "output_type": "execute_result",
          "data": {
            "text/plain": [
              "                       title             genres  runtime    year  \\\n",
              "0  'Til There Was You (1997)  [Drama,  Romance]    113.0  1997.0   \n",
              "\n",
              "                                          title_cast  avg_rating  \n",
              "0  [John Plumpis,  Janel Moloney,  Yvonne Zima,  ...    2.837321  "
            ],
            "text/html": [
              "\n",
              "  <div id=\"df-7b44ec6b-350f-4217-9e4a-28377b72d781\">\n",
              "    <div class=\"colab-df-container\">\n",
              "      <div>\n",
              "<style scoped>\n",
              "    .dataframe tbody tr th:only-of-type {\n",
              "        vertical-align: middle;\n",
              "    }\n",
              "\n",
              "    .dataframe tbody tr th {\n",
              "        vertical-align: top;\n",
              "    }\n",
              "\n",
              "    .dataframe thead th {\n",
              "        text-align: right;\n",
              "    }\n",
              "</style>\n",
              "<table border=\"1\" class=\"dataframe\">\n",
              "  <thead>\n",
              "    <tr style=\"text-align: right;\">\n",
              "      <th></th>\n",
              "      <th>title</th>\n",
              "      <th>genres</th>\n",
              "      <th>runtime</th>\n",
              "      <th>year</th>\n",
              "      <th>title_cast</th>\n",
              "      <th>avg_rating</th>\n",
              "    </tr>\n",
              "  </thead>\n",
              "  <tbody>\n",
              "    <tr>\n",
              "      <th>0</th>\n",
              "      <td>'Til There Was You (1997)</td>\n",
              "      <td>[Drama,  Romance]</td>\n",
              "      <td>113.0</td>\n",
              "      <td>1997.0</td>\n",
              "      <td>[John Plumpis,  Janel Moloney,  Yvonne Zima,  ...</td>\n",
              "      <td>2.837321</td>\n",
              "    </tr>\n",
              "  </tbody>\n",
              "</table>\n",
              "</div>\n",
              "      <button class=\"colab-df-convert\" onclick=\"convertToInteractive('df-7b44ec6b-350f-4217-9e4a-28377b72d781')\"\n",
              "              title=\"Convert this dataframe to an interactive table.\"\n",
              "              style=\"display:none;\">\n",
              "        \n",
              "  <svg xmlns=\"http://www.w3.org/2000/svg\" height=\"24px\"viewBox=\"0 0 24 24\"\n",
              "       width=\"24px\">\n",
              "    <path d=\"M0 0h24v24H0V0z\" fill=\"none\"/>\n",
              "    <path d=\"M18.56 5.44l.94 2.06.94-2.06 2.06-.94-2.06-.94-.94-2.06-.94 2.06-2.06.94zm-11 1L8.5 8.5l.94-2.06 2.06-.94-2.06-.94L8.5 2.5l-.94 2.06-2.06.94zm10 10l.94 2.06.94-2.06 2.06-.94-2.06-.94-.94-2.06-.94 2.06-2.06.94z\"/><path d=\"M17.41 7.96l-1.37-1.37c-.4-.4-.92-.59-1.43-.59-.52 0-1.04.2-1.43.59L10.3 9.45l-7.72 7.72c-.78.78-.78 2.05 0 2.83L4 21.41c.39.39.9.59 1.41.59.51 0 1.02-.2 1.41-.59l7.78-7.78 2.81-2.81c.8-.78.8-2.07 0-2.86zM5.41 20L4 18.59l7.72-7.72 1.47 1.35L5.41 20z\"/>\n",
              "  </svg>\n",
              "      </button>\n",
              "      \n",
              "  <style>\n",
              "    .colab-df-container {\n",
              "      display:flex;\n",
              "      flex-wrap:wrap;\n",
              "      gap: 12px;\n",
              "    }\n",
              "\n",
              "    .colab-df-convert {\n",
              "      background-color: #E8F0FE;\n",
              "      border: none;\n",
              "      border-radius: 50%;\n",
              "      cursor: pointer;\n",
              "      display: none;\n",
              "      fill: #1967D2;\n",
              "      height: 32px;\n",
              "      padding: 0 0 0 0;\n",
              "      width: 32px;\n",
              "    }\n",
              "\n",
              "    .colab-df-convert:hover {\n",
              "      background-color: #E2EBFA;\n",
              "      box-shadow: 0px 1px 2px rgba(60, 64, 67, 0.3), 0px 1px 3px 1px rgba(60, 64, 67, 0.15);\n",
              "      fill: #174EA6;\n",
              "    }\n",
              "\n",
              "    [theme=dark] .colab-df-convert {\n",
              "      background-color: #3B4455;\n",
              "      fill: #D2E3FC;\n",
              "    }\n",
              "\n",
              "    [theme=dark] .colab-df-convert:hover {\n",
              "      background-color: #434B5C;\n",
              "      box-shadow: 0px 1px 3px 1px rgba(0, 0, 0, 0.15);\n",
              "      filter: drop-shadow(0px 1px 2px rgba(0, 0, 0, 0.3));\n",
              "      fill: #FFFFFF;\n",
              "    }\n",
              "  </style>\n",
              "\n",
              "      <script>\n",
              "        const buttonEl =\n",
              "          document.querySelector('#df-7b44ec6b-350f-4217-9e4a-28377b72d781 button.colab-df-convert');\n",
              "        buttonEl.style.display =\n",
              "          google.colab.kernel.accessAllowed ? 'block' : 'none';\n",
              "\n",
              "        async function convertToInteractive(key) {\n",
              "          const element = document.querySelector('#df-7b44ec6b-350f-4217-9e4a-28377b72d781');\n",
              "          const dataTable =\n",
              "            await google.colab.kernel.invokeFunction('convertToInteractive',\n",
              "                                                     [key], {});\n",
              "          if (!dataTable) return;\n",
              "\n",
              "          const docLinkHtml = 'Like what you see? Visit the ' +\n",
              "            '<a target=\"_blank\" href=https://colab.research.google.com/notebooks/data_table.ipynb>data table notebook</a>'\n",
              "            + ' to learn more about interactive tables.';\n",
              "          element.innerHTML = '';\n",
              "          dataTable['output_type'] = 'display_data';\n",
              "          await google.colab.output.renderOutput(dataTable, element);\n",
              "          const docLink = document.createElement('div');\n",
              "          docLink.innerHTML = docLinkHtml;\n",
              "          element.appendChild(docLink);\n",
              "        }\n",
              "      </script>\n",
              "    </div>\n",
              "  </div>\n",
              "  "
            ]
          },
          "metadata": {},
          "execution_count": 39
        }
      ],
      "source": [
        "# print the first row of the dataset to view the result\n",
        "grouped_multiple_movie_popularity.head(1)"
      ]
    },
    {
      "cell_type": "code",
      "execution_count": 40,
      "metadata": {
        "id": "VxldL0XZt--u"
      },
      "outputs": [],
      "source": [
        "# convert the runtime and year features into integers\n",
        "int_list = ['runtime',\t'year']\n",
        "for i in int_list:\n",
        "  grouped_multiple_movie_popularity[i] = grouped_multiple_movie_popularity[i].apply(to_int)"
      ]
    },
    {
      "cell_type": "code",
      "execution_count": null,
      "metadata": {
        "id": "jmjbxGPQg-o4"
      },
      "outputs": [],
      "source": [
        "# apply the pop_reviews_recommender to get the recommendations based on user input\n",
        "pop_reviews_recommender(grouped_multiple_movie_popularity).head(3)"
      ]
    },
    {
      "cell_type": "markdown",
      "metadata": {
        "id": "plrifS391lAq"
      },
      "source": [
        "##Rating predictions\n"
      ]
    },
    {
      "cell_type": "markdown",
      "metadata": {
        "id": "I9mYYOV4WZrg"
      },
      "source": [
        "### Feature selection"
      ]
    },
    {
      "cell_type": "markdown",
      "metadata": {
        "id": "1a7vKErYWfR_"
      },
      "source": [
        "As the dimensionality of a dataset increases, the number of data points required for good performance of any machine learning algorithm increases exponentially. The reason is that, we would need more data points for any given combination of features, for any machine learning model to be valid.\n",
        "\n",
        "Therefor we will select the features that have the highest impact on prediction capability of the model. Feature selection will shorten the training time and may reduce overfitting. \n",
        "\n",
        "We will drop the `title`, `director`, `timestamp` and `year` as these are categorical data and potentially labels. We will also drop the `title_cast` and `plot_keywords` feauture due to the level of noise they may introduce, if exploded, into the algorithm."
      ]
    },
    {
      "cell_type": "code",
      "execution_count": 42,
      "metadata": {
        "colab": {
          "base_uri": "https://localhost:8080/"
        },
        "id": "EQTrQITPPUBR",
        "outputId": "2212a4dc-1df4-4d2c-bf4b-9ac8673e7ded"
      },
      "outputs": [
        {
          "output_type": "stream",
          "name": "stdout",
          "text": [
            "The following columns remain: ['userId', 'movieId', 'rating', 'timestamp', 'genres', 'year', 'runtime', 'budget']\n"
          ]
        }
      ],
      "source": [
        "# drop the columns mentioned\n",
        "train_movies_imdb_combined_df.drop(['title', 'title_cast', \n",
        "                                    'director','plot_keywords'], axis=1, inplace=True)\n",
        "print('The following columns remain:',list(train_movies_imdb_combined_df.columns))"
      ]
    },
    {
      "cell_type": "code",
      "execution_count": 43,
      "metadata": {
        "colab": {
          "base_uri": "https://localhost:8080/",
          "height": 81
        },
        "id": "NztzN-aARxvP",
        "outputId": "9d4426cf-5c34-4715-ccc0-f28e63bbbdd8"
      },
      "outputs": [
        {
          "output_type": "execute_result",
          "data": {
            "text/plain": [
              "   userId  movieId  rating           timestamp  \\\n",
              "0  5163.0  57669.0     4.0 2018-02-11 11:53:12   \n",
              "\n",
              "                           genres    year  runtime      budget  \n",
              "0  Comedy, Crime, Drama, Thriller  2008.0    107.0  15000000.0  "
            ],
            "text/html": [
              "\n",
              "  <div id=\"df-6ca2893d-f551-42c2-8112-9a5c1a3b8023\">\n",
              "    <div class=\"colab-df-container\">\n",
              "      <div>\n",
              "<style scoped>\n",
              "    .dataframe tbody tr th:only-of-type {\n",
              "        vertical-align: middle;\n",
              "    }\n",
              "\n",
              "    .dataframe tbody tr th {\n",
              "        vertical-align: top;\n",
              "    }\n",
              "\n",
              "    .dataframe thead th {\n",
              "        text-align: right;\n",
              "    }\n",
              "</style>\n",
              "<table border=\"1\" class=\"dataframe\">\n",
              "  <thead>\n",
              "    <tr style=\"text-align: right;\">\n",
              "      <th></th>\n",
              "      <th>userId</th>\n",
              "      <th>movieId</th>\n",
              "      <th>rating</th>\n",
              "      <th>timestamp</th>\n",
              "      <th>genres</th>\n",
              "      <th>year</th>\n",
              "      <th>runtime</th>\n",
              "      <th>budget</th>\n",
              "    </tr>\n",
              "  </thead>\n",
              "  <tbody>\n",
              "    <tr>\n",
              "      <th>0</th>\n",
              "      <td>5163.0</td>\n",
              "      <td>57669.0</td>\n",
              "      <td>4.0</td>\n",
              "      <td>2018-02-11 11:53:12</td>\n",
              "      <td>Comedy, Crime, Drama, Thriller</td>\n",
              "      <td>2008.0</td>\n",
              "      <td>107.0</td>\n",
              "      <td>15000000.0</td>\n",
              "    </tr>\n",
              "  </tbody>\n",
              "</table>\n",
              "</div>\n",
              "      <button class=\"colab-df-convert\" onclick=\"convertToInteractive('df-6ca2893d-f551-42c2-8112-9a5c1a3b8023')\"\n",
              "              title=\"Convert this dataframe to an interactive table.\"\n",
              "              style=\"display:none;\">\n",
              "        \n",
              "  <svg xmlns=\"http://www.w3.org/2000/svg\" height=\"24px\"viewBox=\"0 0 24 24\"\n",
              "       width=\"24px\">\n",
              "    <path d=\"M0 0h24v24H0V0z\" fill=\"none\"/>\n",
              "    <path d=\"M18.56 5.44l.94 2.06.94-2.06 2.06-.94-2.06-.94-.94-2.06-.94 2.06-2.06.94zm-11 1L8.5 8.5l.94-2.06 2.06-.94-2.06-.94L8.5 2.5l-.94 2.06-2.06.94zm10 10l.94 2.06.94-2.06 2.06-.94-2.06-.94-.94-2.06-.94 2.06-2.06.94z\"/><path d=\"M17.41 7.96l-1.37-1.37c-.4-.4-.92-.59-1.43-.59-.52 0-1.04.2-1.43.59L10.3 9.45l-7.72 7.72c-.78.78-.78 2.05 0 2.83L4 21.41c.39.39.9.59 1.41.59.51 0 1.02-.2 1.41-.59l7.78-7.78 2.81-2.81c.8-.78.8-2.07 0-2.86zM5.41 20L4 18.59l7.72-7.72 1.47 1.35L5.41 20z\"/>\n",
              "  </svg>\n",
              "      </button>\n",
              "      \n",
              "  <style>\n",
              "    .colab-df-container {\n",
              "      display:flex;\n",
              "      flex-wrap:wrap;\n",
              "      gap: 12px;\n",
              "    }\n",
              "\n",
              "    .colab-df-convert {\n",
              "      background-color: #E8F0FE;\n",
              "      border: none;\n",
              "      border-radius: 50%;\n",
              "      cursor: pointer;\n",
              "      display: none;\n",
              "      fill: #1967D2;\n",
              "      height: 32px;\n",
              "      padding: 0 0 0 0;\n",
              "      width: 32px;\n",
              "    }\n",
              "\n",
              "    .colab-df-convert:hover {\n",
              "      background-color: #E2EBFA;\n",
              "      box-shadow: 0px 1px 2px rgba(60, 64, 67, 0.3), 0px 1px 3px 1px rgba(60, 64, 67, 0.15);\n",
              "      fill: #174EA6;\n",
              "    }\n",
              "\n",
              "    [theme=dark] .colab-df-convert {\n",
              "      background-color: #3B4455;\n",
              "      fill: #D2E3FC;\n",
              "    }\n",
              "\n",
              "    [theme=dark] .colab-df-convert:hover {\n",
              "      background-color: #434B5C;\n",
              "      box-shadow: 0px 1px 3px 1px rgba(0, 0, 0, 0.15);\n",
              "      filter: drop-shadow(0px 1px 2px rgba(0, 0, 0, 0.3));\n",
              "      fill: #FFFFFF;\n",
              "    }\n",
              "  </style>\n",
              "\n",
              "      <script>\n",
              "        const buttonEl =\n",
              "          document.querySelector('#df-6ca2893d-f551-42c2-8112-9a5c1a3b8023 button.colab-df-convert');\n",
              "        buttonEl.style.display =\n",
              "          google.colab.kernel.accessAllowed ? 'block' : 'none';\n",
              "\n",
              "        async function convertToInteractive(key) {\n",
              "          const element = document.querySelector('#df-6ca2893d-f551-42c2-8112-9a5c1a3b8023');\n",
              "          const dataTable =\n",
              "            await google.colab.kernel.invokeFunction('convertToInteractive',\n",
              "                                                     [key], {});\n",
              "          if (!dataTable) return;\n",
              "\n",
              "          const docLinkHtml = 'Like what you see? Visit the ' +\n",
              "            '<a target=\"_blank\" href=https://colab.research.google.com/notebooks/data_table.ipynb>data table notebook</a>'\n",
              "            + ' to learn more about interactive tables.';\n",
              "          element.innerHTML = '';\n",
              "          dataTable['output_type'] = 'display_data';\n",
              "          await google.colab.output.renderOutput(dataTable, element);\n",
              "          const docLink = document.createElement('div');\n",
              "          docLink.innerHTML = docLinkHtml;\n",
              "          element.appendChild(docLink);\n",
              "        }\n",
              "      </script>\n",
              "    </div>\n",
              "  </div>\n",
              "  "
            ]
          },
          "metadata": {},
          "execution_count": 43
        }
      ],
      "source": [
        "# print the first row of the train_movies_imdb_combined_df dataset\n",
        "train_movies_imdb_combined_df.head(1)"
      ]
    },
    {
      "cell_type": "markdown",
      "source": [
        "### Selection of active voter content"
      ],
      "metadata": {
        "id": "8Vzgo1NgiR6t"
      }
    },
    {
      "cell_type": "markdown",
      "source": [
        "As observed earlier:\n",
        "\n",
        "There are 3296 movies with 500 or more votes\n",
        " - This is about 7 percent of the movies in the dataset\n",
        " - This equates to 5,356,749 votes\n",
        "\n",
        "Due to the size of the dataset and performance limitations we will only use the 3296 movies mentioned above to train the model. "
      ],
      "metadata": {
        "id": "_DP5xjJ3JYCm"
      }
    },
    {
      "cell_type": "code",
      "source": [
        "# reduce the dataset to movies with at least 500 votes\n",
        "reduced_m500 = train_movies_imdb_combined_df[train_movies_imdb_combined_df['movieId'].\n",
        "                                  reindex(train_movies_imdb_combined_df.index,fill_value=False).\n",
        "                                  isin(popular_movies_500)]"
      ],
      "metadata": {
        "id": "He6_TkKEiYjF"
      },
      "execution_count": 44,
      "outputs": []
    },
    {
      "cell_type": "markdown",
      "metadata": {
        "id": "crMdKZaOvKQY"
      },
      "source": [
        "### Custom encoding"
      ]
    },
    {
      "cell_type": "markdown",
      "metadata": {
        "id": "Xni0f22QpfL3"
      },
      "source": [
        "We observed that the `genres` contain categorical data that we are able to exploit. However because regression models can only be built using numerical data, we must convert all categorical data into numeric values.\n",
        "\n",
        "Next we will the custom encoding on the `genres` feature by assigning a binary number for the presence or absence of a genre. "
      ]
    },
    {
      "cell_type": "code",
      "execution_count": 45,
      "metadata": {
        "colab": {
          "base_uri": "https://localhost:8080/"
        },
        "id": "qfnAzoZ6RAYV",
        "outputId": "d95c1a77-8a4b-429c-aeaa-988aac9a0f21"
      },
      "outputs": [
        {
          "output_type": "stream",
          "name": "stdout",
          "text": [
            "These are 19 elements listed in the genres feature:\n",
            "\n"
          ]
        },
        {
          "output_type": "execute_result",
          "data": {
            "text/plain": [
              "{'Action',\n",
              " 'Adventure',\n",
              " 'Animation',\n",
              " 'Children',\n",
              " 'Comedy',\n",
              " 'Crime',\n",
              " 'Documentary',\n",
              " 'Drama',\n",
              " 'Fantasy',\n",
              " 'Film-Noir',\n",
              " 'Horror',\n",
              " 'IMAX',\n",
              " 'Musical',\n",
              " 'Mystery',\n",
              " 'Romance',\n",
              " 'Sci-Fi',\n",
              " 'Thriller',\n",
              " 'War',\n",
              " 'Western'}"
            ]
          },
          "metadata": {},
          "execution_count": 45
        }
      ],
      "source": [
        "# extract the different genres used\n",
        "genre_set = set()\n",
        "for i in list(reduced_m500['genres'].unique()):\n",
        "  for j in i.split(','):\n",
        "    genre_set.add(j.strip())\n",
        "\n",
        "print('These are', len(genre_set),'elements listed in the genres feature:', end='\\n\\n')\n",
        "genre_set"
      ]
    },
    {
      "cell_type": "code",
      "execution_count": 46,
      "metadata": {
        "colab": {
          "base_uri": "https://localhost:8080/",
          "height": 508
        },
        "id": "_37kglFO82Zr",
        "outputId": "6cf43eec-746e-4c5c-d120-54fcc5e65225"
      },
      "outputs": [
        {
          "output_type": "execute_result",
          "data": {
            "text/plain": [
              "     userId movieId rating           timestamp  \\\n",
              "0  106343.0     5.0    4.5 2008-03-23 02:18:59   \n",
              "1    9041.0   366.0    3.0 1996-05-29 13:17:17   \n",
              "2   21066.0  2282.0    1.0 1999-12-21 14:18:27   \n",
              "3  144018.0  1997.0    5.0 2005-03-04 20:20:47   \n",
              "4   97844.0  1784.0    3.5 2005-03-24 02:13:58   \n",
              "\n",
              "                             genres    year runtime      budget  Western  \\\n",
              "0                            Comedy  1995.0   106.0  30000000.0        0   \n",
              "1  Drama, Horror, Mystery, Thriller  1994.0   112.0   8000000.0        0   \n",
              "2                     Comedy, Drama  1998.0    87.0   6000000.0        0   \n",
              "3                   Horror, Mystery  1973.0     NaN         NaN        0   \n",
              "4            Comedy, Drama, Romance  1997.0   139.0  50000000.0        0   \n",
              "\n",
              "   Sci-Fi  ...  War  IMAX  Musical  Thriller  Children  Film-Noir  Mystery  \\\n",
              "0       0  ...    0     0        0         0         0          0        0   \n",
              "1       0  ...    0     0        0         1         0          0        1   \n",
              "2       0  ...    0     0        0         0         0          0        0   \n",
              "3       0  ...    0     0        0         0         0          0        1   \n",
              "4       0  ...    0     0        0         0         0          0        0   \n",
              "\n",
              "   Crime  Adventure  Action  \n",
              "0      0          0       0  \n",
              "1      0          0       0  \n",
              "2      0          0       0  \n",
              "3      0          0       0  \n",
              "4      0          0       0  \n",
              "\n",
              "[5 rows x 27 columns]"
            ],
            "text/html": [
              "\n",
              "  <div id=\"df-4f80095e-3a65-409f-8dbc-500d98b9fee7\">\n",
              "    <div class=\"colab-df-container\">\n",
              "      <div>\n",
              "<style scoped>\n",
              "    .dataframe tbody tr th:only-of-type {\n",
              "        vertical-align: middle;\n",
              "    }\n",
              "\n",
              "    .dataframe tbody tr th {\n",
              "        vertical-align: top;\n",
              "    }\n",
              "\n",
              "    .dataframe thead th {\n",
              "        text-align: right;\n",
              "    }\n",
              "</style>\n",
              "<table border=\"1\" class=\"dataframe\">\n",
              "  <thead>\n",
              "    <tr style=\"text-align: right;\">\n",
              "      <th></th>\n",
              "      <th>userId</th>\n",
              "      <th>movieId</th>\n",
              "      <th>rating</th>\n",
              "      <th>timestamp</th>\n",
              "      <th>genres</th>\n",
              "      <th>year</th>\n",
              "      <th>runtime</th>\n",
              "      <th>budget</th>\n",
              "      <th>Western</th>\n",
              "      <th>Sci-Fi</th>\n",
              "      <th>...</th>\n",
              "      <th>War</th>\n",
              "      <th>IMAX</th>\n",
              "      <th>Musical</th>\n",
              "      <th>Thriller</th>\n",
              "      <th>Children</th>\n",
              "      <th>Film-Noir</th>\n",
              "      <th>Mystery</th>\n",
              "      <th>Crime</th>\n",
              "      <th>Adventure</th>\n",
              "      <th>Action</th>\n",
              "    </tr>\n",
              "  </thead>\n",
              "  <tbody>\n",
              "    <tr>\n",
              "      <th>0</th>\n",
              "      <td>106343.0</td>\n",
              "      <td>5.0</td>\n",
              "      <td>4.5</td>\n",
              "      <td>2008-03-23 02:18:59</td>\n",
              "      <td>Comedy</td>\n",
              "      <td>1995.0</td>\n",
              "      <td>106.0</td>\n",
              "      <td>30000000.0</td>\n",
              "      <td>0</td>\n",
              "      <td>0</td>\n",
              "      <td>...</td>\n",
              "      <td>0</td>\n",
              "      <td>0</td>\n",
              "      <td>0</td>\n",
              "      <td>0</td>\n",
              "      <td>0</td>\n",
              "      <td>0</td>\n",
              "      <td>0</td>\n",
              "      <td>0</td>\n",
              "      <td>0</td>\n",
              "      <td>0</td>\n",
              "    </tr>\n",
              "    <tr>\n",
              "      <th>1</th>\n",
              "      <td>9041.0</td>\n",
              "      <td>366.0</td>\n",
              "      <td>3.0</td>\n",
              "      <td>1996-05-29 13:17:17</td>\n",
              "      <td>Drama, Horror, Mystery, Thriller</td>\n",
              "      <td>1994.0</td>\n",
              "      <td>112.0</td>\n",
              "      <td>8000000.0</td>\n",
              "      <td>0</td>\n",
              "      <td>0</td>\n",
              "      <td>...</td>\n",
              "      <td>0</td>\n",
              "      <td>0</td>\n",
              "      <td>0</td>\n",
              "      <td>1</td>\n",
              "      <td>0</td>\n",
              "      <td>0</td>\n",
              "      <td>1</td>\n",
              "      <td>0</td>\n",
              "      <td>0</td>\n",
              "      <td>0</td>\n",
              "    </tr>\n",
              "    <tr>\n",
              "      <th>2</th>\n",
              "      <td>21066.0</td>\n",
              "      <td>2282.0</td>\n",
              "      <td>1.0</td>\n",
              "      <td>1999-12-21 14:18:27</td>\n",
              "      <td>Comedy, Drama</td>\n",
              "      <td>1998.0</td>\n",
              "      <td>87.0</td>\n",
              "      <td>6000000.0</td>\n",
              "      <td>0</td>\n",
              "      <td>0</td>\n",
              "      <td>...</td>\n",
              "      <td>0</td>\n",
              "      <td>0</td>\n",
              "      <td>0</td>\n",
              "      <td>0</td>\n",
              "      <td>0</td>\n",
              "      <td>0</td>\n",
              "      <td>0</td>\n",
              "      <td>0</td>\n",
              "      <td>0</td>\n",
              "      <td>0</td>\n",
              "    </tr>\n",
              "    <tr>\n",
              "      <th>3</th>\n",
              "      <td>144018.0</td>\n",
              "      <td>1997.0</td>\n",
              "      <td>5.0</td>\n",
              "      <td>2005-03-04 20:20:47</td>\n",
              "      <td>Horror, Mystery</td>\n",
              "      <td>1973.0</td>\n",
              "      <td>NaN</td>\n",
              "      <td>NaN</td>\n",
              "      <td>0</td>\n",
              "      <td>0</td>\n",
              "      <td>...</td>\n",
              "      <td>0</td>\n",
              "      <td>0</td>\n",
              "      <td>0</td>\n",
              "      <td>0</td>\n",
              "      <td>0</td>\n",
              "      <td>0</td>\n",
              "      <td>1</td>\n",
              "      <td>0</td>\n",
              "      <td>0</td>\n",
              "      <td>0</td>\n",
              "    </tr>\n",
              "    <tr>\n",
              "      <th>4</th>\n",
              "      <td>97844.0</td>\n",
              "      <td>1784.0</td>\n",
              "      <td>3.5</td>\n",
              "      <td>2005-03-24 02:13:58</td>\n",
              "      <td>Comedy, Drama, Romance</td>\n",
              "      <td>1997.0</td>\n",
              "      <td>139.0</td>\n",
              "      <td>50000000.0</td>\n",
              "      <td>0</td>\n",
              "      <td>0</td>\n",
              "      <td>...</td>\n",
              "      <td>0</td>\n",
              "      <td>0</td>\n",
              "      <td>0</td>\n",
              "      <td>0</td>\n",
              "      <td>0</td>\n",
              "      <td>0</td>\n",
              "      <td>0</td>\n",
              "      <td>0</td>\n",
              "      <td>0</td>\n",
              "      <td>0</td>\n",
              "    </tr>\n",
              "  </tbody>\n",
              "</table>\n",
              "<p>5 rows × 27 columns</p>\n",
              "</div>\n",
              "      <button class=\"colab-df-convert\" onclick=\"convertToInteractive('df-4f80095e-3a65-409f-8dbc-500d98b9fee7')\"\n",
              "              title=\"Convert this dataframe to an interactive table.\"\n",
              "              style=\"display:none;\">\n",
              "        \n",
              "  <svg xmlns=\"http://www.w3.org/2000/svg\" height=\"24px\"viewBox=\"0 0 24 24\"\n",
              "       width=\"24px\">\n",
              "    <path d=\"M0 0h24v24H0V0z\" fill=\"none\"/>\n",
              "    <path d=\"M18.56 5.44l.94 2.06.94-2.06 2.06-.94-2.06-.94-.94-2.06-.94 2.06-2.06.94zm-11 1L8.5 8.5l.94-2.06 2.06-.94-2.06-.94L8.5 2.5l-.94 2.06-2.06.94zm10 10l.94 2.06.94-2.06 2.06-.94-2.06-.94-.94-2.06-.94 2.06-2.06.94z\"/><path d=\"M17.41 7.96l-1.37-1.37c-.4-.4-.92-.59-1.43-.59-.52 0-1.04.2-1.43.59L10.3 9.45l-7.72 7.72c-.78.78-.78 2.05 0 2.83L4 21.41c.39.39.9.59 1.41.59.51 0 1.02-.2 1.41-.59l7.78-7.78 2.81-2.81c.8-.78.8-2.07 0-2.86zM5.41 20L4 18.59l7.72-7.72 1.47 1.35L5.41 20z\"/>\n",
              "  </svg>\n",
              "      </button>\n",
              "      \n",
              "  <style>\n",
              "    .colab-df-container {\n",
              "      display:flex;\n",
              "      flex-wrap:wrap;\n",
              "      gap: 12px;\n",
              "    }\n",
              "\n",
              "    .colab-df-convert {\n",
              "      background-color: #E8F0FE;\n",
              "      border: none;\n",
              "      border-radius: 50%;\n",
              "      cursor: pointer;\n",
              "      display: none;\n",
              "      fill: #1967D2;\n",
              "      height: 32px;\n",
              "      padding: 0 0 0 0;\n",
              "      width: 32px;\n",
              "    }\n",
              "\n",
              "    .colab-df-convert:hover {\n",
              "      background-color: #E2EBFA;\n",
              "      box-shadow: 0px 1px 2px rgba(60, 64, 67, 0.3), 0px 1px 3px 1px rgba(60, 64, 67, 0.15);\n",
              "      fill: #174EA6;\n",
              "    }\n",
              "\n",
              "    [theme=dark] .colab-df-convert {\n",
              "      background-color: #3B4455;\n",
              "      fill: #D2E3FC;\n",
              "    }\n",
              "\n",
              "    [theme=dark] .colab-df-convert:hover {\n",
              "      background-color: #434B5C;\n",
              "      box-shadow: 0px 1px 3px 1px rgba(0, 0, 0, 0.15);\n",
              "      filter: drop-shadow(0px 1px 2px rgba(0, 0, 0, 0.3));\n",
              "      fill: #FFFFFF;\n",
              "    }\n",
              "  </style>\n",
              "\n",
              "      <script>\n",
              "        const buttonEl =\n",
              "          document.querySelector('#df-4f80095e-3a65-409f-8dbc-500d98b9fee7 button.colab-df-convert');\n",
              "        buttonEl.style.display =\n",
              "          google.colab.kernel.accessAllowed ? 'block' : 'none';\n",
              "\n",
              "        async function convertToInteractive(key) {\n",
              "          const element = document.querySelector('#df-4f80095e-3a65-409f-8dbc-500d98b9fee7');\n",
              "          const dataTable =\n",
              "            await google.colab.kernel.invokeFunction('convertToInteractive',\n",
              "                                                     [key], {});\n",
              "          if (!dataTable) return;\n",
              "\n",
              "          const docLinkHtml = 'Like what you see? Visit the ' +\n",
              "            '<a target=\"_blank\" href=https://colab.research.google.com/notebooks/data_table.ipynb>data table notebook</a>'\n",
              "            + ' to learn more about interactive tables.';\n",
              "          element.innerHTML = '';\n",
              "          dataTable['output_type'] = 'display_data';\n",
              "          await google.colab.output.renderOutput(dataTable, element);\n",
              "          const docLink = document.createElement('div');\n",
              "          docLink.innerHTML = docLinkHtml;\n",
              "          element.appendChild(docLink);\n",
              "        }\n",
              "      </script>\n",
              "    </div>\n",
              "  </div>\n",
              "  "
            ]
          },
          "metadata": {},
          "execution_count": 46
        }
      ],
      "source": [
        "# create a new dataset for the encoded values\n",
        "tmic_df_encoded = pd.DataFrame(columns = reduced_m500.columns, data = copy.deepcopy(reduced_m500.values))\n",
        "\n",
        "# for each genre in the list tag 1 otherwise tag 0\n",
        "for i in genre_set:\n",
        "  tmic_df_encoded[i] = np.where(tmic_df_encoded[\"genres\"].str.contains(i), 1, 0)\n",
        "tmic_df_encoded.head()"
      ]
    },
    {
      "cell_type": "code",
      "execution_count": 47,
      "metadata": {
        "colab": {
          "base_uri": "https://localhost:8080/"
        },
        "id": "cYSo6Je4pw4C",
        "outputId": "2253a9e7-d7ed-4434-b3f8-47982df66b65"
      },
      "outputs": [
        {
          "output_type": "stream",
          "name": "stdout",
          "text": [
            "tmic_df_encoded has 5356749 rows and 27 columns, namely:\n",
            " ['userId', 'movieId', 'rating', 'timestamp', 'genres', 'year', 'runtime', 'budget', 'Western', 'Sci-Fi', 'Horror', 'Animation', 'Documentary', 'Drama', 'Romance', 'Fantasy', 'Comedy', 'War', 'IMAX', 'Musical', 'Thriller', 'Children', 'Film-Noir', 'Mystery', 'Crime', 'Adventure', 'Action']\n",
            "\n",
            "The following table represents the column data types in tmic_df_encoded:\n",
            "\n",
            "<class 'pandas.core.frame.DataFrame'>\n",
            "RangeIndex: 5356749 entries, 0 to 5356748\n",
            "Data columns (total 27 columns):\n",
            " #   Column       Dtype         \n",
            "---  ------       -----         \n",
            " 0   userId       object        \n",
            " 1   movieId      object        \n",
            " 2   rating       object        \n",
            " 3   timestamp    datetime64[ns]\n",
            " 4   genres       object        \n",
            " 5   year         object        \n",
            " 6   runtime      object        \n",
            " 7   budget       object        \n",
            " 8   Western      int64         \n",
            " 9   Sci-Fi       int64         \n",
            " 10  Horror       int64         \n",
            " 11  Animation    int64         \n",
            " 12  Documentary  int64         \n",
            " 13  Drama        int64         \n",
            " 14  Romance      int64         \n",
            " 15  Fantasy      int64         \n",
            " 16  Comedy       int64         \n",
            " 17  War          int64         \n",
            " 18  IMAX         int64         \n",
            " 19  Musical      int64         \n",
            " 20  Thriller     int64         \n",
            " 21  Children     int64         \n",
            " 22  Film-Noir    int64         \n",
            " 23  Mystery      int64         \n",
            " 24  Crime        int64         \n",
            " 25  Adventure    int64         \n",
            " 26  Action       int64         \n",
            "dtypes: datetime64[ns](1), int64(19), object(7)\n",
            "memory usage: 1.1+ GB\n",
            "None\n",
            "\n",
            "The following table represents the missing values and the corresponding % in tmic_df_encoded:\n",
            "\n",
            "             null_values  null_values_%\n",
            "userId                 0            0.0\n",
            "movieId                0            0.0\n",
            "rating                 0            0.0\n",
            "timestamp              0            0.0\n",
            "genres                 0            0.0\n",
            "year                   0            0.0\n",
            "runtime          1966275           37.0\n",
            "budget           2303651           43.0\n",
            "Western                0            0.0\n",
            "Sci-Fi                 0            0.0\n",
            "Horror                 0            0.0\n",
            "Animation              0            0.0\n",
            "Documentary            0            0.0\n",
            "Drama                  0            0.0\n",
            "Romance                0            0.0\n",
            "Fantasy                0            0.0\n",
            "Comedy                 0            0.0\n",
            "War                    0            0.0\n",
            "IMAX                   0            0.0\n",
            "Musical                0            0.0\n",
            "Thriller               0            0.0\n",
            "Children               0            0.0\n",
            "Film-Noir              0            0.0\n",
            "Mystery                0            0.0\n",
            "Crime                  0            0.0\n",
            "Adventure              0            0.0\n",
            "Action                 0            0.0\n",
            "\n",
            "The following is a printout of the first 5 rows in tmic_df_encoded:\n",
            "\n",
            "     userId movieId rating           timestamp  \\\n",
            "0  106343.0     5.0    4.5 2008-03-23 02:18:59   \n",
            "1    9041.0   366.0    3.0 1996-05-29 13:17:17   \n",
            "2   21066.0  2282.0    1.0 1999-12-21 14:18:27   \n",
            "3  144018.0  1997.0    5.0 2005-03-04 20:20:47   \n",
            "4   97844.0  1784.0    3.5 2005-03-24 02:13:58   \n",
            "\n",
            "                             genres    year runtime      budget  Western  \\\n",
            "0                            Comedy  1995.0   106.0  30000000.0        0   \n",
            "1  Drama, Horror, Mystery, Thriller  1994.0   112.0   8000000.0        0   \n",
            "2                     Comedy, Drama  1998.0    87.0   6000000.0        0   \n",
            "3                   Horror, Mystery  1973.0     NaN         NaN        0   \n",
            "4            Comedy, Drama, Romance  1997.0   139.0  50000000.0        0   \n",
            "\n",
            "   Sci-Fi  ...  War  IMAX  Musical  Thriller  Children  Film-Noir  Mystery  \\\n",
            "0       0  ...    0     0        0         0         0          0        0   \n",
            "1       0  ...    0     0        0         1         0          0        1   \n",
            "2       0  ...    0     0        0         0         0          0        0   \n",
            "3       0  ...    0     0        0         0         0          0        1   \n",
            "4       0  ...    0     0        0         0         0          0        0   \n",
            "\n",
            "   Crime  Adventure  Action  \n",
            "0      0          0       0  \n",
            "1      0          0       0  \n",
            "2      0          0       0  \n",
            "3      0          0       0  \n",
            "4      0          0       0  \n",
            "\n",
            "[5 rows x 27 columns]\n"
          ]
        }
      ],
      "source": [
        "# further information on the resultant file\n",
        "get_info(tmic_df_encoded)"
      ]
    },
    {
      "cell_type": "markdown",
      "source": [
        "The dataset reduction and encoding has resulted in 5,356,749 rows and 27 features. Next we will convert the runtime and budget features to float and remove the genre column."
      ],
      "metadata": {
        "id": "cbbMFHslQFzi"
      }
    },
    {
      "cell_type": "code",
      "execution_count": 48,
      "metadata": {
        "id": "ZqwEsXuxkYaR"
      },
      "outputs": [],
      "source": [
        "# convert objects to floats\n",
        "float_list = ['runtime', 'budget']\n",
        "\n",
        "# conversion to float\n",
        "for i in float_list:\n",
        "  tmic_df_encoded[i] = tmic_df_encoded[i].apply(to_float)\n"
      ]
    },
    {
      "cell_type": "code",
      "execution_count": 49,
      "metadata": {
        "id": "ssOTAfzjXhCb",
        "colab": {
          "base_uri": "https://localhost:8080/"
        },
        "outputId": "62901c56-3603-4575-d809-d0e83f87a0ac"
      },
      "outputs": [
        {
          "output_type": "stream",
          "name": "stdout",
          "text": [
            "(5356749, 26)\n"
          ]
        }
      ],
      "source": [
        "# drop the genres column\n",
        "tmic_df_encoded.drop('genres', axis=1, inplace=True)\n",
        "print(tmic_df_encoded.shape)"
      ]
    },
    {
      "cell_type": "markdown",
      "source": [
        "### Checkpoint"
      ],
      "metadata": {
        "id": "ZGXD4j2HRbkx"
      }
    },
    {
      "cell_type": "markdown",
      "source": [
        "#### Export"
      ],
      "metadata": {
        "id": "az-i4zzlRh59"
      }
    },
    {
      "cell_type": "code",
      "execution_count": null,
      "metadata": {
        "id": "vSrdd-3oW2xA"
      },
      "outputs": [],
      "source": [
        "# ML checkpoint\n",
        "# export tmic_df_encoded for later use\n",
        "tmic_df_encoded.to_csv('tmic_df_encoded.csv', index=False, encoding='utf-8-sig')\n",
        "!cp tmic_df_encoded.csv \"drive/My Drive/Recommender\""
      ]
    },
    {
      "cell_type": "markdown",
      "source": [
        "#### Import"
      ],
      "metadata": {
        "id": "N94slZcTRmDN"
      }
    },
    {
      "cell_type": "code",
      "execution_count": null,
      "metadata": {
        "colab": {
          "base_uri": "https://localhost:8080/"
        },
        "id": "N4m4WMYqHP_O",
        "outputId": "f6c65a0c-7d05-477a-e7c1-3a5773bf34c1"
      },
      "outputs": [
        {
          "name": "stderr",
          "output_type": "stream",
          "text": [
            "Downloading...\n",
            "From: https://drive.google.com/uc?id=1-2GpaJWEyoYXhiZH6jDbqfoOgPAKsPas\n",
            "To: /content/tmic_df_encoded.csv\n",
            "100%|██████████| 812M/812M [00:03<00:00, 212MB/s]\n"
          ]
        }
      ],
      "source": [
        "# ML checkpoint\n",
        "# Upload tmic_df_encoded.csv\n",
        "url = 'https://drive.google.com/file/d/1-2GpaJWEyoYXhiZH6jDbqfoOgPAKsPas/view?usp=sharing'\n",
        "output = \"tmic_df_encoded.csv\"\n",
        "gdown.download(url=url, output=output, quiet=False, fuzzy=True)\n",
        "\n",
        "# create the dataframe\n",
        "tmic_df_encoded = pd.read_csv('tmic_df_encoded.csv')"
      ]
    },
    {
      "cell_type": "markdown",
      "metadata": {
        "id": "n18w_nIquA4B"
      },
      "source": [
        "###Removing Outliers"
      ]
    },
    {
      "cell_type": "markdown",
      "metadata": {
        "id": "F937lHJtuQLS"
      },
      "source": [
        "An outlier is an observation that is unlike the other observations. It is rare, or distinct, or does not fit in some way. Outliers can have many causes, such as; measurement or input error, data corruption or be a true outlier observation."
      ]
    },
    {
      "cell_type": "markdown",
      "metadata": {
        "id": "_goQKjQQ3JI9"
      },
      "source": [
        "##### Votes per movie"
      ]
    },
    {
      "cell_type": "code",
      "execution_count": 50,
      "metadata": {
        "id": "t8UM7Spy1HgX"
      },
      "outputs": [],
      "source": [
        "# count the number of votes per movie\n",
        "votes_per_movie = (tmic_df_encoded.groupby(['movieId'])['rating'].agg([('vote_counts','count')]).reset_index())"
      ]
    },
    {
      "cell_type": "code",
      "execution_count": 51,
      "metadata": {
        "colab": {
          "base_uri": "https://localhost:8080/"
        },
        "id": "He2zH2J57YRj",
        "outputId": "fd35626f-f356-476f-9a7f-33029df273f8"
      },
      "outputs": [
        {
          "output_type": "execute_result",
          "data": {
            "text/plain": [
              "count     3202.000000\n",
              "mean      1672.938476\n",
              "std       3247.804316\n",
              "min          1.000000\n",
              "25%         97.250000\n",
              "50%        466.000000\n",
              "75%       1705.500000\n",
              "max      32831.000000\n",
              "Name: vote_counts, dtype: float64"
            ]
          },
          "metadata": {},
          "execution_count": 51
        }
      ],
      "source": [
        "# describe the resultant vote count\n",
        "votes_per_movie['vote_counts'].describe().T"
      ]
    },
    {
      "cell_type": "code",
      "execution_count": null,
      "metadata": {
        "colab": {
          "base_uri": "https://localhost:8080/"
        },
        "id": "1lQAyhXlGufe",
        "outputId": "e9f24480-19dc-4c09-de86-927862c3c458"
      },
      "outputs": [
        {
          "output_type": "stream",
          "name": "stdout",
          "text": [
            "<class 'pandas.core.frame.DataFrame'>\n",
            "RangeIndex: 3202 entries, 0 to 3201\n",
            "Data columns (total 2 columns):\n",
            " #   Column       Non-Null Count  Dtype  \n",
            "---  ------       --------------  -----  \n",
            " 0   movieId      3202 non-null   float64\n",
            " 1   vote_counts  3202 non-null   int64  \n",
            "dtypes: float64(1), int64(1)\n",
            "memory usage: 50.2 KB\n"
          ]
        }
      ],
      "source": [
        "# print information\n",
        "votes_per_movie.info()"
      ]
    },
    {
      "cell_type": "markdown",
      "source": [
        "From the information above, we note that there are 3202 movies within the dataset with the least amount of votes being 1 and maximum number of votes being 32,831."
      ],
      "metadata": {
        "id": "PczrATKESIew"
      }
    },
    {
      "cell_type": "code",
      "execution_count": null,
      "metadata": {
        "colab": {
          "base_uri": "https://localhost:8080/",
          "height": 302
        },
        "id": "qHkLhgVC69MC",
        "outputId": "6ff5b865-41d4-4fc2-be14-e2d90036b582"
      },
      "outputs": [
        {
          "data": {
            "text/plain": [
              "<matplotlib.axes._subplots.AxesSubplot at 0x7f22f5996c10>"
            ]
          },
          "execution_count": 30,
          "metadata": {},
          "output_type": "execute_result"
        },
        {
          "data": {
            "image/png": "[encoded data removed]",
            "text/plain": [
              "<Figure size 432x288 with 1 Axes>"
            ]
          },
          "metadata": {},
          "output_type": "display_data"
        }
      ],
      "source": [
        "# plot the distribution of vote_counts\n",
        "sns.distplot(votes_per_movie['vote_counts'])"
      ]
    },
    {
      "cell_type": "markdown",
      "metadata": {
        "id": "gBlc9zL96BxZ"
      },
      "source": [
        "We cannot use the standard deviation of the movie dataset to calculate the cut-off or identifying outliers since it is not a normal Gaussian distribution, as seen above. We will resort to the IQR to identify outliers by defining limits on the dataset values that are a factor k of the IQR below the 25th percentile or above the 75th percentile. The IQR can then be calculated as the difference between the 75th and 25th percentiles."
      ]
    },
    {
      "cell_type": "code",
      "execution_count": 52,
      "metadata": {
        "id": "FA8Mkk9s5I0g"
      },
      "outputs": [],
      "source": [
        "# calculate the Interquartile range (IQR)\n",
        "q25 = percentile(votes_per_movie['vote_counts'], 25)\n",
        "q75 = percentile(votes_per_movie['vote_counts'], 75)\n",
        "iqr = q75 - q25\n"
      ]
    },
    {
      "cell_type": "code",
      "execution_count": 53,
      "metadata": {
        "colab": {
          "base_uri": "https://localhost:8080/"
        },
        "id": "pF4cE5IRMbPQ",
        "outputId": "dca62794-4c2c-4064-feeb-3a848ff62ba1"
      },
      "outputs": [
        {
          "output_type": "stream",
          "name": "stdout",
          "text": [
            "q25: 97.25 \n",
            "q75: 1705.5 \n",
            "iqr: 1608.25\n"
          ]
        }
      ],
      "source": [
        "# print the parameters\n",
        "print('q25:',q25, '\\nq75:',q75, '\\niqr:',iqr)"
      ]
    },
    {
      "cell_type": "markdown",
      "metadata": {
        "id": "_AuIVbJ0-ZI4"
      },
      "source": [
        "Next we will calculate the cutoff for outliers as 1.5 times the IQR and subtract this cut-off from the 25th percentile and add it to the 75th percentile to give the actual limits on the data."
      ]
    },
    {
      "cell_type": "code",
      "execution_count": 54,
      "metadata": {
        "colab": {
          "base_uri": "https://localhost:8080/"
        },
        "id": "X53ObRUZ-evd",
        "outputId": "56246efb-05a5-47cd-ff88-8cd87fd92b52"
      },
      "outputs": [
        {
          "output_type": "stream",
          "name": "stdout",
          "text": [
            "cut_off: 2412.375 \n",
            "lower: 97.25 \n",
            "upper: 4117.875\n"
          ]
        }
      ],
      "source": [
        "# calculate the outlier cutoff\n",
        "cut_off = iqr * 1.5\n",
        "lower = q25\n",
        "upper = q75 + cut_off\n",
        "\n",
        "# print the parameters\n",
        "print('cut_off:',cut_off, '\\nlower:',lower, '\\nupper:', upper)"
      ]
    },
    {
      "cell_type": "markdown",
      "metadata": {
        "id": "Rbgdpzwk_EJF"
      },
      "source": [
        "Next we will use these limits to identify the outlier values."
      ]
    },
    {
      "cell_type": "code",
      "execution_count": 55,
      "metadata": {
        "colab": {
          "base_uri": "https://localhost:8080/"
        },
        "id": "zPD4QzbO_KrU",
        "outputId": "860af76d-fc5b-4528-c6d6-2af9f1c2cef3"
      },
      "outputs": [
        {
          "output_type": "stream",
          "name": "stdout",
          "text": [
            "There are 2041 movies in the cutoff list, accounting for 2135403 votes.\n"
          ]
        }
      ],
      "source": [
        "# identify the outliers to be removed\n",
        "q = ((votes_per_movie['vote_counts'] < lower) | (votes_per_movie['vote_counts'] > upper))\n",
        "removal_one = votes_per_movie[~q]\n",
        "\n",
        "print('There are', removal_one.shape[0], 'movies in the cutoff list, accounting for', removal_one.vote_counts.sum(), 'votes.')"
      ]
    },
    {
      "cell_type": "markdown",
      "metadata": {
        "id": "19XFvFXM7hQ7"
      },
      "source": [
        "Next we will remove the movies with the number of votes listed in the outliers list."
      ]
    },
    {
      "cell_type": "code",
      "execution_count": 56,
      "metadata": {
        "id": "jLHTjrdabU34"
      },
      "outputs": [],
      "source": [
        "# extract only the movies not part of the outlier votes\n",
        "tmic_df_encoded = tmic_df_encoded[~tmic_df_encoded['movieId'].reindex(tmic_df_encoded.index,\n",
        "                                                                     fill_value=False).isin(removal_one['movieId'])]"
      ]
    },
    {
      "cell_type": "code",
      "execution_count": null,
      "metadata": {
        "colab": {
          "base_uri": "https://localhost:8080/"
        },
        "id": "D8vVYXNI7t5V",
        "outputId": "2f6aee99-8c45-4ed2-ed79-0464eed117ae"
      },
      "outputs": [
        {
          "output_type": "stream",
          "name": "stdout",
          "text": [
            "(3221346, 26)\n",
            "\n",
            "This is a reduction of 6778692 records\n"
          ]
        }
      ],
      "source": [
        "# print the new shape of the dataset\n",
        "print(tmic_df_encoded.shape)\n",
        "print('\\nThis is a reduction of', 10000038 - tmic_df_encoded.shape[0],'records')"
      ]
    },
    {
      "cell_type": "markdown",
      "metadata": {
        "id": "T82u6iKb3T5g"
      },
      "source": [
        "#### Movies per year of production"
      ]
    },
    {
      "cell_type": "code",
      "execution_count": 57,
      "metadata": {
        "id": "nAvQ0sjy3ksu"
      },
      "outputs": [],
      "source": [
        "# identify the number of movies rated for per year\n",
        "movies_per_year = (tmic_df_encoded.groupby('year')['userId'].agg([('vote_counts','count')]).reset_index())"
      ]
    },
    {
      "cell_type": "code",
      "execution_count": null,
      "metadata": {
        "colab": {
          "base_uri": "https://localhost:8080/",
          "height": 206
        },
        "id": "3Gqs-jl-6vnF",
        "outputId": "e7e33e66-31fb-4dd9-ab2a-78e0210e48f7"
      },
      "outputs": [
        {
          "output_type": "execute_result",
          "data": {
            "text/plain": [
              "     year  vote_counts\n",
              "0  1914.0            7\n",
              "1  1919.0           81\n",
              "2  1920.0           14\n",
              "3  1922.0            3\n",
              "4  1923.0           49"
            ],
            "text/html": [
              "\n",
              "  <div id=\"df-814f26a6-058f-49cf-9b31-359c88d4538d\">\n",
              "    <div class=\"colab-df-container\">\n",
              "      <div>\n",
              "<style scoped>\n",
              "    .dataframe tbody tr th:only-of-type {\n",
              "        vertical-align: middle;\n",
              "    }\n",
              "\n",
              "    .dataframe tbody tr th {\n",
              "        vertical-align: top;\n",
              "    }\n",
              "\n",
              "    .dataframe thead th {\n",
              "        text-align: right;\n",
              "    }\n",
              "</style>\n",
              "<table border=\"1\" class=\"dataframe\">\n",
              "  <thead>\n",
              "    <tr style=\"text-align: right;\">\n",
              "      <th></th>\n",
              "      <th>year</th>\n",
              "      <th>vote_counts</th>\n",
              "    </tr>\n",
              "  </thead>\n",
              "  <tbody>\n",
              "    <tr>\n",
              "      <th>0</th>\n",
              "      <td>1914.0</td>\n",
              "      <td>7</td>\n",
              "    </tr>\n",
              "    <tr>\n",
              "      <th>1</th>\n",
              "      <td>1919.0</td>\n",
              "      <td>81</td>\n",
              "    </tr>\n",
              "    <tr>\n",
              "      <th>2</th>\n",
              "      <td>1920.0</td>\n",
              "      <td>14</td>\n",
              "    </tr>\n",
              "    <tr>\n",
              "      <th>3</th>\n",
              "      <td>1922.0</td>\n",
              "      <td>3</td>\n",
              "    </tr>\n",
              "    <tr>\n",
              "      <th>4</th>\n",
              "      <td>1923.0</td>\n",
              "      <td>49</td>\n",
              "    </tr>\n",
              "  </tbody>\n",
              "</table>\n",
              "</div>\n",
              "      <button class=\"colab-df-convert\" onclick=\"convertToInteractive('df-814f26a6-058f-49cf-9b31-359c88d4538d')\"\n",
              "              title=\"Convert this dataframe to an interactive table.\"\n",
              "              style=\"display:none;\">\n",
              "        \n",
              "  <svg xmlns=\"http://www.w3.org/2000/svg\" height=\"24px\"viewBox=\"0 0 24 24\"\n",
              "       width=\"24px\">\n",
              "    <path d=\"M0 0h24v24H0V0z\" fill=\"none\"/>\n",
              "    <path d=\"M18.56 5.44l.94 2.06.94-2.06 2.06-.94-2.06-.94-.94-2.06-.94 2.06-2.06.94zm-11 1L8.5 8.5l.94-2.06 2.06-.94-2.06-.94L8.5 2.5l-.94 2.06-2.06.94zm10 10l.94 2.06.94-2.06 2.06-.94-2.06-.94-.94-2.06-.94 2.06-2.06.94z\"/><path d=\"M17.41 7.96l-1.37-1.37c-.4-.4-.92-.59-1.43-.59-.52 0-1.04.2-1.43.59L10.3 9.45l-7.72 7.72c-.78.78-.78 2.05 0 2.83L4 21.41c.39.39.9.59 1.41.59.51 0 1.02-.2 1.41-.59l7.78-7.78 2.81-2.81c.8-.78.8-2.07 0-2.86zM5.41 20L4 18.59l7.72-7.72 1.47 1.35L5.41 20z\"/>\n",
              "  </svg>\n",
              "      </button>\n",
              "      \n",
              "  <style>\n",
              "    .colab-df-container {\n",
              "      display:flex;\n",
              "      flex-wrap:wrap;\n",
              "      gap: 12px;\n",
              "    }\n",
              "\n",
              "    .colab-df-convert {\n",
              "      background-color: #E8F0FE;\n",
              "      border: none;\n",
              "      border-radius: 50%;\n",
              "      cursor: pointer;\n",
              "      display: none;\n",
              "      fill: #1967D2;\n",
              "      height: 32px;\n",
              "      padding: 0 0 0 0;\n",
              "      width: 32px;\n",
              "    }\n",
              "\n",
              "    .colab-df-convert:hover {\n",
              "      background-color: #E2EBFA;\n",
              "      box-shadow: 0px 1px 2px rgba(60, 64, 67, 0.3), 0px 1px 3px 1px rgba(60, 64, 67, 0.15);\n",
              "      fill: #174EA6;\n",
              "    }\n",
              "\n",
              "    [theme=dark] .colab-df-convert {\n",
              "      background-color: #3B4455;\n",
              "      fill: #D2E3FC;\n",
              "    }\n",
              "\n",
              "    [theme=dark] .colab-df-convert:hover {\n",
              "      background-color: #434B5C;\n",
              "      box-shadow: 0px 1px 3px 1px rgba(0, 0, 0, 0.15);\n",
              "      filter: drop-shadow(0px 1px 2px rgba(0, 0, 0, 0.3));\n",
              "      fill: #FFFFFF;\n",
              "    }\n",
              "  </style>\n",
              "\n",
              "      <script>\n",
              "        const buttonEl =\n",
              "          document.querySelector('#df-814f26a6-058f-49cf-9b31-359c88d4538d button.colab-df-convert');\n",
              "        buttonEl.style.display =\n",
              "          google.colab.kernel.accessAllowed ? 'block' : 'none';\n",
              "\n",
              "        async function convertToInteractive(key) {\n",
              "          const element = document.querySelector('#df-814f26a6-058f-49cf-9b31-359c88d4538d');\n",
              "          const dataTable =\n",
              "            await google.colab.kernel.invokeFunction('convertToInteractive',\n",
              "                                                     [key], {});\n",
              "          if (!dataTable) return;\n",
              "\n",
              "          const docLinkHtml = 'Like what you see? Visit the ' +\n",
              "            '<a target=\"_blank\" href=https://colab.research.google.com/notebooks/data_table.ipynb>data table notebook</a>'\n",
              "            + ' to learn more about interactive tables.';\n",
              "          element.innerHTML = '';\n",
              "          dataTable['output_type'] = 'display_data';\n",
              "          await google.colab.output.renderOutput(dataTable, element);\n",
              "          const docLink = document.createElement('div');\n",
              "          docLink.innerHTML = docLinkHtml;\n",
              "          element.appendChild(docLink);\n",
              "        }\n",
              "      </script>\n",
              "    </div>\n",
              "  </div>\n",
              "  "
            ]
          },
          "metadata": {},
          "execution_count": 111
        }
      ],
      "source": [
        "# first five records\n",
        "movies_per_year.head()"
      ]
    },
    {
      "cell_type": "code",
      "execution_count": null,
      "metadata": {
        "colab": {
          "base_uri": "https://localhost:8080/"
        },
        "id": "pisTymnHG4hO",
        "outputId": "2e63f3f6-56ef-4dd3-86ea-cd4f8ba34fee"
      },
      "outputs": [
        {
          "output_type": "stream",
          "name": "stdout",
          "text": [
            "<class 'pandas.core.frame.DataFrame'>\n",
            "RangeIndex: 79 entries, 0 to 78\n",
            "Data columns (total 2 columns):\n",
            " #   Column       Non-Null Count  Dtype  \n",
            "---  ------       --------------  -----  \n",
            " 0   year         79 non-null     float64\n",
            " 1   vote_counts  79 non-null     int64  \n",
            "dtypes: float64(1), int64(1)\n",
            "memory usage: 1.4 KB\n"
          ]
        }
      ],
      "source": [
        "# more infomation on the production years\n",
        "movies_per_year.info()"
      ]
    },
    {
      "cell_type": "code",
      "execution_count": 58,
      "metadata": {
        "colab": {
          "base_uri": "https://localhost:8080/"
        },
        "id": "7QQNSLOE8FoH",
        "outputId": "d976a64f-2719-4df3-9b62-a5ba1a8e05c9"
      },
      "outputs": [
        {
          "output_type": "stream",
          "name": "stdout",
          "text": [
            "There are 79 years, accounting for 3221346 votes\n"
          ]
        }
      ],
      "source": [
        "print('There are',movies_per_year.shape[0],'years, accounting for', \n",
        "      movies_per_year.vote_counts.sum(), 'votes')"
      ]
    },
    {
      "cell_type": "code",
      "execution_count": 59,
      "metadata": {
        "colab": {
          "base_uri": "https://localhost:8080/"
        },
        "id": "slUbqGKU3ks7",
        "outputId": "afe3b3b5-3eb1-40d0-af44-d37bb5d8e107"
      },
      "outputs": [
        {
          "output_type": "stream",
          "name": "stdout",
          "text": [
            "q5: 113.5 \n",
            "q75: 34133.5 \n",
            "iqr: 34020.0\n"
          ]
        }
      ],
      "source": [
        "# calculate the Interquartile range (IQR)\n",
        "q25 = percentile(movies_per_year.vote_counts, 25)\n",
        "q75 = percentile(movies_per_year.vote_counts, 75)\n",
        "iqr = q75 - q25\n",
        "\n",
        "# print parameter details\n",
        "print('q5:',q25, '\\nq75:',q75, '\\niqr:',iqr)"
      ]
    },
    {
      "cell_type": "markdown",
      "metadata": {
        "id": "IOgQit4A3ks9"
      },
      "source": [
        "Next we will calculate the cutoff for outliers as 1.5 times the IQR and subtract this cut-off from the 25th percentile and add it to the 75th percentile to give the actual limits on the data."
      ]
    },
    {
      "cell_type": "code",
      "execution_count": 60,
      "metadata": {
        "colab": {
          "base_uri": "https://localhost:8080/"
        },
        "id": "KJ4ev-jp3ks-",
        "outputId": "9189c687-ffb0-4de7-dc68-0f90752c0da5"
      },
      "outputs": [
        {
          "output_type": "stream",
          "name": "stdout",
          "text": [
            "cut_off: 51030.0 \n",
            "lower: -50916.5 \n",
            "upper: 85163.5\n"
          ]
        }
      ],
      "source": [
        "# calculate the outlier cutoff\n",
        "cut_off = iqr * 1.5\n",
        "lower = q25 - cut_off\n",
        "upper = q75 + cut_off\n",
        "\n",
        "# print the cut-off details\n",
        "print('cut_off:',cut_off, '\\nlower:',lower, '\\nupper:', upper)"
      ]
    },
    {
      "cell_type": "markdown",
      "metadata": {
        "id": "o69F4NJv3ktD"
      },
      "source": [
        "Next we will use these limits to identify the outlier values."
      ]
    },
    {
      "cell_type": "code",
      "execution_count": 61,
      "metadata": {
        "colab": {
          "base_uri": "https://localhost:8080/"
        },
        "id": "EAkv3afa3ktE",
        "outputId": "7bfc83e3-2b95-4487-8188-a07dc839070b"
      },
      "outputs": [
        {
          "output_type": "stream",
          "name": "stdout",
          "text": [
            "There are 69 movies in the cutoff list, accounting for 981211 votes.\n"
          ]
        }
      ],
      "source": [
        "# identify the outliers to be removed\n",
        "q = ((movies_per_year['vote_counts'] < lower) | (movies_per_year['vote_counts'] > upper))\n",
        "removal_two = movies_per_year[~q]\n",
        "\n",
        "# retain the old shape information\n",
        "old_shape = tmic_df_encoded.shape\n",
        "\n",
        "print('There are', removal_two.shape[0], 'movies in the cutoff list, accounting for',\n",
        "      removal_two.vote_counts.sum(), 'votes.')"
      ]
    },
    {
      "cell_type": "markdown",
      "metadata": {
        "id": "-CP21aCN3ktF"
      },
      "source": [
        "Next we will remove the movies with the number of votes listed in the outliers list."
      ]
    },
    {
      "cell_type": "code",
      "execution_count": 62,
      "metadata": {
        "id": "Z95EdhAl3ktG"
      },
      "outputs": [],
      "source": [
        "# extract only the movies not part of the outlier years\n",
        "tmic_df_encoded = tmic_df_encoded[~tmic_df_encoded['year'].reindex(tmic_df_encoded.index,\n",
        "                                                                     fill_value=False).isin(removal_two['year'])]"
      ]
    },
    {
      "cell_type": "code",
      "execution_count": 63,
      "metadata": {
        "colab": {
          "base_uri": "https://localhost:8080/"
        },
        "id": "ci8Y5v4B3ktH",
        "outputId": "61dc4f41-120e-4198-bf83-d3941dae2ea3"
      },
      "outputs": [
        {
          "output_type": "stream",
          "name": "stdout",
          "text": [
            "(2240135, 26)\n",
            "\n",
            "This is a reduction of 981211 records\n"
          ]
        }
      ],
      "source": [
        "# print the new shape of the dataset\n",
        "print(tmic_df_encoded.shape)\n",
        "print('\\nThis is a reduction of', old_shape[0] - tmic_df_encoded.shape[0],'records')"
      ]
    },
    {
      "cell_type": "markdown",
      "metadata": {
        "id": "J0iDcAyW9WYN"
      },
      "source": [
        "#### Movies per year of vote\n"
      ]
    },
    {
      "cell_type": "markdown",
      "metadata": {
        "id": "kAz8K4AY-e3K"
      },
      "source": [
        "##### Timestamp data extraction\n",
        "Next we will extract the voting year, month, dow data from the timestamp data"
      ]
    },
    {
      "cell_type": "code",
      "execution_count": 64,
      "metadata": {
        "id": "tojSgFg892DC"
      },
      "outputs": [],
      "source": [
        "# extract the year\n",
        "tmic_df_encoded['vote_year'] = pd.DatetimeIndex(tmic_df_encoded['timestamp']).year\n",
        "# extract the month\n",
        "tmic_df_encoded['vote_month'] = pd.DatetimeIndex(tmic_df_encoded['timestamp']).month\n",
        "# extract the day of week\n",
        "tmic_df_encoded['vote_dow'] = pd.DatetimeIndex(tmic_df_encoded['timestamp']).dayofweek\n"
      ]
    },
    {
      "cell_type": "code",
      "execution_count": null,
      "metadata": {
        "colab": {
          "base_uri": "https://localhost:8080/",
          "height": 490
        },
        "id": "fXIO774k-LLL",
        "outputId": "e413069a-16d4-4620-885e-6d1aa3e10e31"
      },
      "outputs": [
        {
          "output_type": "execute_result",
          "data": {
            "text/plain": [
              "     userId movieId rating           timestamp    year  runtime      budget  \\\n",
              "0  106343.0     5.0    4.5 2008-03-23 02:18:59  1995.0    106.0  30000000.0   \n",
              "4   97844.0  1784.0    3.5 2005-03-24 02:13:58  1997.0    139.0  50000000.0   \n",
              "5   33970.0  1265.0    4.0 2016-05-15 02:41:30  1993.0    101.0  14600000.0   \n",
              "6  109194.0  2011.0    4.0 2019-01-20 00:34:20  1989.0      NaN         NaN   \n",
              "7   57239.0   150.0    4.0 2001-08-07 03:26:18  1995.0    140.0  52000000.0   \n",
              "\n",
              "   Film-Noir  War  Western  ...  Adventure  Mystery  Romance  Horror  \\\n",
              "0          0    0        0  ...          0        0        0       0   \n",
              "4          0    0        0  ...          0        0        1       0   \n",
              "5          0    0        0  ...          0        0        1       0   \n",
              "6          0    0        0  ...          1        0        0       0   \n",
              "7          0    0        0  ...          1        0        0       0   \n",
              "\n",
              "   Children  Sci-Fi  Thriller  vote_year  vote_month  vote_dow  \n",
              "0         0       0         0       2008           3         6  \n",
              "4         0       0         0       2005           3         3  \n",
              "5         0       0         0       2016           5         6  \n",
              "6         0       1         0       2019           1         6  \n",
              "7         0       0         0       2001           8         1  \n",
              "\n",
              "[5 rows x 29 columns]"
            ],
            "text/html": [
              "\n",
              "  <div id=\"df-50d6e11f-57f7-4084-9d3f-e279a10b8cdb\">\n",
              "    <div class=\"colab-df-container\">\n",
              "      <div>\n",
              "<style scoped>\n",
              "    .dataframe tbody tr th:only-of-type {\n",
              "        vertical-align: middle;\n",
              "    }\n",
              "\n",
              "    .dataframe tbody tr th {\n",
              "        vertical-align: top;\n",
              "    }\n",
              "\n",
              "    .dataframe thead th {\n",
              "        text-align: right;\n",
              "    }\n",
              "</style>\n",
              "<table border=\"1\" class=\"dataframe\">\n",
              "  <thead>\n",
              "    <tr style=\"text-align: right;\">\n",
              "      <th></th>\n",
              "      <th>userId</th>\n",
              "      <th>movieId</th>\n",
              "      <th>rating</th>\n",
              "      <th>timestamp</th>\n",
              "      <th>year</th>\n",
              "      <th>runtime</th>\n",
              "      <th>budget</th>\n",
              "      <th>Film-Noir</th>\n",
              "      <th>War</th>\n",
              "      <th>Western</th>\n",
              "      <th>...</th>\n",
              "      <th>Adventure</th>\n",
              "      <th>Mystery</th>\n",
              "      <th>Romance</th>\n",
              "      <th>Horror</th>\n",
              "      <th>Children</th>\n",
              "      <th>Sci-Fi</th>\n",
              "      <th>Thriller</th>\n",
              "      <th>vote_year</th>\n",
              "      <th>vote_month</th>\n",
              "      <th>vote_dow</th>\n",
              "    </tr>\n",
              "  </thead>\n",
              "  <tbody>\n",
              "    <tr>\n",
              "      <th>0</th>\n",
              "      <td>106343.0</td>\n",
              "      <td>5.0</td>\n",
              "      <td>4.5</td>\n",
              "      <td>2008-03-23 02:18:59</td>\n",
              "      <td>1995.0</td>\n",
              "      <td>106.0</td>\n",
              "      <td>30000000.0</td>\n",
              "      <td>0</td>\n",
              "      <td>0</td>\n",
              "      <td>0</td>\n",
              "      <td>...</td>\n",
              "      <td>0</td>\n",
              "      <td>0</td>\n",
              "      <td>0</td>\n",
              "      <td>0</td>\n",
              "      <td>0</td>\n",
              "      <td>0</td>\n",
              "      <td>0</td>\n",
              "      <td>2008</td>\n",
              "      <td>3</td>\n",
              "      <td>6</td>\n",
              "    </tr>\n",
              "    <tr>\n",
              "      <th>4</th>\n",
              "      <td>97844.0</td>\n",
              "      <td>1784.0</td>\n",
              "      <td>3.5</td>\n",
              "      <td>2005-03-24 02:13:58</td>\n",
              "      <td>1997.0</td>\n",
              "      <td>139.0</td>\n",
              "      <td>50000000.0</td>\n",
              "      <td>0</td>\n",
              "      <td>0</td>\n",
              "      <td>0</td>\n",
              "      <td>...</td>\n",
              "      <td>0</td>\n",
              "      <td>0</td>\n",
              "      <td>1</td>\n",
              "      <td>0</td>\n",
              "      <td>0</td>\n",
              "      <td>0</td>\n",
              "      <td>0</td>\n",
              "      <td>2005</td>\n",
              "      <td>3</td>\n",
              "      <td>3</td>\n",
              "    </tr>\n",
              "    <tr>\n",
              "      <th>5</th>\n",
              "      <td>33970.0</td>\n",
              "      <td>1265.0</td>\n",
              "      <td>4.0</td>\n",
              "      <td>2016-05-15 02:41:30</td>\n",
              "      <td>1993.0</td>\n",
              "      <td>101.0</td>\n",
              "      <td>14600000.0</td>\n",
              "      <td>0</td>\n",
              "      <td>0</td>\n",
              "      <td>0</td>\n",
              "      <td>...</td>\n",
              "      <td>0</td>\n",
              "      <td>0</td>\n",
              "      <td>1</td>\n",
              "      <td>0</td>\n",
              "      <td>0</td>\n",
              "      <td>0</td>\n",
              "      <td>0</td>\n",
              "      <td>2016</td>\n",
              "      <td>5</td>\n",
              "      <td>6</td>\n",
              "    </tr>\n",
              "    <tr>\n",
              "      <th>6</th>\n",
              "      <td>109194.0</td>\n",
              "      <td>2011.0</td>\n",
              "      <td>4.0</td>\n",
              "      <td>2019-01-20 00:34:20</td>\n",
              "      <td>1989.0</td>\n",
              "      <td>NaN</td>\n",
              "      <td>NaN</td>\n",
              "      <td>0</td>\n",
              "      <td>0</td>\n",
              "      <td>0</td>\n",
              "      <td>...</td>\n",
              "      <td>1</td>\n",
              "      <td>0</td>\n",
              "      <td>0</td>\n",
              "      <td>0</td>\n",
              "      <td>0</td>\n",
              "      <td>1</td>\n",
              "      <td>0</td>\n",
              "      <td>2019</td>\n",
              "      <td>1</td>\n",
              "      <td>6</td>\n",
              "    </tr>\n",
              "    <tr>\n",
              "      <th>7</th>\n",
              "      <td>57239.0</td>\n",
              "      <td>150.0</td>\n",
              "      <td>4.0</td>\n",
              "      <td>2001-08-07 03:26:18</td>\n",
              "      <td>1995.0</td>\n",
              "      <td>140.0</td>\n",
              "      <td>52000000.0</td>\n",
              "      <td>0</td>\n",
              "      <td>0</td>\n",
              "      <td>0</td>\n",
              "      <td>...</td>\n",
              "      <td>1</td>\n",
              "      <td>0</td>\n",
              "      <td>0</td>\n",
              "      <td>0</td>\n",
              "      <td>0</td>\n",
              "      <td>0</td>\n",
              "      <td>0</td>\n",
              "      <td>2001</td>\n",
              "      <td>8</td>\n",
              "      <td>1</td>\n",
              "    </tr>\n",
              "  </tbody>\n",
              "</table>\n",
              "<p>5 rows × 29 columns</p>\n",
              "</div>\n",
              "      <button class=\"colab-df-convert\" onclick=\"convertToInteractive('df-50d6e11f-57f7-4084-9d3f-e279a10b8cdb')\"\n",
              "              title=\"Convert this dataframe to an interactive table.\"\n",
              "              style=\"display:none;\">\n",
              "        \n",
              "  <svg xmlns=\"http://www.w3.org/2000/svg\" height=\"24px\"viewBox=\"0 0 24 24\"\n",
              "       width=\"24px\">\n",
              "    <path d=\"M0 0h24v24H0V0z\" fill=\"none\"/>\n",
              "    <path d=\"M18.56 5.44l.94 2.06.94-2.06 2.06-.94-2.06-.94-.94-2.06-.94 2.06-2.06.94zm-11 1L8.5 8.5l.94-2.06 2.06-.94-2.06-.94L8.5 2.5l-.94 2.06-2.06.94zm10 10l.94 2.06.94-2.06 2.06-.94-2.06-.94-.94-2.06-.94 2.06-2.06.94z\"/><path d=\"M17.41 7.96l-1.37-1.37c-.4-.4-.92-.59-1.43-.59-.52 0-1.04.2-1.43.59L10.3 9.45l-7.72 7.72c-.78.78-.78 2.05 0 2.83L4 21.41c.39.39.9.59 1.41.59.51 0 1.02-.2 1.41-.59l7.78-7.78 2.81-2.81c.8-.78.8-2.07 0-2.86zM5.41 20L4 18.59l7.72-7.72 1.47 1.35L5.41 20z\"/>\n",
              "  </svg>\n",
              "      </button>\n",
              "      \n",
              "  <style>\n",
              "    .colab-df-container {\n",
              "      display:flex;\n",
              "      flex-wrap:wrap;\n",
              "      gap: 12px;\n",
              "    }\n",
              "\n",
              "    .colab-df-convert {\n",
              "      background-color: #E8F0FE;\n",
              "      border: none;\n",
              "      border-radius: 50%;\n",
              "      cursor: pointer;\n",
              "      display: none;\n",
              "      fill: #1967D2;\n",
              "      height: 32px;\n",
              "      padding: 0 0 0 0;\n",
              "      width: 32px;\n",
              "    }\n",
              "\n",
              "    .colab-df-convert:hover {\n",
              "      background-color: #E2EBFA;\n",
              "      box-shadow: 0px 1px 2px rgba(60, 64, 67, 0.3), 0px 1px 3px 1px rgba(60, 64, 67, 0.15);\n",
              "      fill: #174EA6;\n",
              "    }\n",
              "\n",
              "    [theme=dark] .colab-df-convert {\n",
              "      background-color: #3B4455;\n",
              "      fill: #D2E3FC;\n",
              "    }\n",
              "\n",
              "    [theme=dark] .colab-df-convert:hover {\n",
              "      background-color: #434B5C;\n",
              "      box-shadow: 0px 1px 3px 1px rgba(0, 0, 0, 0.15);\n",
              "      filter: drop-shadow(0px 1px 2px rgba(0, 0, 0, 0.3));\n",
              "      fill: #FFFFFF;\n",
              "    }\n",
              "  </style>\n",
              "\n",
              "      <script>\n",
              "        const buttonEl =\n",
              "          document.querySelector('#df-50d6e11f-57f7-4084-9d3f-e279a10b8cdb button.colab-df-convert');\n",
              "        buttonEl.style.display =\n",
              "          google.colab.kernel.accessAllowed ? 'block' : 'none';\n",
              "\n",
              "        async function convertToInteractive(key) {\n",
              "          const element = document.querySelector('#df-50d6e11f-57f7-4084-9d3f-e279a10b8cdb');\n",
              "          const dataTable =\n",
              "            await google.colab.kernel.invokeFunction('convertToInteractive',\n",
              "                                                     [key], {});\n",
              "          if (!dataTable) return;\n",
              "\n",
              "          const docLinkHtml = 'Like what you see? Visit the ' +\n",
              "            '<a target=\"_blank\" href=https://colab.research.google.com/notebooks/data_table.ipynb>data table notebook</a>'\n",
              "            + ' to learn more about interactive tables.';\n",
              "          element.innerHTML = '';\n",
              "          dataTable['output_type'] = 'display_data';\n",
              "          await google.colab.output.renderOutput(dataTable, element);\n",
              "          const docLink = document.createElement('div');\n",
              "          docLink.innerHTML = docLinkHtml;\n",
              "          element.appendChild(docLink);\n",
              "        }\n",
              "      </script>\n",
              "    </div>\n",
              "  </div>\n",
              "  "
            ]
          },
          "metadata": {},
          "execution_count": 120
        }
      ],
      "source": [
        "# print the first five rows\n",
        "tmic_df_encoded.head()"
      ]
    },
    {
      "cell_type": "code",
      "execution_count": 65,
      "metadata": {
        "id": "jYrTlh7t-2op"
      },
      "outputs": [],
      "source": [
        "# identify the number of movies rated for per year\n",
        "movies_per_year_vote = (tmic_df_encoded.groupby('vote_year')['userId'].agg([('vote_counts','count')]).reset_index())"
      ]
    },
    {
      "cell_type": "code",
      "execution_count": null,
      "metadata": {
        "colab": {
          "base_uri": "https://localhost:8080/",
          "height": 206
        },
        "id": "WSC898yT-2or",
        "outputId": "b6f5824c-c15d-4d89-af1b-f5611719ccba"
      },
      "outputs": [
        {
          "output_type": "execute_result",
          "data": {
            "text/plain": [
              "   vote_year  vote_counts\n",
              "0       1995            1\n",
              "1       1996       375626\n",
              "2       1997       105318\n",
              "3       1998        38022\n",
              "4       1999       125531"
            ],
            "text/html": [
              "\n",
              "  <div id=\"df-ae279493-3cd4-4b7f-ae6d-a004fb1604fc\">\n",
              "    <div class=\"colab-df-container\">\n",
              "      <div>\n",
              "<style scoped>\n",
              "    .dataframe tbody tr th:only-of-type {\n",
              "        vertical-align: middle;\n",
              "    }\n",
              "\n",
              "    .dataframe tbody tr th {\n",
              "        vertical-align: top;\n",
              "    }\n",
              "\n",
              "    .dataframe thead th {\n",
              "        text-align: right;\n",
              "    }\n",
              "</style>\n",
              "<table border=\"1\" class=\"dataframe\">\n",
              "  <thead>\n",
              "    <tr style=\"text-align: right;\">\n",
              "      <th></th>\n",
              "      <th>vote_year</th>\n",
              "      <th>vote_counts</th>\n",
              "    </tr>\n",
              "  </thead>\n",
              "  <tbody>\n",
              "    <tr>\n",
              "      <th>0</th>\n",
              "      <td>1995</td>\n",
              "      <td>1</td>\n",
              "    </tr>\n",
              "    <tr>\n",
              "      <th>1</th>\n",
              "      <td>1996</td>\n",
              "      <td>375626</td>\n",
              "    </tr>\n",
              "    <tr>\n",
              "      <th>2</th>\n",
              "      <td>1997</td>\n",
              "      <td>105318</td>\n",
              "    </tr>\n",
              "    <tr>\n",
              "      <th>3</th>\n",
              "      <td>1998</td>\n",
              "      <td>38022</td>\n",
              "    </tr>\n",
              "    <tr>\n",
              "      <th>4</th>\n",
              "      <td>1999</td>\n",
              "      <td>125531</td>\n",
              "    </tr>\n",
              "  </tbody>\n",
              "</table>\n",
              "</div>\n",
              "      <button class=\"colab-df-convert\" onclick=\"convertToInteractive('df-ae279493-3cd4-4b7f-ae6d-a004fb1604fc')\"\n",
              "              title=\"Convert this dataframe to an interactive table.\"\n",
              "              style=\"display:none;\">\n",
              "        \n",
              "  <svg xmlns=\"http://www.w3.org/2000/svg\" height=\"24px\"viewBox=\"0 0 24 24\"\n",
              "       width=\"24px\">\n",
              "    <path d=\"M0 0h24v24H0V0z\" fill=\"none\"/>\n",
              "    <path d=\"M18.56 5.44l.94 2.06.94-2.06 2.06-.94-2.06-.94-.94-2.06-.94 2.06-2.06.94zm-11 1L8.5 8.5l.94-2.06 2.06-.94-2.06-.94L8.5 2.5l-.94 2.06-2.06.94zm10 10l.94 2.06.94-2.06 2.06-.94-2.06-.94-.94-2.06-.94 2.06-2.06.94z\"/><path d=\"M17.41 7.96l-1.37-1.37c-.4-.4-.92-.59-1.43-.59-.52 0-1.04.2-1.43.59L10.3 9.45l-7.72 7.72c-.78.78-.78 2.05 0 2.83L4 21.41c.39.39.9.59 1.41.59.51 0 1.02-.2 1.41-.59l7.78-7.78 2.81-2.81c.8-.78.8-2.07 0-2.86zM5.41 20L4 18.59l7.72-7.72 1.47 1.35L5.41 20z\"/>\n",
              "  </svg>\n",
              "      </button>\n",
              "      \n",
              "  <style>\n",
              "    .colab-df-container {\n",
              "      display:flex;\n",
              "      flex-wrap:wrap;\n",
              "      gap: 12px;\n",
              "    }\n",
              "\n",
              "    .colab-df-convert {\n",
              "      background-color: #E8F0FE;\n",
              "      border: none;\n",
              "      border-radius: 50%;\n",
              "      cursor: pointer;\n",
              "      display: none;\n",
              "      fill: #1967D2;\n",
              "      height: 32px;\n",
              "      padding: 0 0 0 0;\n",
              "      width: 32px;\n",
              "    }\n",
              "\n",
              "    .colab-df-convert:hover {\n",
              "      background-color: #E2EBFA;\n",
              "      box-shadow: 0px 1px 2px rgba(60, 64, 67, 0.3), 0px 1px 3px 1px rgba(60, 64, 67, 0.15);\n",
              "      fill: #174EA6;\n",
              "    }\n",
              "\n",
              "    [theme=dark] .colab-df-convert {\n",
              "      background-color: #3B4455;\n",
              "      fill: #D2E3FC;\n",
              "    }\n",
              "\n",
              "    [theme=dark] .colab-df-convert:hover {\n",
              "      background-color: #434B5C;\n",
              "      box-shadow: 0px 1px 3px 1px rgba(0, 0, 0, 0.15);\n",
              "      filter: drop-shadow(0px 1px 2px rgba(0, 0, 0, 0.3));\n",
              "      fill: #FFFFFF;\n",
              "    }\n",
              "  </style>\n",
              "\n",
              "      <script>\n",
              "        const buttonEl =\n",
              "          document.querySelector('#df-ae279493-3cd4-4b7f-ae6d-a004fb1604fc button.colab-df-convert');\n",
              "        buttonEl.style.display =\n",
              "          google.colab.kernel.accessAllowed ? 'block' : 'none';\n",
              "\n",
              "        async function convertToInteractive(key) {\n",
              "          const element = document.querySelector('#df-ae279493-3cd4-4b7f-ae6d-a004fb1604fc');\n",
              "          const dataTable =\n",
              "            await google.colab.kernel.invokeFunction('convertToInteractive',\n",
              "                                                     [key], {});\n",
              "          if (!dataTable) return;\n",
              "\n",
              "          const docLinkHtml = 'Like what you see? Visit the ' +\n",
              "            '<a target=\"_blank\" href=https://colab.research.google.com/notebooks/data_table.ipynb>data table notebook</a>'\n",
              "            + ' to learn more about interactive tables.';\n",
              "          element.innerHTML = '';\n",
              "          dataTable['output_type'] = 'display_data';\n",
              "          await google.colab.output.renderOutput(dataTable, element);\n",
              "          const docLink = document.createElement('div');\n",
              "          docLink.innerHTML = docLinkHtml;\n",
              "          element.appendChild(docLink);\n",
              "        }\n",
              "      </script>\n",
              "    </div>\n",
              "  </div>\n",
              "  "
            ]
          },
          "metadata": {},
          "execution_count": 122
        }
      ],
      "source": [
        "# first five rows\n",
        "movies_per_year_vote.head()"
      ]
    },
    {
      "cell_type": "code",
      "execution_count": null,
      "metadata": {
        "colab": {
          "base_uri": "https://localhost:8080/"
        },
        "id": "B547wbHF-2or",
        "outputId": "c50bdff9-7e43-46fc-e054-c2bea3fdbfe8"
      },
      "outputs": [
        {
          "name": "stdout",
          "output_type": "stream",
          "text": [
            "<class 'pandas.core.frame.DataFrame'>\n",
            "RangeIndex: 25 entries, 0 to 24\n",
            "Data columns (total 2 columns):\n",
            " #   Column       Non-Null Count  Dtype\n",
            "---  ------       --------------  -----\n",
            " 0   vote_year    25 non-null     int64\n",
            " 1   vote_counts  25 non-null     int64\n",
            "dtypes: int64(2)\n",
            "memory usage: 528.0 bytes\n"
          ]
        }
      ],
      "source": [
        "# get more infomation\n",
        "movies_per_year_vote.info()"
      ]
    },
    {
      "cell_type": "code",
      "execution_count": null,
      "metadata": {
        "colab": {
          "base_uri": "https://localhost:8080/"
        },
        "id": "JxN8jSkc-2os",
        "outputId": "1b5b28f5-d528-400f-f7ea-978841b81e55"
      },
      "outputs": [
        {
          "output_type": "stream",
          "name": "stdout",
          "text": [
            "There are 25 years, accounting for 2240135 votes\n"
          ]
        }
      ],
      "source": [
        "print('There are',movies_per_year_vote.shape[0],'years, accounting for', \n",
        "      movies_per_year_vote.vote_counts.sum(), 'votes')"
      ]
    },
    {
      "cell_type": "code",
      "execution_count": 66,
      "metadata": {
        "colab": {
          "base_uri": "https://localhost:8080/"
        },
        "id": "mDTZDPI0-2ot",
        "outputId": "8f14674a-68e7-4e5e-b141-5e0f04dcc35d"
      },
      "outputs": [
        {
          "output_type": "stream",
          "name": "stdout",
          "text": [
            "q5: 50795.0 \n",
            "q75: 100936.0 \n",
            "iqr: 50141.0\n"
          ]
        }
      ],
      "source": [
        "# calculate the Interquartile range (IQR)\n",
        "q25 = percentile(movies_per_year_vote.vote_counts, 25)\n",
        "q75 = percentile(movies_per_year_vote.vote_counts, 75)\n",
        "iqr = q75 - q25\n",
        "\n",
        "# print parameter details\n",
        "print('q5:',q25, '\\nq75:',q75, '\\niqr:',iqr)"
      ]
    },
    {
      "cell_type": "markdown",
      "metadata": {
        "id": "CiehyDxb-2ou"
      },
      "source": [
        "Next we will calculate the cutoff for outliers as 1.5 times the IQR and subtract this cut-off from the 25th percentile and add it to the 75th percentile to give the actual limits on the data."
      ]
    },
    {
      "cell_type": "code",
      "execution_count": 67,
      "metadata": {
        "colab": {
          "base_uri": "https://localhost:8080/"
        },
        "id": "sRHogpC3-2ou",
        "outputId": "26985078-bf86-40c0-d8d9-868791335a78"
      },
      "outputs": [
        {
          "output_type": "stream",
          "name": "stdout",
          "text": [
            "cut_off: 75211.5 \n",
            "lower: -24416.5 \n",
            "upper: 176147.5\n"
          ]
        }
      ],
      "source": [
        "# calculate the outlier cutoff\n",
        "cut_off = iqr * 1.5\n",
        "lower = q25 - cut_off\n",
        "upper = q75 + cut_off\n",
        "\n",
        "# print the cut-off details\n",
        "print('cut_off:',cut_off, '\\nlower:',lower, '\\nupper:', upper)"
      ]
    },
    {
      "cell_type": "markdown",
      "metadata": {
        "id": "Kbd7WtKn-2ov"
      },
      "source": [
        "Next we will use these limits to identify the outlier values."
      ]
    },
    {
      "cell_type": "code",
      "execution_count": 68,
      "metadata": {
        "colab": {
          "base_uri": "https://localhost:8080/"
        },
        "id": "N6Wc3XY0-2ov",
        "outputId": "5063b1dc-270c-432a-db17-40c1ec507496"
      },
      "outputs": [
        {
          "output_type": "stream",
          "name": "stdout",
          "text": [
            "There are 23 movies in the cutoff list, accounting for 1683719 votes.\n"
          ]
        }
      ],
      "source": [
        "# identify the outliers to be removed\n",
        "q = ((movies_per_year_vote['vote_counts'] < lower) | (movies_per_year_vote['vote_counts'] > upper))\n",
        "removal_three = movies_per_year_vote[~q]\n",
        "\n",
        "# retain the old shape information\n",
        "old_shape = tmic_df_encoded.shape\n",
        "\n",
        "print('There are', removal_three.shape[0], 'movies in the cutoff list, accounting for',\n",
        "      removal_three.vote_counts.sum(), 'votes.')"
      ]
    },
    {
      "cell_type": "markdown",
      "metadata": {
        "id": "VAyGr17b-2ow"
      },
      "source": [
        "Next we will remove the movies with the number of votes listed in the outliers list."
      ]
    },
    {
      "cell_type": "code",
      "execution_count": 69,
      "metadata": {
        "id": "_aw6a6rc-2ow"
      },
      "outputs": [],
      "source": [
        "# extract only the movies not part of the outlier years\n",
        "tmic_df_encoded = tmic_df_encoded[~tmic_df_encoded['vote_year'].reindex(tmic_df_encoded.index,\n",
        "                                                                     fill_value=False).isin(removal_three['vote_year'])]"
      ]
    },
    {
      "cell_type": "code",
      "execution_count": null,
      "metadata": {
        "colab": {
          "base_uri": "https://localhost:8080/"
        },
        "id": "o8as5qpg-2ox",
        "outputId": "be463fab-f862-4ad0-9f6a-9bd6ef04c158"
      },
      "outputs": [
        {
          "output_type": "stream",
          "name": "stdout",
          "text": [
            "(556416, 29)\n",
            "\n",
            "This is a reduction of 1683719 records\n"
          ]
        }
      ],
      "source": [
        "# print the new shape of the dataset\n",
        "print(tmic_df_encoded.shape)\n",
        "print('\\nThis is a reduction of', old_shape[0] - tmic_df_encoded.shape[0],'records')"
      ]
    },
    {
      "cell_type": "markdown",
      "metadata": {
        "id": "BK_wugh--1ck"
      },
      "source": [
        "Next we will perform the following cleanup tasks:\n",
        "* drop the redundant `timestamp` feature \n",
        "* convert the `year` from type object to type int\n",
        "* convert the `rating`, `budget` and `runtime` features into floats"
      ]
    },
    {
      "cell_type": "code",
      "execution_count": 70,
      "metadata": {
        "id": "-FvhV-RSBOwN"
      },
      "outputs": [],
      "source": [
        "# drop the timestamp feature\n",
        "tmic_df_encoded.drop('timestamp', axis=1, inplace=True)\n",
        "\n",
        "# convert the production year to type int\n",
        "tmic_df_encoded['year'] = tmic_df_encoded['year'].astype(int)\n",
        "# change the column name to production_year\n",
        "tmic_df_encoded.rename(columns={'year':'production_year'}, inplace=True)\n",
        "\n",
        "# convert the rating, budget and runtime features to type float\n",
        "tmic_df_encoded['budget'] = tmic_df_encoded['budget'].astype(float)\n",
        "tmic_df_encoded['runtime'] = tmic_df_encoded['runtime'].astype(float)\n",
        "tmic_df_encoded['rating'] = tmic_df_encoded['rating'].astype(float)"
      ]
    },
    {
      "cell_type": "markdown",
      "source": [
        "### Checkpoint"
      ],
      "metadata": {
        "id": "K2-8e9_NUQSR"
      }
    },
    {
      "cell_type": "markdown",
      "source": [
        "#### Export"
      ],
      "metadata": {
        "id": "1L2diHRWUQSS"
      }
    },
    {
      "cell_type": "code",
      "execution_count": null,
      "metadata": {
        "id": "3Qcw4_iSKSA2"
      },
      "outputs": [],
      "source": [
        "# ML checkpoint\n",
        "# export tmic_df_encoded for later use\n",
        "tmic_df_encoded.to_csv('tmic_df_outlierR.csv', index=False, encoding='utf-8-sig')\n",
        "!cp tmic_df_outlierR.csv \"drive/My Drive/Recommender\""
      ]
    },
    {
      "cell_type": "markdown",
      "source": [
        "#### Import"
      ],
      "metadata": {
        "id": "7pF1-NDtUTPF"
      }
    },
    {
      "cell_type": "code",
      "execution_count": null,
      "metadata": {
        "colab": {
          "base_uri": "https://localhost:8080/"
        },
        "id": "YMuFZVBrKSA4",
        "outputId": "9ba620e8-2caf-498d-fec8-c77a1c1e7f0a"
      },
      "outputs": [
        {
          "output_type": "stream",
          "name": "stderr",
          "text": [
            "Downloading...\n",
            "From: https://drive.google.com/uc?id=1--qGttVM8ai1CSXYM0aQbCuwWm_kjbsJ\n",
            "To: /content/tmic_df_outlierR.csv\n",
            "100%|██████████| 71.3M/71.3M [00:00<00:00, 151MB/s]\n"
          ]
        }
      ],
      "source": [
        "# ML checkpoint\n",
        "# Upload tmic_df_encoded.csv\n",
        "url = 'https://drive.google.com/file/d/1--qGttVM8ai1CSXYM0aQbCuwWm_kjbsJ/view?usp=sharing'\n",
        "output = \"tmic_df_outlierR.csv\"\n",
        "gdown.download(url=url, output=output, quiet=False, fuzzy=True)\n",
        "\n",
        "# create the dataframe\n",
        "tmic_df_encoded = pd.read_csv('tmic_df_outlierR.csv')"
      ]
    },
    {
      "cell_type": "code",
      "execution_count": null,
      "metadata": {
        "colab": {
          "base_uri": "https://localhost:8080/"
        },
        "id": "eusOWoKHOmAz",
        "outputId": "1df0a651-9c28-47ff-d510-af7d13ce018d"
      },
      "outputs": [
        {
          "name": "stdout",
          "output_type": "stream",
          "text": [
            "tmic_df_encoded has 815473 rows and 25 columns, namely:\n",
            " ['userId', 'movieId', 'rating', 'production_year', 'runtime', 'budget', 'War', 'Animation', 'Sci-Fi', 'Mystery', 'Fantasy', 'Film-Noir', 'Horror', 'Action', 'IMAX', 'Musical', 'Crime', 'Thriller', 'Documentary', 'Adventure', 'Comedy', 'Romance', 'Children', 'Drama', 'Western']\n",
            "\n",
            "The following table represents the column data types in tmic_df_encoded:\n",
            "\n",
            "<class 'pandas.core.frame.DataFrame'>\n",
            "RangeIndex: 815473 entries, 0 to 815472\n",
            "Data columns (total 25 columns):\n",
            " #   Column           Non-Null Count   Dtype  \n",
            "---  ------           --------------   -----  \n",
            " 0   userId           815473 non-null  float64\n",
            " 1   movieId          815473 non-null  float64\n",
            " 2   rating           815473 non-null  float64\n",
            " 3   production_year  815473 non-null  int64  \n",
            " 4   runtime          815473 non-null  float64\n",
            " 5   budget           815473 non-null  float64\n",
            " 6   War              815473 non-null  int64  \n",
            " 7   Animation        815473 non-null  int64  \n",
            " 8   Sci-Fi           815473 non-null  int64  \n",
            " 9   Mystery          815473 non-null  int64  \n",
            " 10  Fantasy          815473 non-null  int64  \n",
            " 11  Film-Noir        815473 non-null  int64  \n",
            " 12  Horror           815473 non-null  int64  \n",
            " 13  Action           815473 non-null  int64  \n",
            " 14  IMAX             815473 non-null  int64  \n",
            " 15  Musical          815473 non-null  int64  \n",
            " 16  Crime            815473 non-null  int64  \n",
            " 17  Thriller         815473 non-null  int64  \n",
            " 18  Documentary      815473 non-null  int64  \n",
            " 19  Adventure        815473 non-null  int64  \n",
            " 20  Comedy           815473 non-null  int64  \n",
            " 21  Romance          815473 non-null  int64  \n",
            " 22  Children         815473 non-null  int64  \n",
            " 23  Drama            815473 non-null  int64  \n",
            " 24  Western          815473 non-null  int64  \n",
            "dtypes: float64(5), int64(20)\n",
            "memory usage: 155.5 MB\n",
            "None\n",
            "\n",
            "The following table represents the missing values and the corresponding % in tmic_df_encoded:\n",
            "\n",
            "                 null_values  null_values_%\n",
            "userId                     0            0.0\n",
            "movieId                    0            0.0\n",
            "rating                     0            0.0\n",
            "production_year            0            0.0\n",
            "runtime                    0            0.0\n",
            "budget                     0            0.0\n",
            "War                        0            0.0\n",
            "Animation                  0            0.0\n",
            "Sci-Fi                     0            0.0\n",
            "Mystery                    0            0.0\n",
            "Fantasy                    0            0.0\n",
            "Film-Noir                  0            0.0\n",
            "Horror                     0            0.0\n",
            "Action                     0            0.0\n",
            "IMAX                       0            0.0\n",
            "Musical                    0            0.0\n",
            "Crime                      0            0.0\n",
            "Thriller                   0            0.0\n",
            "Documentary                0            0.0\n",
            "Adventure                  0            0.0\n",
            "Comedy                     0            0.0\n",
            "Romance                    0            0.0\n",
            "Children                   0            0.0\n",
            "Drama                      0            0.0\n",
            "Western                    0            0.0\n",
            "\n",
            "The following is a printout of the first 5 rows in tmic_df_encoded:\n",
            "\n",
            "     userId  movieId  rating  production_year  runtime       budget  War  \\\n",
            "0    9041.0    366.0     3.0             1994    112.0    8000000.0    0   \n",
            "1  104941.0   1909.0     5.0             1998    121.0   66000000.0    0   \n",
            "2   56877.0    783.0     4.0             1996     91.0  100000000.0    0   \n",
            "3  126364.0    520.0     2.0             1993    104.0   20000000.0    0   \n",
            "4   66541.0    733.0     3.0             1996    136.0   75000000.0    0   \n",
            "\n",
            "   Animation  Sci-Fi  Mystery  ...  Musical  Crime  Thriller  Documentary  \\\n",
            "0          0       0        1  ...        0      0         1            0   \n",
            "1          0       1        1  ...        0      1         1            0   \n",
            "2          1       0        0  ...        1      0         0            0   \n",
            "3          0       0        0  ...        0      0         0            0   \n",
            "4          0       0        0  ...        0      0         1            0   \n",
            "\n",
            "   Adventure  Comedy  Romance  Children  Drama  Western  \n",
            "0          0       0        0         0      1        0  \n",
            "1          0       0        0         0      0        0  \n",
            "2          0       0        1         1      1        0  \n",
            "3          0       1        0         0      0        0  \n",
            "4          1       0        0         0      0        0  \n",
            "\n",
            "[5 rows x 25 columns]\n"
          ]
        }
      ],
      "source": [
        "# get more information\n",
        "get_info(tmic_df_encoded)"
      ]
    },
    {
      "cell_type": "markdown",
      "metadata": {
        "id": "dC8q6T_bOrrU"
      },
      "source": [
        "Next we will drop, `vote_year`, `vote_month` and `vote_dow` as these are not present in the test data."
      ]
    },
    {
      "cell_type": "code",
      "execution_count": 72,
      "metadata": {
        "id": "DT5vweA1Oqu1"
      },
      "outputs": [],
      "source": [
        "# drop redundant features\n",
        "tmic_df_encoded.drop(['vote_year','vote_month','vote_dow'], axis=1, inplace=True)"
      ]
    },
    {
      "cell_type": "markdown",
      "metadata": {
        "id": "o1mF9M7WNWkt"
      },
      "source": [
        "Next we will deleted the rows of data where the values are null as these only represent 0.05% of the data."
      ]
    },
    {
      "cell_type": "markdown",
      "metadata": {
        "id": "F_YvDVJQfW9s"
      },
      "source": [
        "### Implementing PCA"
      ]
    },
    {
      "cell_type": "markdown",
      "metadata": {
        "id": "4XN_u8Ftfdv1"
      },
      "source": [
        "Observing the first few rows of the data and then seeing the shape, above, we note that there are 16 columns. Not all of these columns are numeric and some of them, like `userId`, `movieId` and `rating`, could be considered labels. Labels are not used in an unsupervised learning environment. We will remove them from the features but retain them for later use. "
      ]
    },
    {
      "cell_type": "code",
      "source": [
        "# get more information on the dataframe\n",
        "get_info(tmic_df_encoded)"
      ],
      "metadata": {
        "colab": {
          "base_uri": "https://localhost:8080/"
        },
        "id": "RqIX0DFNVMvn",
        "outputId": "5e055d99-991b-4b11-c74f-f2c05c869b3f"
      },
      "execution_count": 71,
      "outputs": [
        {
          "output_type": "stream",
          "name": "stdout",
          "text": [
            "tmic_df_encoded has 556416 rows and 28 columns, namely:\n",
            " ['userId', 'movieId', 'rating', 'production_year', 'runtime', 'budget', 'Western', 'Sci-Fi', 'Horror', 'Animation', 'Documentary', 'Drama', 'Romance', 'Fantasy', 'Comedy', 'War', 'IMAX', 'Musical', 'Thriller', 'Children', 'Film-Noir', 'Mystery', 'Crime', 'Adventure', 'Action', 'vote_year', 'vote_month', 'vote_dow']\n",
            "\n",
            "The following table represents the column data types in tmic_df_encoded:\n",
            "\n",
            "<class 'pandas.core.frame.DataFrame'>\n",
            "Int64Index: 556416 entries, 14 to 5356727\n",
            "Data columns (total 28 columns):\n",
            " #   Column           Non-Null Count   Dtype  \n",
            "---  ------           --------------   -----  \n",
            " 0   userId           556416 non-null  object \n",
            " 1   movieId          556416 non-null  object \n",
            " 2   rating           556416 non-null  float64\n",
            " 3   production_year  556416 non-null  int64  \n",
            " 4   runtime          514265 non-null  float64\n",
            " 5   budget           495855 non-null  float64\n",
            " 6   Western          556416 non-null  int64  \n",
            " 7   Sci-Fi           556416 non-null  int64  \n",
            " 8   Horror           556416 non-null  int64  \n",
            " 9   Animation        556416 non-null  int64  \n",
            " 10  Documentary      556416 non-null  int64  \n",
            " 11  Drama            556416 non-null  int64  \n",
            " 12  Romance          556416 non-null  int64  \n",
            " 13  Fantasy          556416 non-null  int64  \n",
            " 14  Comedy           556416 non-null  int64  \n",
            " 15  War              556416 non-null  int64  \n",
            " 16  IMAX             556416 non-null  int64  \n",
            " 17  Musical          556416 non-null  int64  \n",
            " 18  Thriller         556416 non-null  int64  \n",
            " 19  Children         556416 non-null  int64  \n",
            " 20  Film-Noir        556416 non-null  int64  \n",
            " 21  Mystery          556416 non-null  int64  \n",
            " 22  Crime            556416 non-null  int64  \n",
            " 23  Adventure        556416 non-null  int64  \n",
            " 24  Action           556416 non-null  int64  \n",
            " 25  vote_year        556416 non-null  int64  \n",
            " 26  vote_month       556416 non-null  int64  \n",
            " 27  vote_dow         556416 non-null  int64  \n",
            "dtypes: float64(3), int64(23), object(2)\n",
            "memory usage: 123.1+ MB\n",
            "None\n",
            "\n",
            "The following table represents the missing values and the corresponding % in tmic_df_encoded:\n",
            "\n",
            "                 null_values  null_values_%\n",
            "userId                     0            0.0\n",
            "movieId                    0            0.0\n",
            "rating                     0            0.0\n",
            "production_year            0            0.0\n",
            "runtime                42151            8.0\n",
            "budget                 60561           11.0\n",
            "Western                    0            0.0\n",
            "Sci-Fi                     0            0.0\n",
            "Horror                     0            0.0\n",
            "Animation                  0            0.0\n",
            "Documentary                0            0.0\n",
            "Drama                      0            0.0\n",
            "Romance                    0            0.0\n",
            "Fantasy                    0            0.0\n",
            "Comedy                     0            0.0\n",
            "War                        0            0.0\n",
            "IMAX                       0            0.0\n",
            "Musical                    0            0.0\n",
            "Thriller                   0            0.0\n",
            "Children                   0            0.0\n",
            "Film-Noir                  0            0.0\n",
            "Mystery                    0            0.0\n",
            "Crime                      0            0.0\n",
            "Adventure                  0            0.0\n",
            "Action                     0            0.0\n",
            "vote_year                  0            0.0\n",
            "vote_month                 0            0.0\n",
            "vote_dow                   0            0.0\n",
            "\n",
            "The following is a printout of the first 5 rows in tmic_df_encoded:\n",
            "\n",
            "      userId movieId  rating  production_year  runtime       budget  Western  \\\n",
            "14  104941.0  1909.0     5.0             1998    121.0   66000000.0        0   \n",
            "22   56877.0   783.0     4.0             1996     91.0  100000000.0        0   \n",
            "25  126364.0   520.0     2.0             1993    104.0   20000000.0        0   \n",
            "27   66541.0   733.0     3.0             1996    136.0   75000000.0        0   \n",
            "28   22508.0   208.0     1.0             1995    135.0  175000000.0        0   \n",
            "\n",
            "    Sci-Fi  Horror  Animation  ...  Thriller  Children  Film-Noir  Mystery  \\\n",
            "14       1       0          0  ...         1         0          0        1   \n",
            "22       0       0          1  ...         0         1          0        0   \n",
            "25       0       0          0  ...         0         0          0        0   \n",
            "27       0       0          0  ...         1         0          0        0   \n",
            "28       1       0          0  ...         0         0          0        0   \n",
            "\n",
            "    Crime  Adventure  Action  vote_year  vote_month  vote_dow  \n",
            "14      1          0       1       2000          11         4  \n",
            "22      0          0       0       2000           5         5  \n",
            "25      0          0       0       1996           9         4  \n",
            "27      0          1       1       2000           2         4  \n",
            "28      0          1       1       2000          11         2  \n",
            "\n",
            "[5 rows x 28 columns]\n"
          ]
        }
      ]
    },
    {
      "cell_type": "markdown",
      "source": [
        "There are 42151 runtime elements and 60561 budget elements with null values. These respectively account for 8% and 11% of the data. We will remove them from the dataset."
      ],
      "metadata": {
        "id": "o3qFuHgPVewO"
      }
    },
    {
      "cell_type": "code",
      "source": [
        "# remove rows with null values\n",
        "tmic_df_encoded = tmic_df_encoded.dropna()"
      ],
      "metadata": {
        "id": "gg4GB0znV87Q"
      },
      "execution_count": 73,
      "outputs": []
    },
    {
      "cell_type": "code",
      "execution_count": 74,
      "metadata": {
        "id": "jHEuyQDffaod"
      },
      "outputs": [],
      "source": [
        "# create a short list of unwanted columns\n",
        "labels = ['rating','userId','movieId']\n",
        "\n",
        "# retain the wanted columns as features\n",
        "features = [col for col in tmic_df_encoded.columns if col not in labels]"
      ]
    },
    {
      "cell_type": "markdown",
      "metadata": {
        "id": "uAutaG8naSkY"
      },
      "source": [
        "Next we will perform scaling. Scaling data is vitally important because not all variables are measured on the same scales and/or using the same units."
      ]
    },
    {
      "cell_type": "code",
      "execution_count": 75,
      "metadata": {
        "id": "AAH1ybIveHeW"
      },
      "outputs": [],
      "source": [
        "# create a scaler object\n",
        "scaler = StandardScaler()\n",
        "\n",
        "# create deep copy of the tmic_df which will be scaled\n",
        "tmic_df_scaled = pd.DataFrame(columns = tmic_df_encoded.columns, data = copy.deepcopy(tmic_df_encoded.values))\n",
        "\n",
        "# apply the scaling object\n",
        "tmic_df_scaled[features] = preprocessing.scale(tmic_df_scaled[features])"
      ]
    },
    {
      "cell_type": "markdown",
      "metadata": {
        "id": "xzExvx2VfJ9t"
      },
      "source": [
        "We'll generate a PCA object and fit the features in the scaled data frame to it. We'll then plot a line graph showing the cumulative variance explained versus increasing number of components. "
      ]
    },
    {
      "cell_type": "code",
      "execution_count": 76,
      "metadata": {
        "id": "6aqdMJ84QbEb"
      },
      "outputs": [],
      "source": [
        "# define PCA object\n",
        "pca = PCA()\n",
        "\n",
        "# fit pca to the data\n",
        "princ_comp = pca.fit_transform(tmic_df_scaled[features])\n",
        "\n",
        "# create a dataframe containing the principal components\n",
        "pca_df = pd.DataFrame(data = princ_comp)\n",
        "pca_df['movieId'] = tmic_df_encoded['movieId']"
      ]
    },
    {
      "cell_type": "code",
      "execution_count": null,
      "metadata": {
        "colab": {
          "base_uri": "https://localhost:8080/",
          "height": 302
        },
        "id": "5YM7P8KWiS2U",
        "outputId": "7c7acebf-991e-4899-9dfc-13bf1aa977ce"
      },
      "outputs": [
        {
          "output_type": "execute_result",
          "data": {
            "text/plain": [
              "Text(0, 0.5, 'Cumulative explained variance')"
            ]
          },
          "metadata": {},
          "execution_count": 139
        },
        {
          "output_type": "display_data",
          "data": {
            "text/plain": [
              "<Figure size 432x288 with 1 Axes>"
            ],
            "image/png": "[encoded data removed]"
          },
          "metadata": {
            "needs_background": "light"
          }
        }
      ],
      "source": [
        "# plot line graph of cumulative variance explained\n",
        "plt.plot(np.cumsum(pca.explained_variance_ratio_))\n",
        "plt.xlabel('Number of components')\n",
        "plt.ylabel('Cumulative explained variance')"
      ]
    },
    {
      "cell_type": "code",
      "execution_count": 77,
      "metadata": {
        "colab": {
          "base_uri": "https://localhost:8080/"
        },
        "id": "6ztYeDYGktaD",
        "outputId": "d2ec3d19-8443-49e3-f800-532580545069"
      },
      "outputs": [
        {
          "output_type": "stream",
          "name": "stdout",
          "text": [
            "92.3 % of variance explained by 16 components.\n"
          ]
        }
      ],
      "source": [
        "# confirm how many components explain roughly 90% of the variance\n",
        "pca_90 = PCA(.90)\n",
        "pca_90.fit_transform(tmic_df_scaled[features])\n",
        "print(round(pca_90.explained_variance_ratio_.sum()*100, 1),\n",
        "      \"% of variance explained by\",\n",
        "      pca_90.n_components_,\n",
        "      \"components.\")"
      ]
    },
    {
      "cell_type": "markdown",
      "metadata": {
        "id": "M6ouGRJ7mv8F"
      },
      "source": [
        "### Model construction\n",
        "Using (PCA) we will construct a number of models.\n",
        "\n",
        "As seen above, 16 components of an original 23 can be used to explain about 92.3% of the variance in the dataset. \n",
        "\n",
        "Next we will use the reduced dataset, consisting of just 16 components, by using it to build a predictive regressor model.\n",
        "\n",
        "We will use the feature named `rating` as the response variable."
      ]
    },
    {
      "cell_type": "code",
      "execution_count": 78,
      "metadata": {
        "id": "iBF7chvaktdD"
      },
      "outputs": [],
      "source": [
        "# exclude non-features from the data\n",
        "reg_data = tmic_df_scaled[features]\n",
        "\n",
        "# set aside response variable (Unscaled!)\n",
        "reg_response = tmic_df_encoded['rating']\n"
      ]
    },
    {
      "cell_type": "code",
      "execution_count": 79,
      "metadata": {
        "id": "TTypAn9Gt_Hz"
      },
      "outputs": [],
      "source": [
        "# split the dataset up into train and test using a ratio of 80/20 (train/test, respectively)\n",
        "X_train, X_test, y_train, y_test = train_test_split(reg_data, reg_response, test_size=0.2)"
      ]
    },
    {
      "cell_type": "code",
      "execution_count": 80,
      "metadata": {
        "colab": {
          "base_uri": "https://localhost:8080/"
        },
        "id": "VYvP2WUAW4Iz",
        "outputId": "91e37ef1-c0c2-4514-afb1-9c8ec2f9c2bb"
      },
      "outputs": [
        {
          "output_type": "execute_result",
          "data": {
            "text/plain": [
              "((396645, 22), (99162, 22))"
            ]
          },
          "metadata": {},
          "execution_count": 80
        }
      ],
      "source": [
        "# print the shape of the dataframe\n",
        "X_train.shape, X_test.shape"
      ]
    },
    {
      "cell_type": "code",
      "execution_count": 81,
      "metadata": {
        "colab": {
          "base_uri": "https://localhost:8080/"
        },
        "id": "uOeWjF2EuKMD",
        "outputId": "fcd6d7d5-f5db-4e78-ba97-7274680cad6a"
      },
      "outputs": [
        {
          "output_type": "execute_result",
          "data": {
            "text/plain": [
              "17"
            ]
          },
          "metadata": {},
          "execution_count": 81
        }
      ],
      "source": [
        "# create PCA object with n_components set to 17\n",
        "pca_reg = PCA(n_components=17)\n",
        "\n",
        "# fit the PCA model to our data and apply the dimensionality reduction \n",
        "X_train = pca_reg.fit_transform(X_train)\n",
        "\n",
        "# confirm the number of components\n",
        "pca_reg.n_components_"
      ]
    },
    {
      "cell_type": "code",
      "execution_count": 82,
      "metadata": {
        "colab": {
          "base_uri": "https://localhost:8080/"
        },
        "id": "N6NkYYH7uKal",
        "outputId": "f9b4edf6-f3ca-4221-81c7-9bd4ce76c208"
      },
      "outputs": [
        {
          "output_type": "execute_result",
          "data": {
            "text/plain": [
              "0.9413742824039685"
            ]
          },
          "metadata": {},
          "execution_count": 82
        }
      ],
      "source": [
        "pca_reg.explained_variance_ratio_.sum()"
      ]
    },
    {
      "cell_type": "markdown",
      "source": [
        "From the above, we note that the selected component range of 17 provides a explained data variance of 94%"
      ],
      "metadata": {
        "id": "uthPQlRIlcS_"
      }
    },
    {
      "cell_type": "markdown",
      "metadata": {
        "id": "AWcPW45Ts4MP"
      },
      "source": [
        "#### Helper function\n",
        "The following helper function logs the Comet-ml experiments extracts the Root Mean Square Error (RMSE) and Mean Absolute Error (MAE) scores.  The RMSE is a frequently used measure of the differences between values predicted by a model or an estimator and the values observed. The MAE measures the average magnitude of the errors in a set of forecasts, without considering their direction."
      ]
    },
    {
      "cell_type": "code",
      "execution_count": 86,
      "metadata": {
        "id": "bSIiFmwatA6i"
      },
      "outputs": [],
      "source": [
        "# dictionary to log model performance\n",
        "performance_dict = {}\n",
        "\n",
        "def show_performance_data(y_test, X_train, predictions, model_name):\n",
        "  \"\"\"This function evaluates each model performance and sends the \n",
        "  experiment to Comet while also saving the metric to a \n",
        "  dictionary for later use.\"\"\"\n",
        "\n",
        "  # Comet ML api key for experiment logging\n",
        "  experiment = Experiment(api_key = \"uSjPrOwXQdE1GLSEQuhuEJ1QQ\",\n",
        "                          project_name=\"unsupervised-recommender-system\",\n",
        "                          workspace=\"stanfordgibson\"\n",
        "  )\n",
        "\n",
        "  rmse = np.sqrt(mean_squared_error(predictions, y_test))\n",
        "  mae = mean_absolute_error(predictions, y_test)\n",
        "\n",
        "  print('RMSE:', rmse)\n",
        "  print('MAE:', mae)\n",
        "\n",
        "  print(model_name, \"predicts rating to within\", \n",
        "    round((round(np.mean(errors_reg), 2)/reg_response.agg(\"median\"))*100, 1), \n",
        "    \"% of its value.\")\n",
        "\n",
        "  # Comet metrics\n",
        "  metrics = {\"RMSE\": rmse, \"MAE\": mae}\n",
        "\n",
        "  # Populate the Performance dictionary\n",
        "  performance_dict[model_name] = {\"RMSE\": rmse, \"MAE\": mae}\n",
        "\n",
        "  experiment.log_dataset_hash(X_train)\n",
        "  experiment.log_parameters(params)\n",
        "  experiment.log_metrics(metrics)\n",
        "  experiment.end()"
      ]
    },
    {
      "cell_type": "markdown",
      "metadata": {
        "id": "QXjzZnvYGe8w"
      },
      "source": [
        "Next we will use the trained model to make predictions from the test set."
      ]
    },
    {
      "cell_type": "code",
      "execution_count": 84,
      "metadata": {
        "colab": {
          "base_uri": "https://localhost:8080/"
        },
        "id": "CbzyqsDxgUET",
        "outputId": "d6a54614-7c5f-4aac-b0bb-67eb1423ec0f"
      },
      "outputs": [
        {
          "output_type": "stream",
          "name": "stdout",
          "text": [
            "Fitting 10 folds for each of 1 candidates, totalling 10 fits\n",
            "The best parameters for the Random Forest Regressor are:\n",
            "\n",
            "{'max_depth': None, 'max_features': 'auto', 'min_samples_leaf': 1, 'min_samples_split': 2, 'n_estimators': 100}\n"
          ]
        }
      ],
      "source": [
        "# apply the PCA reduction to X_test\n",
        "X_test = pca_reg.transform(X_test)\n",
        "\n",
        "# instantiate model object\n",
        "rf = RandomForestRegressor(random_state=1)\n",
        "\n",
        "# define parameters for GridSearch\n",
        "parameters = {\n",
        "    'max_depth': [None],\n",
        "    'max_features': ['auto'],\n",
        "    'min_samples_leaf': [1],\n",
        "    'min_samples_split': [2],\n",
        "    'n_estimators': [100]\n",
        "}\n",
        "\n",
        "# cross validation parameters\n",
        "cv = RepeatedStratifiedKFold(n_splits=10, n_repeats=1, random_state=1)\n",
        "\n",
        "# gridsearch to find the best parameters\n",
        "rf_reg = GridSearchCV(rf, param_grid=parameters, \n",
        "                     cv = cv, n_jobs=-1, verbose=1)\n",
        "\n",
        "# fit the rf object\n",
        "rf_reg.fit(X_train, y_train)\n",
        "\n",
        "# make the prediction\n",
        "y_pred = rf_reg.predict(X_test)\n",
        "\n",
        "print('The best parameters for the Random Forest Regressor are:', end='\\n\\n')\n",
        "print(rf_reg.best_params_)\n",
        "\n",
        "# logging for the project on Comet.ml\n",
        "params = rf_reg.best_params_\n"
      ]
    },
    {
      "cell_type": "code",
      "execution_count": 87,
      "metadata": {
        "id": "1wyHTHRlotu6",
        "colab": {
          "base_uri": "https://localhost:8080/"
        },
        "outputId": "fe98efdb-fbcc-4642-aec9-d941b1ec04f6"
      },
      "outputs": [
        {
          "output_type": "stream",
          "name": "stdout",
          "text": [
            "Mean Absolute Error: 0.75\n"
          ]
        },
        {
          "output_type": "stream",
          "name": "stderr",
          "text": [
            "COMET INFO: ---------------------------\n",
            "COMET INFO: Comet.ml Experiment Summary\n",
            "COMET INFO: ---------------------------\n",
            "COMET INFO:   Data:\n",
            "COMET INFO:     display_summary_level : 1\n",
            "COMET INFO:     url                   : https://www.comet.ml/stanfordgibson/unsupervised-recommender-system/e62556744c0546eda9c0a7fffc6ac81d\n",
            "COMET INFO:   Others:\n",
            "COMET INFO:     notebook_url : https://colab.research.google.com/notebook#fileId=1AVBrQMx9uxwCgCl94nLnbUWjUnCCAOlK\n",
            "COMET INFO:   Uploads:\n",
            "COMET INFO:     environment details : 1\n",
            "COMET INFO:     filename            : 1\n",
            "COMET INFO:     installed packages  : 1\n",
            "COMET INFO:     notebook            : 2\n",
            "COMET INFO:     os packages         : 1\n",
            "COMET INFO:     source_code         : 1\n",
            "COMET INFO: ---------------------------\n",
            "COMET WARNING: As you are running in a Jupyter environment, you will need to call `experiment.end()` when finished to ensure all metrics and code are logged before exiting.\n",
            "COMET ERROR: Failed to calculate active processors count. Fall back to default CPU count 1\n",
            "COMET INFO: Couldn't find a Git repository in '/content' nor in any parent directory. You can override where Comet is looking for a Git Patch by setting the configuration `COMET_GIT_DIRECTORY`\n",
            "COMET INFO: Experiment is live on comet.ml https://www.comet.ml/stanfordgibson/unsupervised-recommender-system/92b2fd2d1cc147f188ef1f1e468984df\n",
            "\n"
          ]
        },
        {
          "output_type": "stream",
          "name": "stdout",
          "text": [
            "RMSE: 0.9417087987080609\n",
            "MAE: 0.7505618370683041\n",
            "Random Forest predicts rating to within 18.8 % of its value.\n"
          ]
        },
        {
          "output_type": "stream",
          "name": "stderr",
          "text": [
            "COMET INFO: ---------------------------\n",
            "COMET INFO: Comet.ml Experiment Summary\n",
            "COMET INFO: ---------------------------\n",
            "COMET INFO:   Data:\n",
            "COMET INFO:     display_summary_level : 1\n",
            "COMET INFO:     url                   : https://www.comet.ml/stanfordgibson/unsupervised-recommender-system/92b2fd2d1cc147f188ef1f1e468984df\n",
            "COMET INFO:   Metrics:\n",
            "COMET INFO:     MAE  : 0.7505618370683041\n",
            "COMET INFO:     RMSE : 0.9417087987080609\n",
            "COMET INFO:   Others:\n",
            "COMET INFO:     notebook_url : https://colab.research.google.com/notebook#fileId=1AVBrQMx9uxwCgCl94nLnbUWjUnCCAOlK\n",
            "COMET INFO:   Parameters:\n",
            "COMET INFO:     max_depth         : 1\n",
            "COMET INFO:     max_features      : auto\n",
            "COMET INFO:     min_samples_leaf  : 1\n",
            "COMET INFO:     min_samples_split : 2\n",
            "COMET INFO:     n_estimators      : 100\n",
            "COMET INFO:   Uploads:\n",
            "COMET INFO:     environment details : 1\n",
            "COMET INFO:     filename            : 1\n",
            "COMET INFO:     installed packages  : 1\n",
            "COMET INFO:     notebook            : 2\n",
            "COMET INFO:     os packages         : 1\n",
            "COMET INFO:     source_code         : 1\n",
            "COMET INFO: ---------------------------\n",
            "COMET INFO: Uploading metrics, params, and assets to Comet before program termination (may take several seconds)\n",
            "COMET INFO: The Python SDK has 3600 seconds to finish before aborting...\n"
          ]
        }
      ],
      "source": [
        "# use the forest's predict method on the test data\n",
        "predictions = rf_reg.predict(X_test)\n",
        "\n",
        "# calculate the absolute errors\n",
        "errors_reg = abs(predictions - y_test)\n",
        "\n",
        "# print out the mean absolute error (mae)\n",
        "print('Mean Absolute Error:', round(np.mean(errors_reg), 2))\n",
        "\n",
        "show_performance_data(y_test, X_train, predictions, 'Random Forest')"
      ]
    },
    {
      "cell_type": "markdown",
      "source": [
        "Next we will construct a dataframe of the PCA components and their rank. First we will obtain the PCA components selected and compare those to the initial list of components."
      ],
      "metadata": {
        "id": "qpDte3simttI"
      }
    },
    {
      "cell_type": "code",
      "execution_count": 88,
      "metadata": {
        "colab": {
          "base_uri": "https://localhost:8080/"
        },
        "id": "0f-xEqlpmPyS",
        "outputId": "87166a85-0ee4-4218-dac5-c1c29f7f3d23"
      },
      "outputs": [
        {
          "output_type": "stream",
          "name": "stdout",
          "text": [
            "[6, 20, 8, 18, 5, 10, 7, 17, 3, 3, 3, 17, 4, 12, 12, 19, 15]\n"
          ]
        }
      ],
      "source": [
        "# number of components\n",
        "n_pcs = pca_reg.components_.shape[0]\n",
        "\n",
        "# get the index of the most important feature on each component i.e. largest absolute value\n",
        "most_important = [np.abs(pca_reg.components_[i]).argmax() for i in range(n_pcs)]\n",
        "print(most_important)"
      ]
    },
    {
      "cell_type": "code",
      "execution_count": 89,
      "metadata": {
        "colab": {
          "base_uri": "https://localhost:8080/"
        },
        "id": "nfxFc0TxnIuZ",
        "outputId": "366f8343-5c59-4b3e-ae8d-66527adeb6e1"
      },
      "outputs": [
        {
          "output_type": "stream",
          "name": "stdout",
          "text": [
            "The number of features: 24\n",
            "['userId', 'movieId', 'production_year', 'runtime', 'budget', 'Western', 'Sci-Fi', 'Horror', 'Animation', 'Documentary', 'Drama', 'Romance', 'Fantasy', 'Comedy', 'War', 'IMAX', 'Musical', 'Thriller', 'Children', 'Film-Noir', 'Mystery', 'Crime', 'Adventure', 'Action']\n"
          ]
        }
      ],
      "source": [
        "# retrieve the intial features\n",
        "initial_feature_names = list(tmic_df_encoded.columns)\n",
        "remove = [ 'rating'] #, 'production_year'\n",
        "for r in remove:\n",
        "  initial_feature_names.remove(r)\n",
        "\n",
        "# print the features\n",
        "print('The number of features:',len(initial_feature_names))\n",
        "print(initial_feature_names)"
      ]
    },
    {
      "cell_type": "code",
      "execution_count": 90,
      "metadata": {
        "colab": {
          "base_uri": "https://localhost:8080/"
        },
        "id": "rQX0XplCnI6S",
        "outputId": "e1196954-d80d-49b1-e941-f39746eb4120"
      },
      "outputs": [
        {
          "output_type": "stream",
          "name": "stdout",
          "text": [
            "['Sci-Fi', 'Mystery', 'Animation', 'Children', 'Western', 'Drama', 'Horror', 'Thriller', 'runtime', 'runtime', 'runtime', 'Thriller', 'budget', 'Fantasy', 'Fantasy', 'Film-Noir', 'IMAX']\n",
            "17\n"
          ]
        }
      ],
      "source": [
        "# get the names of the most important features\n",
        "most_important_names = [initial_feature_names[most_important[i]] for i in range(n_pcs)]\n",
        "print(most_important_names)\n",
        "print(len(most_important_names))"
      ]
    },
    {
      "cell_type": "code",
      "execution_count": 91,
      "metadata": {
        "colab": {
          "base_uri": "https://localhost:8080/"
        },
        "id": "dKkse9bnrXLj",
        "outputId": "3025990b-4939-4cac-de59-b87b3ba39365"
      },
      "outputs": [
        {
          "output_type": "stream",
          "name": "stdout",
          "text": [
            "       0          1\n",
            "0    PC1     Sci-Fi\n",
            "1   PC10    runtime\n",
            "2   PC11    runtime\n",
            "3   PC12   Thriller\n",
            "4   PC13     budget\n",
            "5   PC14    Fantasy\n",
            "6   PC15    Fantasy\n",
            "7   PC16  Film-Noir\n",
            "8   PC17       IMAX\n",
            "9    PC2    Mystery\n",
            "10   PC3  Animation\n",
            "11   PC4   Children\n",
            "12   PC5    Western\n",
            "13   PC6      Drama\n",
            "14   PC7     Horror\n",
            "15   PC8   Thriller\n",
            "16   PC9    runtime\n"
          ]
        }
      ],
      "source": [
        "# construct a dictionary of features and their importance\n",
        "pca_feature_dict = {'PC{}'.format(i+1): most_important_names[i] for i in range(n_pcs)}\n",
        "\n",
        "# build the dataframe\n",
        "pca_features_df = pd.DataFrame(sorted(pca_feature_dict.items()))\n",
        "print(pca_features_df)"
      ]
    },
    {
      "cell_type": "markdown",
      "metadata": {
        "id": "8D71UMGrUbvi"
      },
      "source": [
        "### Making predictions"
      ]
    },
    {
      "cell_type": "markdown",
      "metadata": {
        "id": "edqIWrJxykdB"
      },
      "source": [
        "#### Engineering the test dataset\n",
        "Now we will make predictions on the test dataset using the model constructed."
      ]
    },
    {
      "cell_type": "markdown",
      "metadata": {
        "id": "jtvezGz2yYog"
      },
      "source": [
        "Adding features to the test dataset, required to use the model. First we will merge the test and train dataset to retrieve movie metadata."
      ]
    },
    {
      "cell_type": "code",
      "execution_count": 95,
      "metadata": {
        "colab": {
          "base_uri": "https://localhost:8080/",
          "height": 112
        },
        "id": "t7bxh6XXznr3",
        "outputId": "645438f2-7b31-43a4-c09a-131b749a2b43"
      },
      "outputs": [
        {
          "output_type": "execute_result",
          "data": {
            "text/plain": [
              "   userId  movieId\n",
              "0       1     2011\n",
              "1       1     4144"
            ],
            "text/html": [
              "\n",
              "  <div id=\"df-481fb312-4767-48f2-8c6e-3d68cf3d7108\">\n",
              "    <div class=\"colab-df-container\">\n",
              "      <div>\n",
              "<style scoped>\n",
              "    .dataframe tbody tr th:only-of-type {\n",
              "        vertical-align: middle;\n",
              "    }\n",
              "\n",
              "    .dataframe tbody tr th {\n",
              "        vertical-align: top;\n",
              "    }\n",
              "\n",
              "    .dataframe thead th {\n",
              "        text-align: right;\n",
              "    }\n",
              "</style>\n",
              "<table border=\"1\" class=\"dataframe\">\n",
              "  <thead>\n",
              "    <tr style=\"text-align: right;\">\n",
              "      <th></th>\n",
              "      <th>userId</th>\n",
              "      <th>movieId</th>\n",
              "    </tr>\n",
              "  </thead>\n",
              "  <tbody>\n",
              "    <tr>\n",
              "      <th>0</th>\n",
              "      <td>1</td>\n",
              "      <td>2011</td>\n",
              "    </tr>\n",
              "    <tr>\n",
              "      <th>1</th>\n",
              "      <td>1</td>\n",
              "      <td>4144</td>\n",
              "    </tr>\n",
              "  </tbody>\n",
              "</table>\n",
              "</div>\n",
              "      <button class=\"colab-df-convert\" onclick=\"convertToInteractive('df-481fb312-4767-48f2-8c6e-3d68cf3d7108')\"\n",
              "              title=\"Convert this dataframe to an interactive table.\"\n",
              "              style=\"display:none;\">\n",
              "        \n",
              "  <svg xmlns=\"http://www.w3.org/2000/svg\" height=\"24px\"viewBox=\"0 0 24 24\"\n",
              "       width=\"24px\">\n",
              "    <path d=\"M0 0h24v24H0V0z\" fill=\"none\"/>\n",
              "    <path d=\"M18.56 5.44l.94 2.06.94-2.06 2.06-.94-2.06-.94-.94-2.06-.94 2.06-2.06.94zm-11 1L8.5 8.5l.94-2.06 2.06-.94-2.06-.94L8.5 2.5l-.94 2.06-2.06.94zm10 10l.94 2.06.94-2.06 2.06-.94-2.06-.94-.94-2.06-.94 2.06-2.06.94z\"/><path d=\"M17.41 7.96l-1.37-1.37c-.4-.4-.92-.59-1.43-.59-.52 0-1.04.2-1.43.59L10.3 9.45l-7.72 7.72c-.78.78-.78 2.05 0 2.83L4 21.41c.39.39.9.59 1.41.59.51 0 1.02-.2 1.41-.59l7.78-7.78 2.81-2.81c.8-.78.8-2.07 0-2.86zM5.41 20L4 18.59l7.72-7.72 1.47 1.35L5.41 20z\"/>\n",
              "  </svg>\n",
              "      </button>\n",
              "      \n",
              "  <style>\n",
              "    .colab-df-container {\n",
              "      display:flex;\n",
              "      flex-wrap:wrap;\n",
              "      gap: 12px;\n",
              "    }\n",
              "\n",
              "    .colab-df-convert {\n",
              "      background-color: #E8F0FE;\n",
              "      border: none;\n",
              "      border-radius: 50%;\n",
              "      cursor: pointer;\n",
              "      display: none;\n",
              "      fill: #1967D2;\n",
              "      height: 32px;\n",
              "      padding: 0 0 0 0;\n",
              "      width: 32px;\n",
              "    }\n",
              "\n",
              "    .colab-df-convert:hover {\n",
              "      background-color: #E2EBFA;\n",
              "      box-shadow: 0px 1px 2px rgba(60, 64, 67, 0.3), 0px 1px 3px 1px rgba(60, 64, 67, 0.15);\n",
              "      fill: #174EA6;\n",
              "    }\n",
              "\n",
              "    [theme=dark] .colab-df-convert {\n",
              "      background-color: #3B4455;\n",
              "      fill: #D2E3FC;\n",
              "    }\n",
              "\n",
              "    [theme=dark] .colab-df-convert:hover {\n",
              "      background-color: #434B5C;\n",
              "      box-shadow: 0px 1px 3px 1px rgba(0, 0, 0, 0.15);\n",
              "      filter: drop-shadow(0px 1px 2px rgba(0, 0, 0, 0.3));\n",
              "      fill: #FFFFFF;\n",
              "    }\n",
              "  </style>\n",
              "\n",
              "      <script>\n",
              "        const buttonEl =\n",
              "          document.querySelector('#df-481fb312-4767-48f2-8c6e-3d68cf3d7108 button.colab-df-convert');\n",
              "        buttonEl.style.display =\n",
              "          google.colab.kernel.accessAllowed ? 'block' : 'none';\n",
              "\n",
              "        async function convertToInteractive(key) {\n",
              "          const element = document.querySelector('#df-481fb312-4767-48f2-8c6e-3d68cf3d7108');\n",
              "          const dataTable =\n",
              "            await google.colab.kernel.invokeFunction('convertToInteractive',\n",
              "                                                     [key], {});\n",
              "          if (!dataTable) return;\n",
              "\n",
              "          const docLinkHtml = 'Like what you see? Visit the ' +\n",
              "            '<a target=\"_blank\" href=https://colab.research.google.com/notebooks/data_table.ipynb>data table notebook</a>'\n",
              "            + ' to learn more about interactive tables.';\n",
              "          element.innerHTML = '';\n",
              "          dataTable['output_type'] = 'display_data';\n",
              "          await google.colab.output.renderOutput(dataTable, element);\n",
              "          const docLink = document.createElement('div');\n",
              "          docLink.innerHTML = docLinkHtml;\n",
              "          element.appendChild(docLink);\n",
              "        }\n",
              "      </script>\n",
              "    </div>\n",
              "  </div>\n",
              "  "
            ]
          },
          "metadata": {},
          "execution_count": 95
        }
      ],
      "source": [
        "test_dfC.head(2)"
      ]
    },
    {
      "cell_type": "code",
      "execution_count": 96,
      "metadata": {
        "colab": {
          "base_uri": "https://localhost:8080/",
          "height": 112
        },
        "id": "2jV9DC6aywYY",
        "outputId": "df2e2335-4096-4807-85b1-3c408e000717"
      },
      "outputs": [
        {
          "output_type": "execute_result",
          "data": {
            "text/plain": [
              "  movieId             title                                           genres  \\\n",
              "0       1  Toy Story (1995)  Adventure, Animation, Children, Comedy, Fantasy   \n",
              "1       2    Jumanji (1995)                     Adventure, Children, Fantasy   \n",
              "\n",
              "     year  \n",
              "0  1995.0  \n",
              "1  1995.0  "
            ],
            "text/html": [
              "\n",
              "  <div id=\"df-53fe93c6-7b24-485f-83a1-b04c23c0cbb7\">\n",
              "    <div class=\"colab-df-container\">\n",
              "      <div>\n",
              "<style scoped>\n",
              "    .dataframe tbody tr th:only-of-type {\n",
              "        vertical-align: middle;\n",
              "    }\n",
              "\n",
              "    .dataframe tbody tr th {\n",
              "        vertical-align: top;\n",
              "    }\n",
              "\n",
              "    .dataframe thead th {\n",
              "        text-align: right;\n",
              "    }\n",
              "</style>\n",
              "<table border=\"1\" class=\"dataframe\">\n",
              "  <thead>\n",
              "    <tr style=\"text-align: right;\">\n",
              "      <th></th>\n",
              "      <th>movieId</th>\n",
              "      <th>title</th>\n",
              "      <th>genres</th>\n",
              "      <th>year</th>\n",
              "    </tr>\n",
              "  </thead>\n",
              "  <tbody>\n",
              "    <tr>\n",
              "      <th>0</th>\n",
              "      <td>1</td>\n",
              "      <td>Toy Story (1995)</td>\n",
              "      <td>Adventure, Animation, Children, Comedy, Fantasy</td>\n",
              "      <td>1995.0</td>\n",
              "    </tr>\n",
              "    <tr>\n",
              "      <th>1</th>\n",
              "      <td>2</td>\n",
              "      <td>Jumanji (1995)</td>\n",
              "      <td>Adventure, Children, Fantasy</td>\n",
              "      <td>1995.0</td>\n",
              "    </tr>\n",
              "  </tbody>\n",
              "</table>\n",
              "</div>\n",
              "      <button class=\"colab-df-convert\" onclick=\"convertToInteractive('df-53fe93c6-7b24-485f-83a1-b04c23c0cbb7')\"\n",
              "              title=\"Convert this dataframe to an interactive table.\"\n",
              "              style=\"display:none;\">\n",
              "        \n",
              "  <svg xmlns=\"http://www.w3.org/2000/svg\" height=\"24px\"viewBox=\"0 0 24 24\"\n",
              "       width=\"24px\">\n",
              "    <path d=\"M0 0h24v24H0V0z\" fill=\"none\"/>\n",
              "    <path d=\"M18.56 5.44l.94 2.06.94-2.06 2.06-.94-2.06-.94-.94-2.06-.94 2.06-2.06.94zm-11 1L8.5 8.5l.94-2.06 2.06-.94-2.06-.94L8.5 2.5l-.94 2.06-2.06.94zm10 10l.94 2.06.94-2.06 2.06-.94-2.06-.94-.94-2.06-.94 2.06-2.06.94z\"/><path d=\"M17.41 7.96l-1.37-1.37c-.4-.4-.92-.59-1.43-.59-.52 0-1.04.2-1.43.59L10.3 9.45l-7.72 7.72c-.78.78-.78 2.05 0 2.83L4 21.41c.39.39.9.59 1.41.59.51 0 1.02-.2 1.41-.59l7.78-7.78 2.81-2.81c.8-.78.8-2.07 0-2.86zM5.41 20L4 18.59l7.72-7.72 1.47 1.35L5.41 20z\"/>\n",
              "  </svg>\n",
              "      </button>\n",
              "      \n",
              "  <style>\n",
              "    .colab-df-container {\n",
              "      display:flex;\n",
              "      flex-wrap:wrap;\n",
              "      gap: 12px;\n",
              "    }\n",
              "\n",
              "    .colab-df-convert {\n",
              "      background-color: #E8F0FE;\n",
              "      border: none;\n",
              "      border-radius: 50%;\n",
              "      cursor: pointer;\n",
              "      display: none;\n",
              "      fill: #1967D2;\n",
              "      height: 32px;\n",
              "      padding: 0 0 0 0;\n",
              "      width: 32px;\n",
              "    }\n",
              "\n",
              "    .colab-df-convert:hover {\n",
              "      background-color: #E2EBFA;\n",
              "      box-shadow: 0px 1px 2px rgba(60, 64, 67, 0.3), 0px 1px 3px 1px rgba(60, 64, 67, 0.15);\n",
              "      fill: #174EA6;\n",
              "    }\n",
              "\n",
              "    [theme=dark] .colab-df-convert {\n",
              "      background-color: #3B4455;\n",
              "      fill: #D2E3FC;\n",
              "    }\n",
              "\n",
              "    [theme=dark] .colab-df-convert:hover {\n",
              "      background-color: #434B5C;\n",
              "      box-shadow: 0px 1px 3px 1px rgba(0, 0, 0, 0.15);\n",
              "      filter: drop-shadow(0px 1px 2px rgba(0, 0, 0, 0.3));\n",
              "      fill: #FFFFFF;\n",
              "    }\n",
              "  </style>\n",
              "\n",
              "      <script>\n",
              "        const buttonEl =\n",
              "          document.querySelector('#df-53fe93c6-7b24-485f-83a1-b04c23c0cbb7 button.colab-df-convert');\n",
              "        buttonEl.style.display =\n",
              "          google.colab.kernel.accessAllowed ? 'block' : 'none';\n",
              "\n",
              "        async function convertToInteractive(key) {\n",
              "          const element = document.querySelector('#df-53fe93c6-7b24-485f-83a1-b04c23c0cbb7');\n",
              "          const dataTable =\n",
              "            await google.colab.kernel.invokeFunction('convertToInteractive',\n",
              "                                                     [key], {});\n",
              "          if (!dataTable) return;\n",
              "\n",
              "          const docLinkHtml = 'Like what you see? Visit the ' +\n",
              "            '<a target=\"_blank\" href=https://colab.research.google.com/notebooks/data_table.ipynb>data table notebook</a>'\n",
              "            + ' to learn more about interactive tables.';\n",
              "          element.innerHTML = '';\n",
              "          dataTable['output_type'] = 'display_data';\n",
              "          await google.colab.output.renderOutput(dataTable, element);\n",
              "          const docLink = document.createElement('div');\n",
              "          docLink.innerHTML = docLinkHtml;\n",
              "          element.appendChild(docLink);\n",
              "        }\n",
              "      </script>\n",
              "    </div>\n",
              "  </div>\n",
              "  "
            ]
          },
          "metadata": {},
          "execution_count": 96
        }
      ],
      "source": [
        "movies_dfC.head(2)"
      ]
    },
    {
      "cell_type": "code",
      "execution_count": 97,
      "metadata": {
        "id": "ogAKsOu7ydFe"
      },
      "outputs": [],
      "source": [
        "# combine train_df and movies_df\n",
        "test_movies_combined_df = pd.merge(left=test_dfC, right=movies_dfC, \n",
        "                                    how='left', on='movieId')"
      ]
    },
    {
      "cell_type": "code",
      "execution_count": 100,
      "metadata": {
        "id": "9t28sDyH2SUz"
      },
      "outputs": [],
      "source": [
        "# extract the different genres used\n",
        "genre_set = set()\n",
        "for i in list(test_movies_combined_df['genres'].unique()):\n",
        "  for j in i.split(','):\n",
        "    genre_set.add(j.strip())\n",
        "\n",
        "# create the genre encoding\n",
        "for i in genre_set:\n",
        "  test_movies_combined_df[i] = np.where(test_movies_combined_df[\"genres\"].str.contains(i), 1, 0)\n",
        "\n",
        "# drop the redundant features\n",
        "test_movies_combined_df.drop(['title','genres'], axis=1, inplace=True)\n"
      ]
    },
    {
      "cell_type": "markdown",
      "metadata": {
        "id": "aBDVEuM2_gY6"
      },
      "source": [
        "Next we will combine the train, movie and imdb datasets to get the movie metadata."
      ]
    },
    {
      "cell_type": "code",
      "execution_count": 102,
      "metadata": {
        "id": "Q2Upb8Wn_fm6"
      },
      "outputs": [],
      "source": [
        "# combine train_df and movies_df\n",
        "test_movies_imdb_combined_df = pd.merge(left=test_movies_combined_df, right=imdb_dfC, \n",
        "                                    how='left', on='movieId')"
      ]
    },
    {
      "cell_type": "code",
      "execution_count": null,
      "metadata": {
        "id": "_7urhx4TJlxq"
      },
      "outputs": [],
      "source": [
        "# get more information\n",
        "get_info(test_movies_imdb_combined_df)\n"
      ]
    },
    {
      "cell_type": "markdown",
      "source": [
        "Next we will perform feature engineering and remove redundant features as well as perform cell conversions."
      ],
      "metadata": {
        "id": "CxHE5i5-XV7c"
      }
    },
    {
      "cell_type": "code",
      "execution_count": null,
      "metadata": {
        "id": "whod52qeJvXJ"
      },
      "outputs": [],
      "source": [
        "# drop redundant features\n",
        "test_movies_imdb_combined_df.drop(['title_cast','director','plot_keywords'], axis=1, inplace=True)\n",
        "\n",
        "# convert nan to 0.0\n",
        "# fill the missing runtime values with the median value\n",
        "test_movies_imdb_combined_df['runtime'] = test_movies_imdb_combined_df['runtime'].fillna(test_movies_imdb_combined_df['runtime'].median())\n",
        "\n",
        "# fill the missing budget values with the median value\n",
        "test_movies_imdb_combined_df['budget'] = test_movies_imdb_combined_df['budget'].fillna(test_movies_imdb_combined_df['budget'].median())\n",
        "\n",
        "# remane the year feature\n",
        "test_movies_imdb_combined_df.rename(columns={'year':'production_year'}, inplace=True)\n"
      ]
    },
    {
      "cell_type": "code",
      "execution_count": null,
      "metadata": {
        "id": "oyohUDzojzfi"
      },
      "outputs": [],
      "source": [
        "# fill the missing budget values with the median value\n",
        "test_movies_imdb_combined_df['production_year'] = test_movies_imdb_combined_df['production_year'].fillna(test_movies_imdb_combined_df\n",
        "                                                                                                         ['production_year'].median())"
      ]
    },
    {
      "cell_type": "markdown",
      "metadata": {
        "id": "J3pMU_Ewdy_7"
      },
      "source": [
        "#### Model application"
      ]
    },
    {
      "cell_type": "markdown",
      "metadata": {
        "id": "-jHeNnlnuhMw"
      },
      "source": [
        "Next we exclude the columns not identified by PCA as important."
      ]
    },
    {
      "cell_type": "code",
      "execution_count": null,
      "metadata": {
        "colab": {
          "base_uri": "https://localhost:8080/"
        },
        "id": "pqGI33K2ugRP",
        "outputId": "2f2cf7ec-4fb8-4c69-8c48-037ea061a13d"
      },
      "outputs": [
        {
          "name": "stdout",
          "output_type": "stream",
          "text": [
            "17\n"
          ]
        }
      ],
      "source": [
        "# print PCA components lenght\n",
        "tmi_combined_df = test_movies_imdb_combined_df[(most_important_names)]\n",
        "print(len(list(tmi_combined_df.columns)))\n"
      ]
    },
    {
      "cell_type": "markdown",
      "metadata": {
        "id": "CYOpErXwWwfB"
      },
      "source": [
        "Next we will use the model to make predictions, after standardising the data."
      ]
    },
    {
      "cell_type": "code",
      "execution_count": null,
      "metadata": {
        "id": "ED9WbYZcXOs-"
      },
      "outputs": [],
      "source": [
        "# standardise the data\n",
        "tmi_combined_df = scaler.fit_transform(tmi_combined_df)\n",
        "# pca_reg.transform(test_movies_imdb_combined_df)"
      ]
    },
    {
      "cell_type": "code",
      "execution_count": null,
      "metadata": {
        "id": "yU5ozGuXWvn2"
      },
      "outputs": [],
      "source": [
        "# using the Random Forest model to make predictions\n",
        "y_hat = rf_reg.predict(tmi_combined_df)\n"
      ]
    },
    {
      "cell_type": "markdown",
      "metadata": {
        "id": "Oj90b-EXdjMc"
      },
      "source": [
        "#### Prediction dataframe"
      ]
    },
    {
      "cell_type": "code",
      "execution_count": null,
      "metadata": {
        "id": "IngZryXPZe6s"
      },
      "outputs": [],
      "source": [
        "# empty dataframe\n",
        "predictions = pd.DataFrame()\n",
        "\n",
        "# create the index\n",
        "predictions.index = test_movies_imdb_combined_df.index\n"
      ]
    },
    {
      "cell_type": "code",
      "execution_count": null,
      "metadata": {
        "colab": {
          "base_uri": "https://localhost:8080/",
          "height": 206
        },
        "id": "1High7St6DVe",
        "outputId": "a1f19e21-4229-4d58-91e8-881e56c56b18"
      },
      "outputs": [
        {
          "data": {
            "text/html": [
              "\n",
              "  <div id=\"df-3fe38004-aae2-458d-93e3-ddbf55007c38\">\n",
              "    <div class=\"colab-df-container\">\n",
              "      <div>\n",
              "<style scoped>\n",
              "    .dataframe tbody tr th:only-of-type {\n",
              "        vertical-align: middle;\n",
              "    }\n",
              "\n",
              "    .dataframe tbody tr th {\n",
              "        vertical-align: top;\n",
              "    }\n",
              "\n",
              "    .dataframe thead th {\n",
              "        text-align: right;\n",
              "    }\n",
              "</style>\n",
              "<table border=\"1\" class=\"dataframe\">\n",
              "  <thead>\n",
              "    <tr style=\"text-align: right;\">\n",
              "      <th></th>\n",
              "      <th>userId</th>\n",
              "      <th>movieId</th>\n",
              "      <th># rating</th>\n",
              "    </tr>\n",
              "  </thead>\n",
              "  <tbody>\n",
              "    <tr>\n",
              "      <th>0</th>\n",
              "      <td>1</td>\n",
              "      <td>2011</td>\n",
              "      <td>3.109059</td>\n",
              "    </tr>\n",
              "    <tr>\n",
              "      <th>1</th>\n",
              "      <td>1</td>\n",
              "      <td>4144</td>\n",
              "      <td>3.708431</td>\n",
              "    </tr>\n",
              "    <tr>\n",
              "      <th>2</th>\n",
              "      <td>1</td>\n",
              "      <td>5767</td>\n",
              "      <td>3.070073</td>\n",
              "    </tr>\n",
              "    <tr>\n",
              "      <th>3</th>\n",
              "      <td>1</td>\n",
              "      <td>6711</td>\n",
              "      <td>3.711057</td>\n",
              "    </tr>\n",
              "    <tr>\n",
              "      <th>4</th>\n",
              "      <td>1</td>\n",
              "      <td>7318</td>\n",
              "      <td>3.177734</td>\n",
              "    </tr>\n",
              "  </tbody>\n",
              "</table>\n",
              "</div>\n",
              "      <button class=\"colab-df-convert\" onclick=\"convertToInteractive('df-3fe38004-aae2-458d-93e3-ddbf55007c38')\"\n",
              "              title=\"Convert this dataframe to an interactive table.\"\n",
              "              style=\"display:none;\">\n",
              "        \n",
              "  <svg xmlns=\"http://www.w3.org/2000/svg\" height=\"24px\"viewBox=\"0 0 24 24\"\n",
              "       width=\"24px\">\n",
              "    <path d=\"M0 0h24v24H0V0z\" fill=\"none\"/>\n",
              "    <path d=\"M18.56 5.44l.94 2.06.94-2.06 2.06-.94-2.06-.94-.94-2.06-.94 2.06-2.06.94zm-11 1L8.5 8.5l.94-2.06 2.06-.94-2.06-.94L8.5 2.5l-.94 2.06-2.06.94zm10 10l.94 2.06.94-2.06 2.06-.94-2.06-.94-.94-2.06-.94 2.06-2.06.94z\"/><path d=\"M17.41 7.96l-1.37-1.37c-.4-.4-.92-.59-1.43-.59-.52 0-1.04.2-1.43.59L10.3 9.45l-7.72 7.72c-.78.78-.78 2.05 0 2.83L4 21.41c.39.39.9.59 1.41.59.51 0 1.02-.2 1.41-.59l7.78-7.78 2.81-2.81c.8-.78.8-2.07 0-2.86zM5.41 20L4 18.59l7.72-7.72 1.47 1.35L5.41 20z\"/>\n",
              "  </svg>\n",
              "      </button>\n",
              "      \n",
              "  <style>\n",
              "    .colab-df-container {\n",
              "      display:flex;\n",
              "      flex-wrap:wrap;\n",
              "      gap: 12px;\n",
              "    }\n",
              "\n",
              "    .colab-df-convert {\n",
              "      background-color: #E8F0FE;\n",
              "      border: none;\n",
              "      border-radius: 50%;\n",
              "      cursor: pointer;\n",
              "      display: none;\n",
              "      fill: #1967D2;\n",
              "      height: 32px;\n",
              "      padding: 0 0 0 0;\n",
              "      width: 32px;\n",
              "    }\n",
              "\n",
              "    .colab-df-convert:hover {\n",
              "      background-color: #E2EBFA;\n",
              "      box-shadow: 0px 1px 2px rgba(60, 64, 67, 0.3), 0px 1px 3px 1px rgba(60, 64, 67, 0.15);\n",
              "      fill: #174EA6;\n",
              "    }\n",
              "\n",
              "    [theme=dark] .colab-df-convert {\n",
              "      background-color: #3B4455;\n",
              "      fill: #D2E3FC;\n",
              "    }\n",
              "\n",
              "    [theme=dark] .colab-df-convert:hover {\n",
              "      background-color: #434B5C;\n",
              "      box-shadow: 0px 1px 3px 1px rgba(0, 0, 0, 0.15);\n",
              "      filter: drop-shadow(0px 1px 2px rgba(0, 0, 0, 0.3));\n",
              "      fill: #FFFFFF;\n",
              "    }\n",
              "  </style>\n",
              "\n",
              "      <script>\n",
              "        const buttonEl =\n",
              "          document.querySelector('#df-3fe38004-aae2-458d-93e3-ddbf55007c38 button.colab-df-convert');\n",
              "        buttonEl.style.display =\n",
              "          google.colab.kernel.accessAllowed ? 'block' : 'none';\n",
              "\n",
              "        async function convertToInteractive(key) {\n",
              "          const element = document.querySelector('#df-3fe38004-aae2-458d-93e3-ddbf55007c38');\n",
              "          const dataTable =\n",
              "            await google.colab.kernel.invokeFunction('convertToInteractive',\n",
              "                                                     [key], {});\n",
              "          if (!dataTable) return;\n",
              "\n",
              "          const docLinkHtml = 'Like what you see? Visit the ' +\n",
              "            '<a target=\"_blank\" href=https://colab.research.google.com/notebooks/data_table.ipynb>data table notebook</a>'\n",
              "            + ' to learn more about interactive tables.';\n",
              "          element.innerHTML = '';\n",
              "          dataTable['output_type'] = 'display_data';\n",
              "          await google.colab.output.renderOutput(dataTable, element);\n",
              "          const docLink = document.createElement('div');\n",
              "          docLink.innerHTML = docLinkHtml;\n",
              "          element.appendChild(docLink);\n",
              "        }\n",
              "      </script>\n",
              "    </div>\n",
              "  </div>\n",
              "  "
            ],
            "text/plain": [
              "  userId movieId  # rating\n",
              "0      1    2011  3.109059\n",
              "1      1    4144  3.708431\n",
              "2      1    5767  3.070073\n",
              "3      1    6711  3.711057\n",
              "4      1    7318  3.177734"
            ]
          },
          "execution_count": 134,
          "metadata": {},
          "output_type": "execute_result"
        }
      ],
      "source": [
        "# fill the dataframe\n",
        "predictions['userId'] = test_movies_imdb_combined_df['userId'].astype(object)\n",
        "predictions['movieId'] = test_movies_imdb_combined_df['movieId'].astype(object)\n",
        "predictions['rating'] = y_hat\n",
        "\n",
        "# print the first 5 predictions\n",
        "predictions.head()"
      ]
    },
    {
      "cell_type": "code",
      "execution_count": null,
      "metadata": {
        "colab": {
          "base_uri": "https://localhost:8080/",
          "height": 206
        },
        "id": "SNv8ReI_8NBb",
        "outputId": "de6e025e-b8a6-41fd-9e8c-12b40d2cb8e0"
      },
      "outputs": [
        {
          "data": {
            "text/html": [
              "\n",
              "  <div id=\"df-094b5916-9ac6-4622-9edd-6c0cd9926347\">\n",
              "    <div class=\"colab-df-container\">\n",
              "      <div>\n",
              "<style scoped>\n",
              "    .dataframe tbody tr th:only-of-type {\n",
              "        vertical-align: middle;\n",
              "    }\n",
              "\n",
              "    .dataframe tbody tr th {\n",
              "        vertical-align: top;\n",
              "    }\n",
              "\n",
              "    .dataframe thead th {\n",
              "        text-align: right;\n",
              "    }\n",
              "</style>\n",
              "<table border=\"1\" class=\"dataframe\">\n",
              "  <thead>\n",
              "    <tr style=\"text-align: right;\">\n",
              "      <th></th>\n",
              "      <th>Id</th>\n",
              "      <th>rating</th>\n",
              "    </tr>\n",
              "  </thead>\n",
              "  <tbody>\n",
              "    <tr>\n",
              "      <th>0</th>\n",
              "      <td>1_2011</td>\n",
              "      <td>3.109059</td>\n",
              "    </tr>\n",
              "    <tr>\n",
              "      <th>1</th>\n",
              "      <td>1_4144</td>\n",
              "      <td>3.708431</td>\n",
              "    </tr>\n",
              "    <tr>\n",
              "      <th>2</th>\n",
              "      <td>1_5767</td>\n",
              "      <td>3.070073</td>\n",
              "    </tr>\n",
              "    <tr>\n",
              "      <th>3</th>\n",
              "      <td>1_6711</td>\n",
              "      <td>3.711057</td>\n",
              "    </tr>\n",
              "    <tr>\n",
              "      <th>4</th>\n",
              "      <td>1_7318</td>\n",
              "      <td>3.177734</td>\n",
              "    </tr>\n",
              "  </tbody>\n",
              "</table>\n",
              "</div>\n",
              "      <button class=\"colab-df-convert\" onclick=\"convertToInteractive('df-094b5916-9ac6-4622-9edd-6c0cd9926347')\"\n",
              "              title=\"Convert this dataframe to an interactive table.\"\n",
              "              style=\"display:none;\">\n",
              "        \n",
              "  <svg xmlns=\"http://www.w3.org/2000/svg\" height=\"24px\"viewBox=\"0 0 24 24\"\n",
              "       width=\"24px\">\n",
              "    <path d=\"M0 0h24v24H0V0z\" fill=\"none\"/>\n",
              "    <path d=\"M18.56 5.44l.94 2.06.94-2.06 2.06-.94-2.06-.94-.94-2.06-.94 2.06-2.06.94zm-11 1L8.5 8.5l.94-2.06 2.06-.94-2.06-.94L8.5 2.5l-.94 2.06-2.06.94zm10 10l.94 2.06.94-2.06 2.06-.94-2.06-.94-.94-2.06-.94 2.06-2.06.94z\"/><path d=\"M17.41 7.96l-1.37-1.37c-.4-.4-.92-.59-1.43-.59-.52 0-1.04.2-1.43.59L10.3 9.45l-7.72 7.72c-.78.78-.78 2.05 0 2.83L4 21.41c.39.39.9.59 1.41.59.51 0 1.02-.2 1.41-.59l7.78-7.78 2.81-2.81c.8-.78.8-2.07 0-2.86zM5.41 20L4 18.59l7.72-7.72 1.47 1.35L5.41 20z\"/>\n",
              "  </svg>\n",
              "      </button>\n",
              "      \n",
              "  <style>\n",
              "    .colab-df-container {\n",
              "      display:flex;\n",
              "      flex-wrap:wrap;\n",
              "      gap: 12px;\n",
              "    }\n",
              "\n",
              "    .colab-df-convert {\n",
              "      background-color: #E8F0FE;\n",
              "      border: none;\n",
              "      border-radius: 50%;\n",
              "      cursor: pointer;\n",
              "      display: none;\n",
              "      fill: #1967D2;\n",
              "      height: 32px;\n",
              "      padding: 0 0 0 0;\n",
              "      width: 32px;\n",
              "    }\n",
              "\n",
              "    .colab-df-convert:hover {\n",
              "      background-color: #E2EBFA;\n",
              "      box-shadow: 0px 1px 2px rgba(60, 64, 67, 0.3), 0px 1px 3px 1px rgba(60, 64, 67, 0.15);\n",
              "      fill: #174EA6;\n",
              "    }\n",
              "\n",
              "    [theme=dark] .colab-df-convert {\n",
              "      background-color: #3B4455;\n",
              "      fill: #D2E3FC;\n",
              "    }\n",
              "\n",
              "    [theme=dark] .colab-df-convert:hover {\n",
              "      background-color: #434B5C;\n",
              "      box-shadow: 0px 1px 3px 1px rgba(0, 0, 0, 0.15);\n",
              "      filter: drop-shadow(0px 1px 2px rgba(0, 0, 0, 0.3));\n",
              "      fill: #FFFFFF;\n",
              "    }\n",
              "  </style>\n",
              "\n",
              "      <script>\n",
              "        const buttonEl =\n",
              "          document.querySelector('#df-094b5916-9ac6-4622-9edd-6c0cd9926347 button.colab-df-convert');\n",
              "        buttonEl.style.display =\n",
              "          google.colab.kernel.accessAllowed ? 'block' : 'none';\n",
              "\n",
              "        async function convertToInteractive(key) {\n",
              "          const element = document.querySelector('#df-094b5916-9ac6-4622-9edd-6c0cd9926347');\n",
              "          const dataTable =\n",
              "            await google.colab.kernel.invokeFunction('convertToInteractive',\n",
              "                                                     [key], {});\n",
              "          if (!dataTable) return;\n",
              "\n",
              "          const docLinkHtml = 'Like what you see? Visit the ' +\n",
              "            '<a target=\"_blank\" href=https://colab.research.google.com/notebooks/data_table.ipynb>data table notebook</a>'\n",
              "            + ' to learn more about interactive tables.';\n",
              "          element.innerHTML = '';\n",
              "          dataTable['output_type'] = 'display_data';\n",
              "          await google.colab.output.renderOutput(dataTable, element);\n",
              "          const docLink = document.createElement('div');\n",
              "          docLink.innerHTML = docLinkHtml;\n",
              "          element.appendChild(docLink);\n",
              "        }\n",
              "      </script>\n",
              "    </div>\n",
              "  </div>\n",
              "  "
            ],
            "text/plain": [
              "       Id    rating\n",
              "0  1_2011  3.109059\n",
              "1  1_4144  3.708431\n",
              "2  1_5767  3.070073\n",
              "3  1_6711  3.711057\n",
              "4  1_7318  3.177734"
            ]
          },
          "execution_count": 141,
          "metadata": {},
          "output_type": "execute_result"
        }
      ],
      "source": [
        "# get the predictions into the correct format\n",
        "cols = ['userId','movieId']\n",
        "predictions['rating'] = predictions[cols].apply(lambda row: '_'.join(row.values.astype(str)), axis=1)\n",
        "predictions.rename(columns={'combined':'Id'}, inplace=True)\n",
        "predictions = predictions[['Id','rating']]\n",
        "predictions.head()"
      ]
    },
    {
      "cell_type": "code",
      "execution_count": null,
      "metadata": {
        "id": "HtMzd8mjcxds"
      },
      "outputs": [],
      "source": [
        "# export the prediction dataframe to csv\n",
        "predictions.to_csv('rf_team9_29042022.csv', index=False, encoding='utf-8-sig')\n",
        "!cp rf_team9_29042022.csv \"drive/My Drive/Colab Notebooks/Movie Recommender\""
      ]
    }
  ],
  "metadata": {
    "colab": {
      "collapsed_sections": [
        "YrcNm5q5-77Q",
        "2dRJzLPu_RNf",
        "ncQT9BysAdi7",
        "G5DQjJS8AjfT",
        "m-o7VjS78gS6"
      ],
      "name": "Recommender_Team_9_05052022.ipynb",
      "provenance": []
    },
    "kernelspec": {
      "display_name": "Python 3",
      "name": "python3"
    },
    "language_info": {
      "name": "python"
    }
  },
  "nbformat": 4,
  "nbformat_minor": 0
}